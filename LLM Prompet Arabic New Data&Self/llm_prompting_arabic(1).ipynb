{
 "cells": [
  {
   "cell_type": "code",
   "execution_count": 1,
   "metadata": {},
   "outputs": [],
   "source": [
    "import numpy as np\n",
    "import pandas as pd\n",
    "from tqdm import tqdm\n",
    "from groq import Groq\n",
    "from time import sleep\n",
    "import re\n",
    "from sklearn.metrics import mean_absolute_error\n",
    "import pandas as pd\n",
    "from sklearn.metrics import f1_score\n",
    "from sklearn.metrics import classification_report\n",
    "import random\n",
    "random.seed(42)"
   ]
  },
  {
   "cell_type": "code",
   "execution_count": 2,
   "metadata": {},
   "outputs": [],
   "source": [
    "def dprint(s, debug):\n",
    "    if debug:\n",
    "        print(s)"
   ]
  },
  {
   "cell_type": "code",
   "execution_count": null,
   "metadata": {},
   "outputs": [],
   "source": [
    "\n",
    "YOUR_GROQ_API_KEY = ''  # Get from https://console.groq.com/keys\n",
    "groq_client = Groq(api_key=YOUR_GROQ_API_KEY)\n",
    "\n",
    "def call_groq_api(prompt, student_configs, pre_processing, post_processing, model='llama3-70b-8192', debug=False):\n",
    "    prompt = pre_processing(prompt)\n",
    "    \n",
    "    groq_params = {\n",
    "        'messages': [{'role': 'user', 'content': prompt}],\n",
    "        'model': model,\n",
    "        'max_tokens': student_configs.get('max_tokens', 512),\n",
    "        'temperature': student_configs.get('temperature', 0.7),\n",
    "        'top_p': student_configs.get('top_p', 0.7),\n",
    "        'stop': student_configs.get('stop', None),\n",
    "    }\n",
    "    \n",
    "    output = groq_client.chat.completions.create(**groq_params)\n",
    "    \n",
    "    dprint('*****prompt*****', debug)\n",
    "    dprint(prompt, debug)\n",
    "    dprint('*****result*****', debug)\n",
    "    res = output.choices[0].message.content\n",
    "    dprint(res, debug)\n",
    "    dprint('*****output*****', debug)\n",
    "    labels_only = post_processing(res)\n",
    "    dprint('POST PROCESSED', debug)\n",
    "    dprint(labels_only, debug)\n",
    "    dprint('=========', debug)\n",
    "    return labels_only"
   ]
  },
  {
   "cell_type": "code",
   "execution_count": null,
   "metadata": {},
   "outputs": [],
   "source": [
    "# model_names = [\n",
    "#     'togethercomputer/llama-2-7b', #LLaMa-2-7B\n",
    "#     'togethercomputer/llama-2-13b', #LLaMa-2-13B\n",
    "#     'togethercomputer/llama-2-70b', #LLaMa-2-70B\n",
    "#     'togethercomputer/llama-2-70b-chat', #LLaMa-2-70B-Chat\n",
    "# ]"
   ]
  },
  {
   "cell_type": "code",
   "execution_count": 4,
   "metadata": {},
   "outputs": [],
   "source": [
    "# Most likely current Groq model names:\n",
    "model_names = [\n",
    "    'llama-3.1-8b-instant',     \n",
    "    \"llama-3.3-70b-versatile\",              \n",
    "]\n",
    "\n"
   ]
  },
  {
   "cell_type": "code",
   "execution_count": 5,
   "metadata": {},
   "outputs": [],
   "source": [
    "def get_train_df(topn = 10):\n",
    "    train_df = pd.read_excel('train_split.xlsx')\n",
    "    return train_df[:topn]\n"
   ]
  },
  {
   "cell_type": "code",
   "execution_count": 6,
   "metadata": {},
   "outputs": [],
   "source": [
    "def get_test_set(topn=10):\n",
    "    test_df = pd.read_excel('test_split.xlsx')\n",
    "    return test_df.sample(topn)\n",
    "    "
   ]
  },
  {
   "cell_type": "code",
   "execution_count": 7,
   "metadata": {},
   "outputs": [],
   "source": [
    "def get_eval_df(topn = 5):\n",
    "    eval_df = pd.read_excel('dev_split.xlsx')\n",
    "    return eval_df.sample(topn)\n",
    "    "
   ]
  },
  {
   "cell_type": "code",
   "execution_count": 8,
   "metadata": {},
   "outputs": [],
   "source": [
    "def test_range(df, prompt_configs, prompt_prefix, examples, prompt_suffix,\n",
    "               pre_processing=lambda x:x, post_processing=lambda y:y,\n",
    "               model='llama-3.3-70b-versatile', debug=False):\n",
    "    text_ids = []\n",
    "    answers = []\n",
    "    model_responses = []\n",
    "    corrected_model_responses = []\n",
    "    text_list = []\n",
    "    \n",
    "    for idx, row in tqdm(df.iterrows()):\n",
    "        text_ids.append(idx)  # Use index as ID if no ID column\n",
    "        fixed_prompt = row['text'] + \"\\n\"\n",
    "        text_list.append(row['text'])\n",
    "        fixed_prompt = pre_processing(fixed_prompt)\n",
    "        prompt = prompt_prefix + examples + fixed_prompt + prompt_suffix\n",
    "        answer = row['label']\n",
    "        answers.append(answer)\n",
    "        model_response = call_groq_api(prompt, prompt_configs, pre_processing, lambda y:y, model=model, debug=debug) \n",
    "        corrected_model_response = post_processing(model_response)\n",
    "        corrected_model_responses.append(corrected_model_response)\n",
    "        model_responses.append(model_response)\n",
    "        sleep(1)\n",
    "    \n",
    "    result_df = pd.DataFrame({\n",
    "        'text_id': text_ids, \n",
    "        'text': text_list, \n",
    "        'model_responses': model_responses, \n",
    "        'corrected_model_responses': corrected_model_responses, \n",
    "        'true_label': answers\n",
    "    })\n",
    "    return result_df"
   ]
  },
  {
   "attachments": {},
   "cell_type": "markdown",
   "metadata": {},
   "source": [
    "## Zero Shot Prompt"
   ]
  },
  {
   "cell_type": "code",
   "execution_count": 9,
   "metadata": {},
   "outputs": [
    {
     "name": "stdout",
     "output_type": "stream",
     "text": [
      "Found categories: ['business', 'education', 'finance', 'health', 'medical', 'shopping', 'social', 'sports', 'tech']\n",
      "Total categories: 9\n"
     ]
    }
   ],
   "source": [
    "def get_all_categories():\n",
    "    train_df = pd.read_excel('train_split.xlsx')\n",
    "    \n",
    "    all_categories = sorted(train_df['label'].unique())\n",
    "    print(\"Found categories:\", all_categories)\n",
    "    print(\"Total categories:\", len(all_categories))\n",
    "    \n",
    "    return all_categories\n",
    "\n",
    "categories = get_all_categories()"
   ]
  },
  {
   "cell_type": "code",
   "execution_count": 10,
   "metadata": {},
   "outputs": [
    {
     "name": "stdout",
     "output_type": "stream",
     "text": [
      "Found categories: ['business', 'education', 'finance', 'health', 'medical', 'shopping', 'social', 'sports', 'tech']\n",
      "Total categories: 9\n"
     ]
    }
   ],
   "source": [
    "categories_list = get_all_categories()\n",
    "categories_text = \", \".join(categories_list)\n",
    "\n",
    "prompt_prefix_zs = f'''\n",
    "Classify the following Combiend Arabic and English text into one of these categories: \n",
    "{categories_text}.\n",
    "\n",
    "Your output should only be one of these exact category names:\n",
    "{chr(10).join(categories_list)}\n",
    "'''\n",
    "\n",
    "prompt_examples_zs = \"Input Text: \"\n",
    "prompt_suffix_zs = \"Output: \"\n"
   ]
  },
  {
   "cell_type": "code",
   "execution_count": 11,
   "metadata": {},
   "outputs": [],
   "source": [
    "def your_pre_processing_zs(input_string):\n",
    "    return re.sub(r\"@user\",\"\", input_string).strip()\n",
    "\n",
    "def your_post_processing_zs(output_string):\n",
    "    output_clean = output_string.strip().lower()\n",
    "    \n",
    "    if 'business' in output_clean:\n",
    "        return 'business'\n",
    "    elif 'shopping' in output_clean:\n",
    "        return 'shopping'\n",
    "    elif 'finance' in output_clean:\n",
    "        return 'finance'\n",
    "    elif 'education' in output_clean:\n",
    "        return 'education'\n",
    "    elif 'tech' in output_clean :\n",
    "        return 'tech'\n",
    "    elif 'technology' in output_clean or \"tech\" in output_clean:\n",
    "        return 'tech'\n",
    "    elif 'sports' in output_clean:\n",
    "        return 'sports'\n",
    "    elif 'medical' in output_clean :\n",
    "        return 'medical'\n",
    "    elif  'social' in output_clean:\n",
    "        return 'social'\n",
    "    else:\n",
    "        return output_string.strip()  "
   ]
  },
  {
   "cell_type": "code",
   "execution_count": 12,
   "metadata": {},
   "outputs": [
    {
     "name": "stdout",
     "output_type": "stream",
     "text": [
      "llama-3.3-70b-versatile\n"
     ]
    }
   ],
   "source": [
    "prompt_config_zs = {\n",
    "    'max_tokens': 3,\n",
    "    'temperature': 0.4,\n",
    "    'top_p': 0.7,\n",
    "    'stop': []\n",
    "}\n",
    "\n",
    "model = 'llama-3.3-70b-versatile'\n",
    "print(model)\n",
    "\n",
    "eval_df = get_eval_df(50)"
   ]
  },
  {
   "cell_type": "code",
   "execution_count": 13,
   "metadata": {},
   "outputs": [
    {
     "name": "stderr",
     "output_type": "stream",
     "text": [
      "50it [01:42,  2.04s/it]"
     ]
    },
    {
     "name": "stdout",
     "output_type": "stream",
     "text": [
      "    text_id                                               text  \\\n",
      "0      1920  هل تعتقد ان economic policy الحاليه ستوثر علي ...   \n",
      "1      5236  من المهم ان تتنوع investment portfolios لتقليل...   \n",
      "2      2294  ما هي اهم استراتيجيات business development الت...   \n",
      "3      4788  ما هي افضل الطرق لجعل online courses اكثر تفاع...   \n",
      "4      6668  هل تعتقد ان استخدام biotechnology يمكن ان يحسن...   \n",
      "5      9587  زياده employee satisfaction يمكن ان تودي الي ت...   \n",
      "6      7404  في football من المهم جدا ان تكون لديك good com...   \n",
      "7      1413  تاثير public health علي المجتمع يمكن ان يكون ع...   \n",
      "8      6856  لتكون ناجحا في marketing يجب ان تعرف جمهورك ال...   \n",
      "9      7760  نحتاج الي مزيد من الابحاث حول كيفيه تاثير الاد...   \n",
      "10     2014  الاستثمار في human resources يعد خطوه حاسمه لت...   \n",
      "11     1523  عندما نتحدث عن software development يجب ان ناخ...   \n",
      "12     8119  قد يودي استخدام novel drugs الي تحسين treatmen...   \n",
      "13     3754  عندما تتحدث عن startup culture من المهم تشجيع ...   \n",
      "14     4295  اذا تم دمج machine learning في computer networ...   \n",
      "15     3746  يمكن ان تودي advanced analytics الي تحسين الاد...   \n",
      "16     6260  تاثير educational technology علي التعلم يمكن ا...   \n",
      "17     5082  هل تعتقد ان remote work سيوثر علي team dynamic...   \n",
      "18     6857  اذا كنت تبحث عن investment opportunities فكن ح...   \n",
      "19     2072  يجب علي الموسسات التعليميه ان تتبني modern tec...   \n",
      "20     4379  من الضروري استخدام artificial intelligence في ...   \n",
      "21      650  في online shopping يمكنك العثور علي amazing de...   \n",
      "22     9244  في عالم اليوم mental health تحتاج الي اهتمام ا...   \n",
      "23     2182  من المهم ان نفهم ان disease prevention يتطلب c...   \n",
      "24     7914  اذا كنت تبحث عن discounts تاكد من زياره online...   \n",
      "25     8594  كيف يمكن ان توثر health technology الجديده علي...   \n",
      "26     2359  اذا تم تحديث curriculum بانتظام فان ذلك سيساعد...   \n",
      "27     6350  عندما تقارن بين الاسعار تاكد من استخدام price ...   \n",
      "28     2312  اذا قمت بتطبيق sports psychology في football س...   \n",
      "29    10038  كيف يمكن ان يوثر استخدام biotechnology علي تطو...   \n",
      "30     8298  لزياده فعاليه marketing strategies يجب ان نركز...   \n",
      "31     3275  في عصر digital education يجب علي المعلمين استخ...   \n",
      "32     5309  اذا كان لديك limited budget حاول استخدام coupo...   \n",
      "33     6336  اذا كنت تريد شراء ملابس جديده تحقق من online f...   \n",
      "34     5230  عندما تشتري منتجات online تاكد من قراءه custom...   \n",
      "35     9932  اذا كان لديك اي اسيله حول clinical trials فلا ...   \n",
      "36     5920  لتقليل مخاطر الامراض يجب علي الحكومات investir...   \n",
      "37     5642  من الضروري ان نفهم ان financial literacy تلعب ...   \n",
      "38     5750  هل تتوقع ان توثر innovation في المنتجات الجديد...   \n",
      "39     1433  في عالم social media اليوم من المهم ان نكون وا...   \n",
      "40     7139  عندما تتداول من المهم جدا ان تعرف كيف تدير ris...   \n",
      "41     4662  في عالم business تحتاج الشركات الي innovative ...   \n",
      "42     7009  هل تعتقد ان التسوق ل fashion items عبر website...   \n",
      "43     8348  يعتبر distance learning خيارا ممتازا للطلاب ال...   \n",
      "44     7359  ما هي استراتيجيات soccer التي تنصح بها لتحسين ...   \n",
      "45     7100  للحصول علي افضل تجربه grocery shopping استخدم ...   \n",
      "46     4898  اذا كنت تريد النجاح في academic research عليك ...   \n",
      "47     1835  اذا استثمرنا في community development سنحقق po...   \n",
      "48     1850  اذا كانت family values قويه فان interpersonal ...   \n",
      "49     9935  تعتبر cryptocurrency واحده من اكثر الطرق المثي...   \n",
      "\n",
      "   model_responses corrected_model_responses true_label  \n",
      "0          finance                   finance    finance  \n",
      "1          finance                   finance    finance  \n",
      "2         business                  business   business  \n",
      "3        education                 education  education  \n",
      "4          medical                   medical    medical  \n",
      "5         business                  business   business  \n",
      "6           sports                    sports     sports  \n",
      "7           health                    health     health  \n",
      "8         business                  business   business  \n",
      "9          medical                   medical    medical  \n",
      "10        business                  business   business  \n",
      "11            tech                      tech       tech  \n",
      "12         medical                   medical    medical  \n",
      "13        business                  business   business  \n",
      "14            tech                      tech       tech  \n",
      "15          sports                    sports     sports  \n",
      "16       education                 education  education  \n",
      "17        business                  business   business  \n",
      "18         finance                   finance    finance  \n",
      "19       education                 education  education  \n",
      "20            tech                      tech       tech  \n",
      "21        shopping                  shopping   shopping  \n",
      "22          health                    health     health  \n",
      "23          health                    health     health  \n",
      "24        shopping                  shopping   shopping  \n",
      "25         medical                   medical     health  \n",
      "26       education                 education  education  \n",
      "27        shopping                  shopping   shopping  \n",
      "28          sports                    sports     sports  \n",
      "29         medical                   medical    medical  \n",
      "30        business                  business   business  \n",
      "31       education                 education  education  \n",
      "32        shopping                  shopping   shopping  \n",
      "33        shopping                  shopping   shopping  \n",
      "34        shopping                  shopping   shopping  \n",
      "35         medical                   medical    medical  \n",
      "36          health                    health     health  \n",
      "37         finance                   finance    finance  \n",
      "38        business                  business   business  \n",
      "39          social                    social     social  \n",
      "40         finance                   finance    finance  \n",
      "41        business                  business   business  \n",
      "42        shopping                  shopping   shopping  \n",
      "43       education                 education  education  \n",
      "44          sports                    sports     sports  \n",
      "45        shopping                  shopping   shopping  \n",
      "46       education                 education  education  \n",
      "47          social                    social     social  \n",
      "48          social                    social     social  \n",
      "49         finance                   finance    finance  \n"
     ]
    },
    {
     "name": "stderr",
     "output_type": "stream",
     "text": [
      "\n"
     ]
    }
   ],
   "source": [
    "results_df = test_range(eval_df, prompt_config_zs, prompt_examples_zs, prompt_prefix_zs, prompt_suffix_zs, pre_processing=your_pre_processing_zs, post_processing=your_post_processing_zs, model=model, debug=False)\n",
    "print(results_df)"
   ]
  },
  {
   "cell_type": "code",
   "execution_count": 14,
   "metadata": {},
   "outputs": [
    {
     "data": {
      "text/plain": [
       "49"
      ]
     },
     "execution_count": 14,
     "metadata": {},
     "output_type": "execute_result"
    }
   ],
   "source": [
    "sum(results_df['corrected_model_responses']==results_df['true_label'].values)"
   ]
  },
  {
   "cell_type": "code",
   "execution_count": 15,
   "metadata": {},
   "outputs": [
    {
     "data": {
      "text/plain": [
       "0.9797979797979798"
      ]
     },
     "execution_count": 15,
     "metadata": {},
     "output_type": "execute_result"
    }
   ],
   "source": [
    "f1_score(results_df['true_label'], results_df['corrected_model_responses'],average='weighted')"
   ]
  },
  {
   "cell_type": "code",
   "execution_count": 16,
   "metadata": {},
   "outputs": [
    {
     "name": "stderr",
     "output_type": "stream",
     "text": [
      "10it [00:18,  1.87s/it]\n"
     ]
    }
   ],
   "source": [
    "test_df = get_test_set()\n",
    "results_df = test_range(test_df, prompt_config_zs, prompt_examples_zs, prompt_prefix_zs, prompt_suffix_zs, pre_processing=your_pre_processing_zs, post_processing=your_post_processing_zs, model=model, debug=False)\n",
    "results_df.to_excel('zsl_test_results.xlsx', index=False)"
   ]
  },
  {
   "cell_type": "code",
   "execution_count": 17,
   "metadata": {},
   "outputs": [
    {
     "name": "stdout",
     "output_type": "stream",
     "text": [
      "              precision    recall  f1-score   support\n",
      "\n",
      "    business     1.0000    1.0000    1.0000         1\n",
      "     finance     1.0000    1.0000    1.0000         1\n",
      "     medical     1.0000    1.0000    1.0000         2\n",
      "    shopping     1.0000    1.0000    1.0000         3\n",
      "      social     1.0000    1.0000    1.0000         2\n",
      "        tech     1.0000    1.0000    1.0000         1\n",
      "\n",
      "    accuracy                         1.0000        10\n",
      "   macro avg     1.0000    1.0000    1.0000        10\n",
      "weighted avg     1.0000    1.0000    1.0000        10\n",
      "\n"
     ]
    }
   ],
   "source": [
    "print(classification_report(results_df['true_label'], results_df['corrected_model_responses'], digits=4))"
   ]
  },
  {
   "cell_type": "code",
   "execution_count": 18,
   "metadata": {},
   "outputs": [],
   "source": [
    "joined_df = results_df.set_index(\"text_id\").join(test_df.set_index('text'), lsuffix='_caller', rsuffix='_other')"
   ]
  },
  {
   "cell_type": "code",
   "execution_count": 19,
   "metadata": {},
   "outputs": [],
   "source": [
    "def is_codemixed(text):\n",
    "    return bool(re.search(r'[A-Za-z]', text)) and bool(re.search(r'[\\u0600-\\u06FF]', text))\n",
    "joined_df['codemixed'] = joined_df['text'].apply(is_codemixed)\n"
   ]
  },
  {
   "cell_type": "code",
   "execution_count": 20,
   "metadata": {},
   "outputs": [],
   "source": [
    "cm = joined_df.loc[joined_df['codemixed'] == 1]"
   ]
  },
  {
   "cell_type": "code",
   "execution_count": 21,
   "metadata": {},
   "outputs": [
    {
     "data": {
      "text/html": [
       "<div>\n",
       "<style scoped>\n",
       "    .dataframe tbody tr th:only-of-type {\n",
       "        vertical-align: middle;\n",
       "    }\n",
       "\n",
       "    .dataframe tbody tr th {\n",
       "        vertical-align: top;\n",
       "    }\n",
       "\n",
       "    .dataframe thead th {\n",
       "        text-align: right;\n",
       "    }\n",
       "</style>\n",
       "<table border=\"1\" class=\"dataframe\">\n",
       "  <thead>\n",
       "    <tr style=\"text-align: right;\">\n",
       "      <th></th>\n",
       "      <th>text</th>\n",
       "      <th>model_responses</th>\n",
       "      <th>corrected_model_responses</th>\n",
       "      <th>true_label</th>\n",
       "      <th>label</th>\n",
       "      <th>codemixed</th>\n",
       "    </tr>\n",
       "    <tr>\n",
       "      <th>text_id</th>\n",
       "      <th></th>\n",
       "      <th></th>\n",
       "      <th></th>\n",
       "      <th></th>\n",
       "      <th></th>\n",
       "      <th></th>\n",
       "    </tr>\n",
       "  </thead>\n",
       "  <tbody>\n",
       "    <tr>\n",
       "      <th>13177</th>\n",
       "      <td>تحتاج الي استخدام encryption techniques لتحسين...</td>\n",
       "      <td>tech</td>\n",
       "      <td>tech</td>\n",
       "      <td>tech</td>\n",
       "      <td>NaN</td>\n",
       "      <td>True</td>\n",
       "    </tr>\n",
       "    <tr>\n",
       "      <th>13441</th>\n",
       "      <td>ما هي افضل الطرق للحصول علي exclusive offers ا...</td>\n",
       "      <td>shopping</td>\n",
       "      <td>shopping</td>\n",
       "      <td>shopping</td>\n",
       "      <td>NaN</td>\n",
       "      <td>True</td>\n",
       "    </tr>\n",
       "    <tr>\n",
       "      <th>13701</th>\n",
       "      <td>عند التسوق للملابس ابحث عن trendy styles التي ...</td>\n",
       "      <td>shopping</td>\n",
       "      <td>shopping</td>\n",
       "      <td>shopping</td>\n",
       "      <td>NaN</td>\n",
       "      <td>True</td>\n",
       "    </tr>\n",
       "    <tr>\n",
       "      <th>12296</th>\n",
       "      <td>اذا استمرت المجتمعات في تجاهل public opinion ف...</td>\n",
       "      <td>social</td>\n",
       "      <td>social</td>\n",
       "      <td>social</td>\n",
       "      <td>NaN</td>\n",
       "      <td>True</td>\n",
       "    </tr>\n",
       "    <tr>\n",
       "      <th>8829</th>\n",
       "      <td>ماذا لو استخدمنا digital tools في تطوير commun...</td>\n",
       "      <td>social</td>\n",
       "      <td>social</td>\n",
       "      <td>social</td>\n",
       "      <td>NaN</td>\n",
       "      <td>True</td>\n",
       "    </tr>\n",
       "    <tr>\n",
       "      <th>14170</th>\n",
       "      <td>كلما زادت دقه diagnostics زادت احتماليه نجاح o...</td>\n",
       "      <td>medical</td>\n",
       "      <td>medical</td>\n",
       "      <td>medical</td>\n",
       "      <td>NaN</td>\n",
       "      <td>True</td>\n",
       "    </tr>\n",
       "    <tr>\n",
       "      <th>11106</th>\n",
       "      <td>من المهم ان تعرف كيف تستخدم loyalty programs ل...</td>\n",
       "      <td>shopping</td>\n",
       "      <td>shopping</td>\n",
       "      <td>shopping</td>\n",
       "      <td>NaN</td>\n",
       "      <td>True</td>\n",
       "    </tr>\n",
       "    <tr>\n",
       "      <th>12783</th>\n",
       "      <td>يجب ان تتعلم كيفيه استخدام financial tools لتح...</td>\n",
       "      <td>finance</td>\n",
       "      <td>finance</td>\n",
       "      <td>finance</td>\n",
       "      <td>NaN</td>\n",
       "      <td>True</td>\n",
       "    </tr>\n",
       "    <tr>\n",
       "      <th>1035</th>\n",
       "      <td>هل تعلم ان effective project management يمكن ا...</td>\n",
       "      <td>business</td>\n",
       "      <td>business</td>\n",
       "      <td>business</td>\n",
       "      <td>NaN</td>\n",
       "      <td>True</td>\n",
       "    </tr>\n",
       "    <tr>\n",
       "      <th>6841</th>\n",
       "      <td>من المهم جدا ان نفهم كيف توثر pharmaceuticals ...</td>\n",
       "      <td>medical</td>\n",
       "      <td>medical</td>\n",
       "      <td>medical</td>\n",
       "      <td>NaN</td>\n",
       "      <td>True</td>\n",
       "    </tr>\n",
       "  </tbody>\n",
       "</table>\n",
       "</div>"
      ],
      "text/plain": [
       "                                                      text model_responses  \\\n",
       "text_id                                                                      \n",
       "13177    تحتاج الي استخدام encryption techniques لتحسين...            tech   \n",
       "13441    ما هي افضل الطرق للحصول علي exclusive offers ا...        shopping   \n",
       "13701    عند التسوق للملابس ابحث عن trendy styles التي ...        shopping   \n",
       "12296    اذا استمرت المجتمعات في تجاهل public opinion ف...          social   \n",
       "8829     ماذا لو استخدمنا digital tools في تطوير commun...          social   \n",
       "14170    كلما زادت دقه diagnostics زادت احتماليه نجاح o...         medical   \n",
       "11106    من المهم ان تعرف كيف تستخدم loyalty programs ل...        shopping   \n",
       "12783    يجب ان تتعلم كيفيه استخدام financial tools لتح...         finance   \n",
       "1035     هل تعلم ان effective project management يمكن ا...        business   \n",
       "6841     من المهم جدا ان نفهم كيف توثر pharmaceuticals ...         medical   \n",
       "\n",
       "        corrected_model_responses true_label label  codemixed  \n",
       "text_id                                                        \n",
       "13177                        tech       tech   NaN       True  \n",
       "13441                    shopping   shopping   NaN       True  \n",
       "13701                    shopping   shopping   NaN       True  \n",
       "12296                      social     social   NaN       True  \n",
       "8829                       social     social   NaN       True  \n",
       "14170                     medical    medical   NaN       True  \n",
       "11106                    shopping   shopping   NaN       True  \n",
       "12783                     finance    finance   NaN       True  \n",
       "1035                     business   business   NaN       True  \n",
       "6841                      medical    medical   NaN       True  "
      ]
     },
     "execution_count": 21,
     "metadata": {},
     "output_type": "execute_result"
    }
   ],
   "source": [
    "cm"
   ]
  },
  {
   "cell_type": "code",
   "execution_count": 22,
   "metadata": {},
   "outputs": [
    {
     "name": "stdout",
     "output_type": "stream",
     "text": [
      "              precision    recall  f1-score   support\n",
      "\n",
      "    business     1.0000    1.0000    1.0000         1\n",
      "     finance     1.0000    1.0000    1.0000         1\n",
      "     medical     1.0000    1.0000    1.0000         2\n",
      "    shopping     1.0000    1.0000    1.0000         3\n",
      "      social     1.0000    1.0000    1.0000         2\n",
      "        tech     1.0000    1.0000    1.0000         1\n",
      "\n",
      "    accuracy                         1.0000        10\n",
      "   macro avg     1.0000    1.0000    1.0000        10\n",
      "weighted avg     1.0000    1.0000    1.0000        10\n",
      "\n"
     ]
    }
   ],
   "source": [
    "print(classification_report(cm['true_label'], cm['corrected_model_responses'], digits=4,zero_division=0))"
   ]
  },
  {
   "cell_type": "code",
   "execution_count": 23,
   "metadata": {},
   "outputs": [],
   "source": [
    "mono = joined_df.loc[joined_df['codemixed'] == 0]\n"
   ]
  },
  {
   "cell_type": "code",
   "execution_count": 24,
   "metadata": {},
   "outputs": [],
   "source": [
    "#Empty \n",
    "#print(classification_report(mono['true_label'], mono['corrected_model_responses'], digits=4,zero_division=0))"
   ]
  },
  {
   "attachments": {},
   "cell_type": "markdown",
   "metadata": {},
   "source": [
    "## Few Shot Prompting (In Context Learning)\n",
    "Useful to fix output format"
   ]
  },
  {
   "cell_type": "code",
   "execution_count": 25,
   "metadata": {},
   "outputs": [],
   "source": [
    "train_df = get_train_df(50)"
   ]
  },
  {
   "cell_type": "code",
   "execution_count": 26,
   "metadata": {},
   "outputs": [],
   "source": [
    "def create_example(row):\n",
    "    line1 = \"Input Text: \" + row['text'] + \"\\n\"\n",
    "    label = row['label']  \n",
    "    line2 = \"Output: \" + label + \"\\n\"\n",
    "    return line1 + line2"
   ]
  },
  {
   "cell_type": "code",
   "execution_count": 27,
   "metadata": {},
   "outputs": [],
   "source": [
    "prompt_examples_icl = \"\"\n",
    "for idx,row in train_df.iterrows():\n",
    "    ex = create_example(row)\n",
    "    prompt_examples_icl += ex"
   ]
  },
  {
   "cell_type": "code",
   "execution_count": 28,
   "metadata": {},
   "outputs": [],
   "source": [
    "prompt_examples_icl = prompt_examples_icl + \"Input Text: \""
   ]
  },
  {
   "cell_type": "code",
   "execution_count": 29,
   "metadata": {},
   "outputs": [
    {
     "name": "stdout",
     "output_type": "stream",
     "text": [
      "Found categories: ['business', 'education', 'finance', 'health', 'medical', 'shopping', 'social', 'sports', 'tech']\n",
      "Total categories: 9\n"
     ]
    }
   ],
   "source": [
    "categories = get_all_categories()\n",
    "categories_text = \", \".join(categories)\n",
    "\n",
    "prompt_prefix_icl = f'''\n",
    "Classify the following Combined Arabic and English text into one of these categories: \n",
    "{categories_text}.\n",
    "\n",
    "Your output should only be one of these exact category names like in the examples below.\n",
    "'''\n",
    "\n",
    "prompt_suffix_icl = \"Output: \"\n"
   ]
  },
  {
   "cell_type": "code",
   "execution_count": 30,
   "metadata": {},
   "outputs": [
    {
     "name": "stderr",
     "output_type": "stream",
     "text": [
      "50it [06:02,  7.25s/it]"
     ]
    },
    {
     "name": "stdout",
     "output_type": "stream",
     "text": [
      "    text_id                                               text  \\\n",
      "0      1920  هل تعتقد ان economic policy الحاليه ستوثر علي ...   \n",
      "1      5236  من المهم ان تتنوع investment portfolios لتقليل...   \n",
      "2      2294  ما هي اهم استراتيجيات business development الت...   \n",
      "3      4788  ما هي افضل الطرق لجعل online courses اكثر تفاع...   \n",
      "4      6668  هل تعتقد ان استخدام biotechnology يمكن ان يحسن...   \n",
      "5      9587  زياده employee satisfaction يمكن ان تودي الي ت...   \n",
      "6      7404  في football من المهم جدا ان تكون لديك good com...   \n",
      "7      1413  تاثير public health علي المجتمع يمكن ان يكون ع...   \n",
      "8      6856  لتكون ناجحا في marketing يجب ان تعرف جمهورك ال...   \n",
      "9      7760  نحتاج الي مزيد من الابحاث حول كيفيه تاثير الاد...   \n",
      "10     2014  الاستثمار في human resources يعد خطوه حاسمه لت...   \n",
      "11     1523  عندما نتحدث عن software development يجب ان ناخ...   \n",
      "12     8119  قد يودي استخدام novel drugs الي تحسين treatmen...   \n",
      "13     3754  عندما تتحدث عن startup culture من المهم تشجيع ...   \n",
      "14     4295  اذا تم دمج machine learning في computer networ...   \n",
      "15     3746  يمكن ان تودي advanced analytics الي تحسين الاد...   \n",
      "16     6260  تاثير educational technology علي التعلم يمكن ا...   \n",
      "17     5082  هل تعتقد ان remote work سيوثر علي team dynamic...   \n",
      "18     6857  اذا كنت تبحث عن investment opportunities فكن ح...   \n",
      "19     2072  يجب علي الموسسات التعليميه ان تتبني modern tec...   \n",
      "20     4379  من الضروري استخدام artificial intelligence في ...   \n",
      "21      650  في online shopping يمكنك العثور علي amazing de...   \n",
      "22     9244  في عالم اليوم mental health تحتاج الي اهتمام ا...   \n",
      "23     2182  من المهم ان نفهم ان disease prevention يتطلب c...   \n",
      "24     7914  اذا كنت تبحث عن discounts تاكد من زياره online...   \n",
      "25     8594  كيف يمكن ان توثر health technology الجديده علي...   \n",
      "26     2359  اذا تم تحديث curriculum بانتظام فان ذلك سيساعد...   \n",
      "27     6350  عندما تقارن بين الاسعار تاكد من استخدام price ...   \n",
      "28     2312  اذا قمت بتطبيق sports psychology في football س...   \n",
      "29    10038  كيف يمكن ان يوثر استخدام biotechnology علي تطو...   \n",
      "30     8298  لزياده فعاليه marketing strategies يجب ان نركز...   \n",
      "31     3275  في عصر digital education يجب علي المعلمين استخ...   \n",
      "32     5309  اذا كان لديك limited budget حاول استخدام coupo...   \n",
      "33     6336  اذا كنت تريد شراء ملابس جديده تحقق من online f...   \n",
      "34     5230  عندما تشتري منتجات online تاكد من قراءه custom...   \n",
      "35     9932  اذا كان لديك اي اسيله حول clinical trials فلا ...   \n",
      "36     5920  لتقليل مخاطر الامراض يجب علي الحكومات investir...   \n",
      "37     5642  من الضروري ان نفهم ان financial literacy تلعب ...   \n",
      "38     5750  هل تتوقع ان توثر innovation في المنتجات الجديد...   \n",
      "39     1433  في عالم social media اليوم من المهم ان نكون وا...   \n",
      "40     7139  عندما تتداول من المهم جدا ان تعرف كيف تدير ris...   \n",
      "41     4662  في عالم business تحتاج الشركات الي innovative ...   \n",
      "42     7009  هل تعتقد ان التسوق ل fashion items عبر website...   \n",
      "43     8348  يعتبر distance learning خيارا ممتازا للطلاب ال...   \n",
      "44     7359  ما هي استراتيجيات soccer التي تنصح بها لتحسين ...   \n",
      "45     7100  للحصول علي افضل تجربه grocery shopping استخدم ...   \n",
      "46     4898  اذا كنت تريد النجاح في academic research عليك ...   \n",
      "47     1835  اذا استثمرنا في community development سنحقق po...   \n",
      "48     1850  اذا كانت family values قويه فان interpersonal ...   \n",
      "49     9935  تعتبر cryptocurrency واحده من اكثر الطرق المثي...   \n",
      "\n",
      "   model_responses corrected_model_responses true_label  \n",
      "0         business                  business    finance  \n",
      "1          finance                   finance    finance  \n",
      "2         business                  business   business  \n",
      "3        education                 education  education  \n",
      "4          medical                   medical    medical  \n",
      "5         business                  business   business  \n",
      "6           sports                    sports     sports  \n",
      "7           health                    health     health  \n",
      "8         business                  business   business  \n",
      "9          medical                   medical    medical  \n",
      "10        business                  business   business  \n",
      "11            tech                      tech       tech  \n",
      "12         medical                   medical    medical  \n",
      "13        business                  business   business  \n",
      "14            tech                      tech       tech  \n",
      "15          sports                    sports     sports  \n",
      "16       education                 education  education  \n",
      "17        business                  business   business  \n",
      "18         finance                   finance    finance  \n",
      "19       education                 education  education  \n",
      "20            tech                      tech       tech  \n",
      "21        shopping                  shopping   shopping  \n",
      "22          health                    health     health  \n",
      "23          health                    health     health  \n",
      "24        shopping                  shopping   shopping  \n",
      "25         medical                   medical     health  \n",
      "26       education                 education  education  \n",
      "27        shopping                  shopping   shopping  \n",
      "28          sports                    sports     sports  \n",
      "29         medical                   medical    medical  \n",
      "30        business                  business   business  \n",
      "31       education                 education  education  \n",
      "32        shopping                  shopping   shopping  \n",
      "33        shopping                  shopping   shopping  \n",
      "34        shopping                  shopping   shopping  \n",
      "35         medical                   medical    medical  \n",
      "36          health                    health     health  \n",
      "37         finance                   finance    finance  \n",
      "38        business                  business   business  \n",
      "39          social                    social     social  \n",
      "40         finance                   finance    finance  \n",
      "41        business                  business   business  \n",
      "42        shopping                  shopping   shopping  \n",
      "43       education                 education  education  \n",
      "44          sports                    sports     sports  \n",
      "45        shopping                  shopping   shopping  \n",
      "46       education                 education  education  \n",
      "47          social                    social     social  \n",
      "48          social                    social     social  \n",
      "49         finance                   finance    finance  \n"
     ]
    },
    {
     "name": "stderr",
     "output_type": "stream",
     "text": [
      "\n"
     ]
    }
   ],
   "source": [
    "results_df = test_range(eval_df, prompt_config_zs, prompt_examples_icl, prompt_prefix_icl, prompt_suffix_icl, pre_processing=your_pre_processing_zs, post_processing=your_post_processing_zs, model=model, debug=False)\n",
    "print(results_df)"
   ]
  },
  {
   "cell_type": "code",
   "execution_count": 31,
   "metadata": {},
   "outputs": [
    {
     "data": {
      "text/plain": [
       "0.9594152046783626"
      ]
     },
     "execution_count": 31,
     "metadata": {},
     "output_type": "execute_result"
    }
   ],
   "source": [
    "f1_score(results_df['true_label'], results_df['corrected_model_responses'],average='weighted')"
   ]
  },
  {
   "cell_type": "code",
   "execution_count": 65,
   "metadata": {},
   "outputs": [
    {
     "name": "stderr",
     "output_type": "stream",
     "text": [
      "10it [00:12,  1.27s/it]\n"
     ]
    }
   ],
   "source": [
    "test_df = get_test_set()\n",
    "results_df = test_range(test_df, prompt_config_zs, prompt_examples_icl, prompt_prefix_icl, prompt_suffix_icl, pre_processing=your_pre_processing_zs, post_processing=your_post_processing_zs, model=model, debug=False)\n",
    "results_df.to_excel('icl_test_results_50ex.xlsx', index=False)"
   ]
  },
  {
   "cell_type": "code",
   "execution_count": 32,
   "metadata": {},
   "outputs": [
    {
     "name": "stdout",
     "output_type": "stream",
     "text": [
      "              precision    recall  f1-score   support\n",
      "\n",
      "    business     0.9000    1.0000    0.9474         9\n",
      "   education     1.0000    1.0000    1.0000         7\n",
      "     finance     1.0000    0.8333    0.9091         6\n",
      "      health     1.0000    0.8000    0.8889         5\n",
      "     medical     0.8333    1.0000    0.9091         5\n",
      "    shopping     1.0000    1.0000    1.0000         8\n",
      "      social     1.0000    1.0000    1.0000         3\n",
      "      sports     1.0000    1.0000    1.0000         4\n",
      "        tech     1.0000    1.0000    1.0000         3\n",
      "\n",
      "    accuracy                         0.9600        50\n",
      "   macro avg     0.9704    0.9593    0.9616        50\n",
      "weighted avg     0.9653    0.9600    0.9594        50\n",
      "\n"
     ]
    }
   ],
   "source": [
    "print(classification_report(results_df['true_label'], results_df['corrected_model_responses'], digits=4))"
   ]
  },
  {
   "cell_type": "code",
   "execution_count": 33,
   "metadata": {},
   "outputs": [],
   "source": [
    "joined_df = results_df.set_index(\"text_id\").join(test_df.set_index('text'), lsuffix='_caller', rsuffix='_other')"
   ]
  },
  {
   "cell_type": "code",
   "execution_count": 34,
   "metadata": {},
   "outputs": [],
   "source": [
    "joined_df['codemixed'] = joined_df['text'].apply(is_codemixed)\n"
   ]
  },
  {
   "cell_type": "code",
   "execution_count": 35,
   "metadata": {},
   "outputs": [],
   "source": [
    "cm = joined_df.loc[joined_df['codemixed'] == 1]"
   ]
  },
  {
   "cell_type": "code",
   "execution_count": 36,
   "metadata": {},
   "outputs": [
    {
     "name": "stdout",
     "output_type": "stream",
     "text": [
      "              precision    recall  f1-score   support\n",
      "\n",
      "    business     0.9000    1.0000    0.9474         9\n",
      "   education     1.0000    1.0000    1.0000         7\n",
      "     finance     1.0000    0.8333    0.9091         6\n",
      "      health     1.0000    0.8000    0.8889         5\n",
      "     medical     0.8333    1.0000    0.9091         5\n",
      "    shopping     1.0000    1.0000    1.0000         8\n",
      "      social     1.0000    1.0000    1.0000         3\n",
      "      sports     1.0000    1.0000    1.0000         4\n",
      "        tech     1.0000    1.0000    1.0000         3\n",
      "\n",
      "    accuracy                         0.9600        50\n",
      "   macro avg     0.9704    0.9593    0.9616        50\n",
      "weighted avg     0.9653    0.9600    0.9594        50\n",
      "\n"
     ]
    }
   ],
   "source": [
    "print(classification_report(cm['true_label'], cm['corrected_model_responses'], digits=4))"
   ]
  },
  {
   "cell_type": "code",
   "execution_count": 37,
   "metadata": {},
   "outputs": [],
   "source": [
    "mono= joined_df.loc[joined_df['codemixed'] == 0]"
   ]
  },
  {
   "cell_type": "code",
   "execution_count": 73,
   "metadata": {},
   "outputs": [
    {
     "ename": "ValueError",
     "evalue": "max() iterable argument is empty",
     "output_type": "error",
     "traceback": [
      "\u001b[1;31m---------------------------------------------------------------------------\u001b[0m",
      "\u001b[1;31mValueError\u001b[0m                                Traceback (most recent call last)",
      "Cell \u001b[1;32mIn[73], line 1\u001b[0m\n\u001b[1;32m----> 1\u001b[0m \u001b[38;5;28mprint\u001b[39m(\u001b[43mclassification_report\u001b[49m\u001b[43m(\u001b[49m\u001b[43mmono\u001b[49m\u001b[43m[\u001b[49m\u001b[38;5;124;43m'\u001b[39;49m\u001b[38;5;124;43mtrue_label\u001b[39;49m\u001b[38;5;124;43m'\u001b[39;49m\u001b[43m]\u001b[49m\u001b[43m,\u001b[49m\u001b[43m \u001b[49m\u001b[43mmono\u001b[49m\u001b[43m[\u001b[49m\u001b[38;5;124;43m'\u001b[39;49m\u001b[38;5;124;43mcorrected_model_responses\u001b[39;49m\u001b[38;5;124;43m'\u001b[39;49m\u001b[43m]\u001b[49m\u001b[43m,\u001b[49m\u001b[43m \u001b[49m\u001b[43mdigits\u001b[49m\u001b[38;5;241;43m=\u001b[39;49m\u001b[38;5;241;43m4\u001b[39;49m\u001b[43m)\u001b[49m)\n",
      "File \u001b[1;32mc:\\Users\\Mohamed\\AppData\\Local\\Programs\\Python\\Python312\\Lib\\site-packages\\sklearn\\utils\\_param_validation.py:213\u001b[0m, in \u001b[0;36mvalidate_params.<locals>.decorator.<locals>.wrapper\u001b[1;34m(*args, **kwargs)\u001b[0m\n\u001b[0;32m    207\u001b[0m \u001b[38;5;28;01mtry\u001b[39;00m:\n\u001b[0;32m    208\u001b[0m     \u001b[38;5;28;01mwith\u001b[39;00m config_context(\n\u001b[0;32m    209\u001b[0m         skip_parameter_validation\u001b[38;5;241m=\u001b[39m(\n\u001b[0;32m    210\u001b[0m             prefer_skip_nested_validation \u001b[38;5;129;01mor\u001b[39;00m global_skip_validation\n\u001b[0;32m    211\u001b[0m         )\n\u001b[0;32m    212\u001b[0m     ):\n\u001b[1;32m--> 213\u001b[0m         \u001b[38;5;28;01mreturn\u001b[39;00m \u001b[43mfunc\u001b[49m\u001b[43m(\u001b[49m\u001b[38;5;241;43m*\u001b[39;49m\u001b[43margs\u001b[49m\u001b[43m,\u001b[49m\u001b[43m \u001b[49m\u001b[38;5;241;43m*\u001b[39;49m\u001b[38;5;241;43m*\u001b[39;49m\u001b[43mkwargs\u001b[49m\u001b[43m)\u001b[49m\n\u001b[0;32m    214\u001b[0m \u001b[38;5;28;01mexcept\u001b[39;00m InvalidParameterError \u001b[38;5;28;01mas\u001b[39;00m e:\n\u001b[0;32m    215\u001b[0m     \u001b[38;5;66;03m# When the function is just a wrapper around an estimator, we allow\u001b[39;00m\n\u001b[0;32m    216\u001b[0m     \u001b[38;5;66;03m# the function to delegate validation to the estimator, but we replace\u001b[39;00m\n\u001b[0;32m    217\u001b[0m     \u001b[38;5;66;03m# the name of the estimator by the name of the function in the error\u001b[39;00m\n\u001b[0;32m    218\u001b[0m     \u001b[38;5;66;03m# message to avoid confusion.\u001b[39;00m\n\u001b[0;32m    219\u001b[0m     msg \u001b[38;5;241m=\u001b[39m re\u001b[38;5;241m.\u001b[39msub(\n\u001b[0;32m    220\u001b[0m         \u001b[38;5;124mr\u001b[39m\u001b[38;5;124m\"\u001b[39m\u001b[38;5;124mparameter of \u001b[39m\u001b[38;5;124m\\\u001b[39m\u001b[38;5;124mw+ must be\u001b[39m\u001b[38;5;124m\"\u001b[39m,\n\u001b[0;32m    221\u001b[0m         \u001b[38;5;124mf\u001b[39m\u001b[38;5;124m\"\u001b[39m\u001b[38;5;124mparameter of \u001b[39m\u001b[38;5;132;01m{\u001b[39;00mfunc\u001b[38;5;241m.\u001b[39m\u001b[38;5;18m__qualname__\u001b[39m\u001b[38;5;132;01m}\u001b[39;00m\u001b[38;5;124m must be\u001b[39m\u001b[38;5;124m\"\u001b[39m,\n\u001b[0;32m    222\u001b[0m         \u001b[38;5;28mstr\u001b[39m(e),\n\u001b[0;32m    223\u001b[0m     )\n",
      "File \u001b[1;32mc:\\Users\\Mohamed\\AppData\\Local\\Programs\\Python\\Python312\\Lib\\site-packages\\sklearn\\metrics\\_classification.py:2679\u001b[0m, in \u001b[0;36mclassification_report\u001b[1;34m(y_true, y_pred, labels, target_names, sample_weight, digits, output_dict, zero_division)\u001b[0m\n\u001b[0;32m   2677\u001b[0m \u001b[38;5;28;01melse\u001b[39;00m:\n\u001b[0;32m   2678\u001b[0m     longest_last_line_heading \u001b[38;5;241m=\u001b[39m \u001b[38;5;124m\"\u001b[39m\u001b[38;5;124mweighted avg\u001b[39m\u001b[38;5;124m\"\u001b[39m\n\u001b[1;32m-> 2679\u001b[0m     name_width \u001b[38;5;241m=\u001b[39m \u001b[38;5;28;43mmax\u001b[39;49m\u001b[43m(\u001b[49m\u001b[38;5;28;43mlen\u001b[39;49m\u001b[43m(\u001b[49m\u001b[43mcn\u001b[49m\u001b[43m)\u001b[49m\u001b[43m \u001b[49m\u001b[38;5;28;43;01mfor\u001b[39;49;00m\u001b[43m \u001b[49m\u001b[43mcn\u001b[49m\u001b[43m \u001b[49m\u001b[38;5;129;43;01min\u001b[39;49;00m\u001b[43m \u001b[49m\u001b[43mtarget_names\u001b[49m\u001b[43m)\u001b[49m\n\u001b[0;32m   2680\u001b[0m     width \u001b[38;5;241m=\u001b[39m \u001b[38;5;28mmax\u001b[39m(name_width, \u001b[38;5;28mlen\u001b[39m(longest_last_line_heading), digits)\n\u001b[0;32m   2681\u001b[0m     head_fmt \u001b[38;5;241m=\u001b[39m \u001b[38;5;124m\"\u001b[39m\u001b[38;5;124m{\u001b[39m\u001b[38;5;124m:>\u001b[39m\u001b[38;5;132;01m{width}\u001b[39;00m\u001b[38;5;124ms} \u001b[39m\u001b[38;5;124m\"\u001b[39m \u001b[38;5;241m+\u001b[39m \u001b[38;5;124m\"\u001b[39m\u001b[38;5;124m \u001b[39m\u001b[38;5;132;01m{:>9}\u001b[39;00m\u001b[38;5;124m\"\u001b[39m \u001b[38;5;241m*\u001b[39m \u001b[38;5;28mlen\u001b[39m(headers)\n",
      "\u001b[1;31mValueError\u001b[0m: max() iterable argument is empty"
     ]
    }
   ],
   "source": [
    "print(classification_report(mono['true_label'], mono['corrected_model_responses'], digits=4))"
   ]
  },
  {
   "attachments": {},
   "cell_type": "markdown",
   "metadata": {},
   "source": [
    "## Chain of Thought Prompting"
   ]
  },
  {
   "cell_type": "code",
   "execution_count": 38,
   "metadata": {},
   "outputs": [],
   "source": [
    "business_texts = [\n",
    "    \"تطوير business strategy فعاله يعتمد علي فهم market trends بشكل شامل ودقيق\",\n",
    "    \"الشركات الناجحة تضع خطط استراتيجية واضحة لتحقيق اهدافها في السوق\"\n",
    "]\n",
    "justification_business = [\n",
    "    \"This text is about business because it discusses company strategies, market analysis, and commercial planning\",\n",
    "    \"This belongs to business category as it focuses on organizational management and market competition\"\n",
    "]\n",
    "\n",
    "education_texts = [\n",
    "    \"في حال تم تطبيق effective curriculum development سيزيد ذلك من مستوي student engagement في الفصول الدراسيه\",\n",
    "    \"استخدام virtual classrooms يعزز فرص collaboration بين الطلاب من مختلف انحاء العالم\"\n",
    "]\n",
    "justification_education = [\n",
    "    \"This text is about education because it mentions curriculum development and student engagement in classrooms\",\n",
    "    \"This belongs to education category as it discusses virtual learning and student collaboration\"\n",
    "]\n",
    "\n",
    "finance_texts = [\n",
    "    \"اذا كنت تريد النجاح في trading عليك ان تتجنب emotional decisions وتركز علي market analysis\",\n",
    "    \"تعتبر fintech من المجالات الرايده حيث تقدم حلولا مبتكره لتحسين banking services\"\n",
    "]\n",
    "justification_finance = [\n",
    "    \"This text is about finance because it covers trading strategies and market analysis\",\n",
    "    \"This belongs to finance category as it discusses fintech innovations and banking services\"\n",
    "]\n",
    "\n",
    "health_texts = [\n",
    "    \"اذا كنت ترغب في تحسين mental health يجب عليك ممارسه mindfulness بانتظام وتناول طعام صحي\",\n",
    "    \"ممارسة الرياضة اليومية تساعد في الحفاظ على صحة القلب والجسم بشكل عام\"\n",
    "]\n",
    "justification_health = [\n",
    "    \"This text is about health because it discusses mental health, mindfulness, and healthy eating\",\n",
    "    \"This belongs to health category as it covers physical exercise and heart health\"\n",
    "]\n",
    "\n",
    "medical_texts = [\n",
    "    \"تعتبر nutrition السليمه اساسا لنجاح اي medical treatment لذا يجب التركيز علي الاطعمه الغنيه بالفيتامينات\",\n",
    "    \"هل يمكن ان توثر pharmaceutical advancements علي نسبه الشفاء من الامراض المزمنه بشكل كبير\"\n",
    "]\n",
    "justification_medical = [\n",
    "    \"This text is about medical because it discusses nutrition in medical treatment and vitamins\",\n",
    "    \"This belongs to medical category as it covers pharmaceutical advancements and chronic disease treatment\"\n",
    "]\n",
    "\n",
    "shopping_texts = [\n",
    "    \"اذا كنت ترغب في شراء consumer electronics فمن الافضل دايما مراجعه customer reviews قبل اتخاذ قرارك\",\n",
    "    \"مقارنة الاسعار بين المتاجر المختلفة تساعد في اتخاذ قرار شراء أفضل\"\n",
    "]\n",
    "justification_shopping = [\n",
    "    \"This text is about shopping because it mentions consumer electronics and customer reviews\",\n",
    "    \"This belongs to shopping category as it discusses price comparison and purchase decisions\"\n",
    "]\n",
    "\n",
    "social_texts = [\n",
    "    \"تفاعل الافراد في المجتمع يساهم في بناء علاقات قوية وتحسين جودة الحياة الاجتماعية\",\n",
    "    \"المبادرات المجتمعية تلعب دوراً هاماً في حل المشكلات الاجتماعية وتعزيز التكافل\"\n",
    "]\n",
    "justification_social = [\n",
    "    \"This text is about social because it discusses community interactions and social relationships\",\n",
    "    \"This belongs to social category as it covers community initiatives and social problem-solving\"\n",
    "]\n",
    "\n",
    "sports_texts = [\n",
    "    \"اللاعبون المميزون في cricket يعرفون كيف يستخدمون strategic planning للفوز بالمباريات المهمه\",\n",
    "    \"التدريب المستمر والالتزام بالبرنامج الرياضي اساسي لتحقيق النتائج في المسابقات\"\n",
    "]\n",
    "justification_sports = [\n",
    "    \"This text is about sports because it mentions cricket players and strategic planning in games\",\n",
    "    \"This belongs to sports category as it discusses continuous training and sports competitions\"\n",
    "]\n",
    "\n",
    "tech_texts = [\n",
    "    \"اذا استثمرت الشركات في cloud computing ستتمكن من تحسين كفاءه عملياتها وتقليل التكاليف\",\n",
    "    \"الذكاء الاصطناعي يساهم في تطوير قطاعات متعددة من الصناعة والخدمات\"\n",
    "]\n",
    "justification_tech = [\n",
    "    \"This text is about tech because it covers cloud computing and operational efficiency\",\n",
    "    \"This belongs to tech category as it discusses artificial intelligence and industry development\"\n",
    "]"
   ]
  },
  {
   "cell_type": "code",
   "execution_count": 39,
   "metadata": {},
   "outputs": [],
   "source": [
    "import random\n",
    "\n",
    "def create_examples(all_texts, all_justifications, all_labels):\n",
    "    examples = []\n",
    "\n",
    "    combined_data = list(zip(all_texts, all_justifications, all_labels))\n",
    "    random.shuffle(combined_data)\n",
    "\n",
    "    for text, justification, label in combined_data:\n",
    "        line1 = \"Input Text: \" + text + \"\\n\"\n",
    "        justification_line = \"Justification: \" + justification + \"\\n\"\n",
    "        line2 = \"Output: \" + label + \"\\n\"\n",
    "        examples.append(line1 + justification_line + line2)\n",
    "\n",
    "    return ''.join(examples)"
   ]
  },
  {
   "cell_type": "code",
   "execution_count": 40,
   "metadata": {},
   "outputs": [],
   "source": [
    "all_topic_texts = (business_texts + education_texts + finance_texts + \n",
    "                   health_texts + medical_texts + shopping_texts + \n",
    "                   social_texts + sports_texts + tech_texts)\n",
    "\n",
    "all_topic_justifications = (justification_business + justification_education + justification_finance +\n",
    "                           justification_health + justification_medical + justification_shopping +\n",
    "                           justification_social + justification_sports + justification_tech)\n",
    "\n",
    "all_topic_labels = (['business'] * len(business_texts) + \n",
    "                   ['education'] * len(education_texts) +\n",
    "                   ['finance'] * len(finance_texts) +\n",
    "                   ['health'] * len(health_texts) +\n",
    "                   ['medical'] * len(medical_texts) +\n",
    "                   ['shopping'] * len(shopping_texts) +\n",
    "                   ['social'] * len(social_texts) +\n",
    "                   ['sports'] * len(sports_texts) +\n",
    "                   ['tech'] * len(tech_texts))"
   ]
  },
  {
   "cell_type": "code",
   "execution_count": 41,
   "metadata": {},
   "outputs": [],
   "source": [
    "prompt_examples_cot = create_examples(all_topic_texts, all_topic_justifications, all_topic_labels) + \"Input Text: \""
   ]
  },
  {
   "cell_type": "code",
   "execution_count": 42,
   "metadata": {},
   "outputs": [
    {
     "name": "stdout",
     "output_type": "stream",
     "text": [
      "Input Text: المبادرات المجتمعية تلعب دوراً هاماً في حل المشكلات الاجتماعية وتعزيز التكافل\n",
      "Justification: This belongs to social category as it covers community initiatives and social problem-solving\n",
      "Output: social\n",
      "Input Text: تفاعل الافراد في المجتمع يساهم في بناء علاقات قوية وتحسين جودة الحياة الاجتماعية\n",
      "Justification: This text is about social because it discusses community interactions and social relationships\n",
      "Output: social\n",
      "Input Text: اذا كنت تريد النجاح في trading عليك ان تتجنب emotional decisions وتركز علي market analysis\n",
      "Justification: This text is about finance because it covers trading strategies and market analysis\n",
      "Output: finance\n",
      "Input Text: هل يمكن ان توثر pharmaceutical advancements علي نسبه الشفاء من الامراض المزمنه بشكل كبير\n",
      "Justification: This belongs to medical category as it covers pharmaceutical advancements and chronic disease treatment\n",
      "Output: medical\n",
      "Input Text: تعتبر fintech من المجالات الرايده حيث تقدم حلولا مبتكره لتحسين banking services\n",
      "Justification: This belongs to finance category as it discusses fintech innovations and banking services\n",
      "Output: finance\n",
      "Input Text: ممارسة الرياضة اليومية تساعد في الحفاظ على صحة القلب والجسم بشكل عام\n",
      "Justification: This belongs to health category as it covers physical exercise and heart health\n",
      "Output: health\n",
      "Input Text: اذا استثمرت الشركات في cloud computing ستتمكن من تحسين كفاءه عملياتها وتقليل التكاليف\n",
      "Justification: This text is about tech because it covers cloud computing and operational efficiency\n",
      "Output: tech\n",
      "Input Text: اذا كنت ترغب في تحسين mental health يجب عليك ممارسه mindfulness بانتظام وتناول طعام صحي\n",
      "Justification: This text is about health because it discusses mental health, mindfulness, and healthy eating\n",
      "Output: health\n",
      "Input Text: اذا كنت ترغب في شراء consumer electronics فمن الافضل دايما مراجعه customer reviews قبل اتخاذ قرارك\n",
      "Justification: This text is about shopping because it mentions consumer electronics and customer reviews\n",
      "Output: shopping\n",
      "Input Text: التدريب المستمر والالتزام بالبرنامج الرياضي اساسي لتحقيق النتائج في المسابقات\n",
      "Justification: This belongs to sports category as it discusses continuous training and sports competitions\n",
      "Output: sports\n",
      "Input Text: الشركات الناجحة تضع خطط استراتيجية واضحة لتحقيق اهدافها في السوق\n",
      "Justification: This belongs to business category as it focuses on organizational management and market competition\n",
      "Output: business\n",
      "Input Text: مقارنة الاسعار بين المتاجر المختلفة تساعد في اتخاذ قرار شراء أفضل\n",
      "Justification: This belongs to shopping category as it discusses price comparison and purchase decisions\n",
      "Output: shopping\n",
      "Input Text: في حال تم تطبيق effective curriculum development سيزيد ذلك من مستوي student engagement في الفصول الدراسيه\n",
      "Justification: This text is about education because it mentions curriculum development and student engagement in classrooms\n",
      "Output: education\n",
      "Input Text: اللاعبون المميزون في cricket يعرفون كيف يستخدمون strategic planning للفوز بالمباريات المهمه\n",
      "Justification: This text is about sports because it mentions cricket players and strategic planning in games\n",
      "Output: sports\n",
      "Input Text: الذكاء الاصطناعي يساهم في تطوير قطاعات متعددة من الصناعة والخدمات\n",
      "Justification: This belongs to tech category as it discusses artificial intelligence and industry development\n",
      "Output: tech\n",
      "Input Text: تعتبر nutrition السليمه اساسا لنجاح اي medical treatment لذا يجب التركيز علي الاطعمه الغنيه بالفيتامينات\n",
      "Justification: This text is about medical because it discusses nutrition in medical treatment and vitamins\n",
      "Output: medical\n",
      "Input Text: تطوير business strategy فعاله يعتمد علي فهم market trends بشكل شامل ودقيق\n",
      "Justification: This text is about business because it discusses company strategies, market analysis, and commercial planning\n",
      "Output: business\n",
      "Input Text: استخدام virtual classrooms يعزز فرص collaboration بين الطلاب من مختلف انحاء العالم\n",
      "Justification: This belongs to education category as it discusses virtual learning and student collaboration\n",
      "Output: education\n",
      "Input Text: \n"
     ]
    }
   ],
   "source": [
    "print(prompt_examples_cot)"
   ]
  },
  {
   "cell_type": "code",
   "execution_count": 43,
   "metadata": {},
   "outputs": [],
   "source": [
    "prompt_prefix_cot = f'''\n",
    "Classify the following Combined Arabic and English text into one of these categories: \n",
    "{\", \".join(categories)}.\n",
    "\n",
    "Analyze the text and provide a justification before giving the final category.\n",
    "Your output should include a justification and then the category name like in the examples below.\n",
    "'''\n",
    "\n",
    "prompt_suffix_cot = \"Justification: \""
   ]
  },
  {
   "cell_type": "code",
   "execution_count": 44,
   "metadata": {},
   "outputs": [],
   "source": [
    "def your_pre_processing_cot(input_string):\n",
    "    return input_string.strip()  \n",
    "\n",
    "def your_post_processing_cot(output_string):\n",
    "    categories = ['business', 'education', 'finance', 'health', 'medical', 'shopping', 'social', 'sports', 'tech']\n",
    "    output_lower = output_string.lower()\n",
    "    \n",
    "    for category in categories:\n",
    "        if category in output_lower:\n",
    "            return category\n",
    "    \n",
    "    return output_string.split()[0] if output_string.strip() else 'unknown'"
   ]
  },
  {
   "cell_type": "code",
   "execution_count": 45,
   "metadata": {},
   "outputs": [
    {
     "name": "stdout",
     "output_type": "stream",
     "text": [
      "llama-3.3-70b-versatile\n"
     ]
    }
   ],
   "source": [
    "prompt_config_cot = {\n",
    "    'max_tokens': 80,  \n",
    "    'temperature': 0.2, \n",
    "    'top_k': 0,       \n",
    "    'top_p': 0.9,\n",
    "    'repetition_penalty': 1,\n",
    "    'stop': ['\\nCategory:'] \n",
    "}\n",
    "model = 'llama-3.3-70b-versatile'\n",
    "print(model)\n",
    "\n",
    "eval_df = get_eval_df(50)"
   ]
  },
  {
   "cell_type": "code",
   "execution_count": 48,
   "metadata": {},
   "outputs": [
    {
     "name": "stderr",
     "output_type": "stream",
     "text": [
      "50it [03:31,  4.22s/it]"
     ]
    },
    {
     "name": "stdout",
     "output_type": "stream",
     "text": [
      "    text_id                                               text  \\\n",
      "0      3839  عندما تتسوق عبر ecommerce يجب ان تبحث عن best ...   \n",
      "1      1546  تطوير effective marketing strategies هو مفتاح ...   \n",
      "2      5129  اذا كنت ترغب في تحسين public health يجب عليك ت...   \n",
      "3        68  تطوير curriculum متكامل يتطلب استخدام advanced...   \n",
      "4      3568  يجب ان نتبني flexible learning environments لز...   \n",
      "5       178  عند بناء شبكه computer networks يجب ان يكون لد...   \n",
      "6      4322  اذا قمت بتطبيق diversification في محفظتك ستحسن...   \n",
      "7      4482  اريد ان اتعرف علي كيفيه استخدام machine learni...   \n",
      "8       299  للحفاظ علي wellness يجب عليك ممارسه mindfulnes...   \n",
      "9      1880  عندما نتحدث عن educational technology يجب ان ن...   \n",
      "10     8554  ما رايك في اهميه teamwork داخل rugby لتحقيق ال...   \n",
      "11     4130  اذا استثمرت الشركات في blockchain فسيكون لها م...   \n",
      "12     9998  لتعزيز interpersonal relationships يجب علينا ف...   \n",
      "13     5832  هل جربت التسوق في shopping malls الجديده هناك ...   \n",
      "14      765  اذا كانت pharmacokinetics مفهومه جيدا فسوف نحس...   \n",
      "15     5704  اذا كنت ترغب في تحقيق النجاح يجب عليك التركيز ...   \n",
      "16     9274  كيف يمكن ان توثر public opinion علي political ...   \n",
      "17     9885  يجب ان نبحث عن طرق جديده لتعزيز collaboration ...   \n",
      "18     5093  تعتبر diversification استراتيجيه اساسيه في por...   \n",
      "19     2415  يعتبر health technology اداه رايعه لتحسين الوص...   \n",
      "20     8906  هل تعتقد ان distance learning يمكن ان يكون بنف...   \n",
      "21     3241  اذا كنت تبحث عن the best deals في online shopp...   \n",
      "22     1532  عند شراء consumer electronics تاكد من قراءه cu...   \n",
      "23     9852  اذا كنت ترغب في تحسين cloud computing يجب عليك...   \n",
      "24     8372  تحتاج الشركات الي تحسين software development ل...   \n",
      "25    10422  يجب علي المطورين استخدام secure coding practic...   \n",
      "26      523  تحتاج الشركات الناشيه الي strategic planning ل...   \n",
      "27     8653  يجب عليك تجربه customer reviews قبل شراء اي من...   \n",
      "28     8169  تسوق في outlet stores للحصول علي designer bran...   \n",
      "29     2531  اذا تم استخدام targeted therapies بشكل صحيح ست...   \n",
      "30     8418  عندما تستثمر في stock market يجب ان تكون مستعد...   \n",
      "31     5085  تطوير strategic partnerships يمكن ان يكون له ت...   \n",
      "32     2839  من الضروري ان نفهم كيف يمكن ان توثر pharmaceut...   \n",
      "33     7375  تحتاج الي معرفه كيفيه استخدام technical analys...   \n",
      "34     2714  تعد surgery الان اكثر امانا بفضل minimally inv...   \n",
      "35     3644  لتعزيز startup culture ينبغي تشجيع الفرق علي ت...   \n",
      "36    10354  ممارسه yoga بانتظام يمكن ان تحسن من mental hea...   \n",
      "37     4325  اذا كنت تفكر في real estate investment فكر في ...   \n",
      "38     7972  ان تعزيز interpersonal relationships يتطلب منا...   \n",
      "39     9736  عند اعداد marketing strategies من المهم تحليل ...   \n",
      "40     5548  اذا استخدمنا educational technology بشكل صحيح ...   \n",
      "41     2351  عندما تجد fashion retail جديد لا تتردد في استخ...   \n",
      "42     7228  في عالم اليوم community development يعتمد علي ...   \n",
      "43     3818  يعتبر الاستثمار في employee training programs ...   \n",
      "44     6118  اهميه public health تكمن في تحسين community we...   \n",
      "45     3972  استخدام health technology مثل التطبيقات يمكن ا...   \n",
      "46     6724  تعتبر human resources عنصرا اساسيا في اداره ta...   \n",
      "47     8060  بفضل digital platforms يمكن للجميع التعبير عن ...   \n",
      "48     6215  من المهم ان نفهم كيف يمكن ان توثر customer fee...   \n",
      "49     7262  تعتبر preventive care جزءا اساسيا من نظام الرع...   \n",
      "\n",
      "                                      model_responses  \\\n",
      "0   This text is about searching for the best deal...   \n",
      "1   This text is about business because it discuss...   \n",
      "2   This text is about promoting public health by ...   \n",
      "3   This text is about education because it discus...   \n",
      "4   This text is about education because it mentio...   \n",
      "5   This text is about building computer networks ...   \n",
      "6   This text is about finance because it discusse...   \n",
      "7   This text is about using machine learning in c...   \n",
      "8   This text is about maintaining wellness and me...   \n",
      "9   This text is about education because it mentio...   \n",
      "10  This text is about sports because it mentions ...   \n",
      "11  This text is about finance because it discusse...   \n",
      "12  This text is about how technological advanceme...   \n",
      "13  This text is about shopping because it mention...   \n",
      "14  This text is about medical because it discusse...   \n",
      "15  This text is about business because it discuss...   \n",
      "16  This text is about the impact of public opinio...   \n",
      "17  This text is about education because it discus...   \n",
      "18  This text is about finance because it discusse...   \n",
      "19  This text is about health because it discusses...   \n",
      "20  This text is about education because it discus...   \n",
      "21  This text is about finding the best deals in o...   \n",
      "22  This text is about shopping because it mention...   \n",
      "23  This text is about tech because it discusses c...   \n",
      "24  This text is about tech because it discusses t...   \n",
      "25  This text is about tech because it discusses s...   \n",
      "26  This text is about business because it mention...   \n",
      "27  This text is about shopping because it mention...   \n",
      "28  This text is about shopping because it mention...   \n",
      "29  This text is about medical treatment, specific...   \n",
      "30  This text is about finance because it discusse...   \n",
      "31  This text is about business because it discuss...   \n",
      "32  This text is about the impact of pharmaceutica...   \n",
      "33  This text is about finance because it discusse...   \n",
      "34  This text is about medical procedures, specifi...   \n",
      "35  This text is about encouraging startup culture...   \n",
      "36  This text is about the benefits of practicing ...   \n",
      "37  This text is about finance because it mentions...   \n",
      "38  This text is about social because it discusses...   \n",
      "39  This text is about business because it discuss...   \n",
      "40  This text is about using educational technolog...   \n",
      "41  This text is about sharing experiences with fr...   \n",
      "42  This text is about community development and c...   \n",
      "43  This text is about business because it discuss...   \n",
      "44  This text is about public health and its impor...   \n",
      "45  This text is about using health technology, su...   \n",
      "46  This text is about managing human resources an...   \n",
      "47  This text is about social because it discusses...   \n",
      "48  This text is about understanding the impact of...   \n",
      "49  This text is about health because it discusses...   \n",
      "\n",
      "   corrected_model_responses true_label  \n",
      "0                   shopping   shopping  \n",
      "1                   business   business  \n",
      "2                  education     health  \n",
      "3                  education  education  \n",
      "4                  education  education  \n",
      "5                       tech       tech  \n",
      "6                    finance    finance  \n",
      "7                    medical    medical  \n",
      "8                     health     health  \n",
      "9                  education  education  \n",
      "10                    sports     sports  \n",
      "11                   finance       tech  \n",
      "12                    social     social  \n",
      "13                  shopping   shopping  \n",
      "14                   medical    medical  \n",
      "15                  business   business  \n",
      "16                    social     social  \n",
      "17                 education  education  \n",
      "18                   finance    finance  \n",
      "19                    health     health  \n",
      "20                 education  education  \n",
      "21                  shopping   shopping  \n",
      "22                  shopping   shopping  \n",
      "23                      tech       tech  \n",
      "24                      tech       tech  \n",
      "25                      tech       tech  \n",
      "26                  business   business  \n",
      "27                  shopping   shopping  \n",
      "28                  shopping   shopping  \n",
      "29                   medical    medical  \n",
      "30                   finance    finance  \n",
      "31                  business   business  \n",
      "32                   medical    medical  \n",
      "33                   finance    finance  \n",
      "34                    health    medical  \n",
      "35                  business   business  \n",
      "36                    health     health  \n",
      "37                   finance    finance  \n",
      "38                    social     social  \n",
      "39                  business   business  \n",
      "40                 education  education  \n",
      "41                  shopping   shopping  \n",
      "42                    social     social  \n",
      "43                  business   business  \n",
      "44                    health     health  \n",
      "45                    health     health  \n",
      "46                  business   business  \n",
      "47                    social     social  \n",
      "48                  business   business  \n",
      "49                    health     health  \n"
     ]
    },
    {
     "name": "stderr",
     "output_type": "stream",
     "text": [
      "\n"
     ]
    }
   ],
   "source": [
    "results_df = test_range(eval_df, prompt_config_cot, prompt_examples_cot, prompt_prefix_cot, prompt_suffix_cot, pre_processing=your_pre_processing_cot, post_processing=your_post_processing_cot, model=model, debug=False)\n",
    "print(results_df)"
   ]
  },
  {
   "cell_type": "code",
   "execution_count": 49,
   "metadata": {},
   "outputs": [],
   "source": [
    "results_df.to_excel('error_analysis.xlsx', index=False)"
   ]
  },
  {
   "cell_type": "code",
   "execution_count": 50,
   "metadata": {},
   "outputs": [],
   "source": [
    "results_df['corrected_model_responses'] = results_df['model_responses'].apply(your_post_processing_cot)"
   ]
  },
  {
   "cell_type": "code",
   "execution_count": 51,
   "metadata": {},
   "outputs": [
    {
     "data": {
      "text/plain": [
       "0.9394560994560993"
      ]
     },
     "execution_count": 51,
     "metadata": {},
     "output_type": "execute_result"
    }
   ],
   "source": [
    "f1_score(results_df['true_label'], results_df['corrected_model_responses'],average='weighted')"
   ]
  },
  {
   "cell_type": "code",
   "execution_count": 52,
   "metadata": {},
   "outputs": [
    {
     "name": "stdout",
     "output_type": "stream",
     "text": [
      "              precision    recall  f1-score   support\n",
      "\n",
      "    business       1.00      1.00      1.00         9\n",
      "   education       0.86      1.00      0.92         6\n",
      "     finance       0.83      1.00      0.91         5\n",
      "      health       0.86      0.86      0.86         7\n",
      "     medical       1.00      0.80      0.89         5\n",
      "    shopping       1.00      1.00      1.00         7\n",
      "      social       1.00      1.00      1.00         5\n",
      "      sports       1.00      1.00      1.00         1\n",
      "        tech       1.00      0.80      0.89         5\n",
      "\n",
      "    accuracy                           0.94        50\n",
      "   macro avg       0.95      0.94      0.94        50\n",
      "weighted avg       0.95      0.94      0.94        50\n",
      "\n"
     ]
    }
   ],
   "source": [
    "print(classification_report(results_df['true_label'], results_df['corrected_model_responses']))"
   ]
  },
  {
   "cell_type": "markdown",
   "metadata": {},
   "source": [
    "## CARP"
   ]
  },
  {
   "cell_type": "code",
   "execution_count": 53,
   "metadata": {},
   "outputs": [],
   "source": [
    "category_features = {\n",
    "    'business': ['company strategies', 'market analysis', 'commercial planning', 'business growth', 'market trends'],\n",
    "    'education': ['learning', 'teaching', 'curriculum', 'students', 'school', 'education', 'classroom', 'virtual learning'],\n",
    "    'finance': ['money', 'investment', 'trading', 'banking', 'financial', 'markets', 'fintech', 'economic'],\n",
    "    'health': ['fitness', 'wellness', 'mental health', 'exercise', 'healthy lifestyle', 'physical health'],\n",
    "    'medical': ['treatment', 'medicine', 'pharmaceutical', 'medical care', 'doctors', 'nutrition', 'vitamins'],\n",
    "    'shopping': ['purchase', 'buying', 'products', 'reviews', 'price comparison', 'consumer', 'customer'],\n",
    "    'social': ['community', 'relationships', 'social interactions', 'society', 'social life', 'community initiatives'],\n",
    "    'sports': ['athletes', 'games', 'training', 'competitions', 'sports', 'cricket', 'players', 'matches'],\n",
    "    'tech': ['technology', 'software', 'computers', 'AI', 'digital', 'innovation', 'cloud computing', 'artificial intelligence']\n",
    "}"
   ]
  },
  {
   "cell_type": "code",
   "execution_count": 54,
   "metadata": {},
   "outputs": [],
   "source": [
    "def create_carp_examples_format(all_texts, all_justifications, all_labels, category_features):\n",
    "\n",
    "    examples = []\n",
    "    combined_data = list(zip(all_texts, all_justifications, all_labels))\n",
    "    \n",
    "    example_subset = combined_data[:6] \n",
    "    \n",
    "    for text, justification, label in example_subset:\n",
    "        features = category_features.get(label, [])\n",
    "        \n",
    "        carp_justification = f\"{justification} CARP Reasoning: Text contains features like {', '.join(features[:2])} confirming {label} category.\"\n",
    "        \n",
    "        line1 = \"Input Text: \" + text + \"\\n\"\n",
    "        justification_line = \"Justification: \" + carp_justification + \"\\n\"\n",
    "        line2 = \"Output: \" + label + \"\\n\"\n",
    "        examples.append(line1 + justification_line + line2)\n",
    "\n",
    "    return ''.join(examples)\n",
    "\n",
    "prompt_examples_carp = create_carp_examples_format(all_topic_texts, all_topic_justifications, all_topic_labels, category_features)"
   ]
  },
  {
   "cell_type": "code",
   "execution_count": 55,
   "metadata": {},
   "outputs": [],
   "source": [
    "prompt_prefix_carp = f\"\"\"\n",
    "Classify the following Combined Arabic and English text into one of these categories:\n",
    "{\", \".join(category_features.keys())}.\n",
    "\n",
    "Use the CARP method internally (analyze topic, list expected features, verify features, decide), \n",
    "but **do NOT show your reasoning**.\n",
    "\n",
    "Output format: Only write the final category name with no explanation, no extra text, and no punctuation.\n",
    "\"\"\"\n",
    "prompt_suffix_carp = \"Justification: \""
   ]
  },
  {
   "cell_type": "code",
   "execution_count": 56,
   "metadata": {},
   "outputs": [],
   "source": [
    "def your_pre_processing_carp(input_string):\n",
    "    return input_string.strip()\n",
    "\n",
    "def your_post_processing_carp(output_string):\n",
    "\n",
    "    categories = list(category_features.keys())\n",
    "    output_lower = output_string.lower()\n",
    "    \n",
    "    if \"output:\" in output_lower:\n",
    "        output_part = output_lower.split(\"output:\")[1].strip()\n",
    "        for category in categories:\n",
    "            if category in output_part.split()[0]:  \n",
    "                return category\n",
    "    \n",
    "    for category in categories:\n",
    "        if f\" {category} \" in f\" {output_lower} \":\n",
    "            return category\n",
    "    \n",
    "    return output_string.split()[0] if output_string.strip() else 'unknown'"
   ]
  },
  {
   "cell_type": "code",
   "execution_count": 57,
   "metadata": {},
   "outputs": [],
   "source": [
    "prompt_config_carp = {\n",
    "    'max_tokens': 150,  \n",
    "    'temperature': 0.1,  \n",
    "    'top_k': 0,       \n",
    "    'top_p': 0.9,\n",
    "    'repetition_penalty': 1.1, \n",
    "    'stop': ['\\n---', 'Input Text:']\n",
    "}"
   ]
  },
  {
   "cell_type": "code",
   "execution_count": 58,
   "metadata": {},
   "outputs": [],
   "source": [
    "model = 'llama-3.3-70b-versatile'\n",
    "eval_df = get_eval_df(50)\n"
   ]
  },
  {
   "cell_type": "code",
   "execution_count": 59,
   "metadata": {},
   "outputs": [
    {
     "name": "stderr",
     "output_type": "stream",
     "text": [
      "50it [01:45,  2.11s/it]"
     ]
    },
    {
     "name": "stdout",
     "output_type": "stream",
     "text": [
      "    text_id                                               text  \\\n",
      "0     10211  هل تعتقد ان political engagement للجيل الجديد ...   \n",
      "1      9807  في olympic games المنافسه تكون شديده ولكن team...   \n",
      "2      3207  اثناء الجراحه يجب علي الاطباء مراعاه patient s...   \n",
      "3      6009  عندما نتحدث عن business development يجب ان نرك...   \n",
      "4      9641  تحسين public health لا يعتمد فقط علي الادويه ب...   \n",
      "5      6178  كيف يمكن للاطباء تحسين patient outcomes اذا اس...   \n",
      "6      3917  هل تعتقد ان fashion retail ستظل تنافسيه في ظل ...   \n",
      "7      6090  اذا استمر اللاعبون في تحسين fitness levels سيح...   \n",
      "8      5535  هل جربت استخدام cashback apps اثناء تسوقك في ا...   \n",
      "9      5899  اذا استمررنا في تجاهل قضايا social inequality ...   \n",
      "10     7430  في football يجب علي اللاعبين تحسين communicati...   \n",
      "11     5420  هل يمكن ان توثر online courses علي traditional...   \n",
      "12     4508  حذر الاطباء من ان untreated conditions يمكن ان...   \n",
      "13        2  تناول كميات كافيه من water كل يوم يساعد في تعز...   \n",
      "14     1496  تعتبر devops practices ضروريه لتسريع software ...   \n",
      "15     1589  اذا استخدمت cloud computing بشكل صحيح يمكنك تخ...   \n",
      "16    10258  اذا كنت تفكر في cryptocurrency يجب عليك دراسه ...   \n",
      "17     6120  اذا كانت لديك معرفه جيده ب risk management سيك...   \n",
      "18    10110  لماذا لا تفكر في استخدام collaboration tools ل...   \n",
      "19    10558  من المهم ان نتبني innovative strategies في fam...   \n",
      "20     9879  في football يجب ان نركز علي تحسين defensive ta...   \n",
      "21     2991  تعتبر family values اساسا مهما في بناء strong ...   \n",
      "22     5096  عندما نستخدم educational technology بشكل صحيح ...   \n",
      "23      687  تسوق من ecommerce sites يمكن ان يكون اكثر راحه...   \n",
      "24     1655  في التعليم العالي استخدام educational technolo...   \n",
      "25     8752  عندما تتعامل مع foreign exchange فان فهم polit...   \n",
      "26     3065  لتحقيق نتايج افضل في clinical care يجب استخدام...   \n",
      "27     9978  في عالم entrepreneurship النجاح يعتمد علي قدرت...   \n",
      "28     4346  التخطيط الاستراتيجي يتطلب فهم جيد للسوق لذا يج...   \n",
      "29     5791  هل تعتقد ان remote work يوثر علي team dynamics...   \n",
      "30     2693  اذا كانت social inequality تزداد كيف يمكن للمج...   \n",
      "31     6190  من المهم ان نستخدم digital platforms لرفع الوع...   \n",
      "32     1452  لتحقيق wellness goals يجب علي الافراد ممارسه ا...   \n",
      "33     2674  هل تعتقد ان tennis يحتاج الي المزيد من technol...   \n",
      "34     7232  عندما نتحدث عن clinical care يجب ان نركز علي p...   \n",
      "35     9518  يجب ان نعمل جميعا علي تعزيز mental health awar...   \n",
      "36     6576  عندما تتحدث عن cryptocurrency يجب ان تاخذ في ا...   \n",
      "37     5644  نحن بحاجه الي استراتيجيات جديده لتقليل surgery...   \n",
      "38     7620  عندما تتطور artificial intelligence ستصبح auto...   \n",
      "39     3464  لتحقيق النجاح يجب ان نركز علي datadriven decis...   \n",
      "40     9905  اذا كنت تبحث عن home appliances قم بزياره loca...   \n",
      "41      362  اذا كانت لديك فكره جديده لا تتردد في تنفيذها ف...   \n",
      "42     4910  تعتبر consumer electronics من اكثر الاقسام روا...   \n",
      "43     9835  يجب علي الاطباء ان يتعلموا كيفيه استخدام elect...   \n",
      "44     6451  اذا استخدمت machine learning في software devel...   \n",
      "45      932  اذا كنت تبحث عن high returns فان stock market ...   \n",
      "46     5610  عندما تزور retail stores حاول الاستفاده من loy...   \n",
      "47     1945  لتجنب الامراض يجب ان تتناول nutritious foods و...   \n",
      "48     1567  اذا استثمرنا في health technology يمكن ان نحسن...   \n",
      "49    10043  اذا استمر اللاعبون في استخدام sports technolog...   \n",
      "\n",
      "   model_responses corrected_model_responses true_label  \n",
      "0           social                    social     social  \n",
      "1           sports                    sports     sports  \n",
      "2          medical                   medical    medical  \n",
      "3         business                  business   business  \n",
      "4           health                    health     health  \n",
      "5          medical                   medical    medical  \n",
      "6         shopping                  shopping   shopping  \n",
      "7           sports                    sports     sports  \n",
      "8         shopping                  shopping   shopping  \n",
      "9           social                    social     social  \n",
      "10          sports                    sports     sports  \n",
      "11       education                 education  education  \n",
      "12          health                    health    medical  \n",
      "13          health                    health     health  \n",
      "14            tech                      tech       tech  \n",
      "15            tech                      tech       tech  \n",
      "16         finance                   finance    finance  \n",
      "17         finance                   finance    finance  \n",
      "18        business                  business   business  \n",
      "19          social                    social     social  \n",
      "20          sports                    sports     sports  \n",
      "21          social                    social     social  \n",
      "22       education                 education  education  \n",
      "23        shopping                  shopping   shopping  \n",
      "24       education                 education  education  \n",
      "25         finance                   finance    finance  \n",
      "26          health                    health     health  \n",
      "27        business                  business   business  \n",
      "28        business                  business   business  \n",
      "29        business                  business   business  \n",
      "30          social                    social     social  \n",
      "31          social                    social     social  \n",
      "32          health                    health     health  \n",
      "33          sports                    sports     sports  \n",
      "34          health                    health     health  \n",
      "35       education                 education     health  \n",
      "36         finance                   finance    finance  \n",
      "37         medical                   medical    medical  \n",
      "38            tech                      tech       tech  \n",
      "39        business                  business   business  \n",
      "40        shopping                  shopping   shopping  \n",
      "41        business                  business   business  \n",
      "42        shopping                  shopping   shopping  \n",
      "43          health                    health    medical  \n",
      "44            tech                      tech       tech  \n",
      "45         finance                   finance    finance  \n",
      "46        shopping                  shopping   shopping  \n",
      "47          health                    health     health  \n",
      "48          health                    health    medical  \n",
      "49          sports                    sports     sports  \n"
     ]
    },
    {
     "name": "stderr",
     "output_type": "stream",
     "text": [
      "\n"
     ]
    }
   ],
   "source": [
    "results_df = test_range(eval_df, prompt_config_carp, prompt_examples_carp, prompt_prefix_carp, prompt_suffix_carp, pre_processing=your_pre_processing_carp, post_processing=your_post_processing_carp, model=model, debug=False)\n",
    "print(results_df)"
   ]
  },
  {
   "cell_type": "code",
   "execution_count": 60,
   "metadata": {},
   "outputs": [],
   "source": [
    "results_df.to_excel('carp_analysis.xlsx', index=False)"
   ]
  },
  {
   "cell_type": "code",
   "execution_count": 61,
   "metadata": {},
   "outputs": [],
   "source": [
    "results_df['corrected_model_responses'] = results_df['model_responses'].apply(your_post_processing_carp)"
   ]
  },
  {
   "cell_type": "code",
   "execution_count": 62,
   "metadata": {},
   "outputs": [
    {
     "data": {
      "text/plain": [
       "0.9164285714285714"
      ]
     },
     "execution_count": 62,
     "metadata": {},
     "output_type": "execute_result"
    }
   ],
   "source": [
    "f1_score(results_df['true_label'], results_df['corrected_model_responses'],average='weighted')"
   ]
  },
  {
   "cell_type": "code",
   "execution_count": 63,
   "metadata": {},
   "outputs": [
    {
     "name": "stdout",
     "output_type": "stream",
     "text": [
      "              precision    recall  f1-score   support\n",
      "\n",
      "    business       1.00      1.00      1.00         7\n",
      "   education       0.75      1.00      0.86         3\n",
      "     finance       1.00      1.00      1.00         5\n",
      "      health       0.67      0.86      0.75         7\n",
      "     medical       1.00      0.50      0.67         6\n",
      "    shopping       1.00      1.00      1.00         6\n",
      "      social       1.00      1.00      1.00         6\n",
      "      sports       1.00      1.00      1.00         6\n",
      "        tech       1.00      1.00      1.00         4\n",
      "\n",
      "    accuracy                           0.92        50\n",
      "   macro avg       0.94      0.93      0.92        50\n",
      "weighted avg       0.94      0.92      0.92        50\n",
      "\n"
     ]
    }
   ],
   "source": [
    "print(classification_report(results_df['true_label'], results_df['corrected_model_responses']))"
   ]
  },
  {
   "cell_type": "markdown",
   "metadata": {},
   "source": [
    "# self consistency"
   ]
  },
  {
   "cell_type": "code",
   "execution_count": null,
   "metadata": {},
   "outputs": [],
   "source": [
    "def majority_vote(predictions):\n",
    "    from collections import Counter\n",
    "    \n",
    "    if not predictions:\n",
    "        return 'unknown'    \n",
    "    prediction_counts = Counter(predictions)\n",
    "    most_common = prediction_counts.most_common()\n",
    "    \n",
    "    if len(most_common) == 1:\n",
    "        return most_common[0][0]\n",
    "    else:\n",
    "        return most_common[0][0]\n",
    "\n",
    "def self_consistency_post_processing(output_string):\n",
    "\n",
    "    categories = ['business', 'education', 'finance', 'health', 'medical', \n",
    "                 'shopping', 'social', 'sports', 'tech']\n",
    "    \n",
    "    output_lower = output_string.lower()\n",
    "    final_answer_patterns = [\n",
    "        'final answer:',\n",
    "        'answer:',\n",
    "        'category:',\n",
    "        'classification:'\n",
    "    ]\n",
    "    \n",
    "    for pattern in final_answer_patterns:\n",
    "        if pattern in output_lower:\n",
    "            parts = output_lower.split(pattern, 1)\n",
    "            if len(parts) > 1:\n",
    "                answer_text = parts[1].strip()\n",
    "                for category in categories:\n",
    "                    if category in answer_text.split()[0] if answer_text else False:\n",
    "                        return category\n",
    "    \n",
    "    for category in categories:\n",
    "        if f\" {category} \" in f\" {output_lower} \":\n",
    "            return category\n",
    "    \n",
    "    return output_string.split()[0] if output_string.strip() else 'unknown'"
   ]
  },
  {
   "cell_type": "code",
   "execution_count": null,
   "metadata": {},
   "outputs": [],
   "source": [
    "def self_consistency_prompting(df, prompt_config, prompt_prefix, examples, prompt_suffix,\n",
    "                             pre_processing=lambda x:x, post_processing=lambda y:y,\n",
    "                             model='llama-3.3-70b-versatile', \n",
    "                             num_samples=3, \n",
    "                             debug=False):\n",
    "\n",
    "    \n",
    "    text_ids = []\n",
    "    answers = []\n",
    "    all_model_responses = []  \n",
    "    final_predictions = []    \n",
    "    text_list = []\n",
    "    individual_predictions_list = []\n",
    "    \n",
    "    for idx, row in tqdm(df.iterrows()):\n",
    "        text_ids.append(idx)\n",
    "        fixed_prompt = row['text'] + \"\\n\"\n",
    "        text_list.append(row['text'])\n",
    "        fixed_prompt = pre_processing(fixed_prompt)\n",
    "        \n",
    "        reasoning_prompt = prompt_prefix + examples + fixed_prompt + prompt_suffix\n",
    "        \n",
    "        answer = row['label']\n",
    "        answers.append(answer)\n",
    "        \n",
    "        reasoning_samples = []\n",
    "        predictions = []\n",
    "        \n",
    "        for sample_num in range(num_samples):\n",
    "            sample_config = prompt_config.copy()\n",
    "            sample_config['temperature'] = min(0.8, prompt_config.get('temperature', 0.7) + 0.1 * sample_num)\n",
    "            \n",
    "            model_response = call_groq_api(\n",
    "                reasoning_prompt, \n",
    "                sample_config, \n",
    "                pre_processing, \n",
    "                lambda y: y, \n",
    "                model=model, \n",
    "                debug=debug\n",
    "            )\n",
    "            \n",
    "            reasoning_samples.append(model_response)\n",
    "            \n",
    "            prediction = post_processing(model_response)\n",
    "            predictions.append(prediction)\n",
    "            \n",
    "            sleep(0.5)  \n",
    "        \n",
    "        final_prediction = majority_vote(predictions)\n",
    "        all_model_responses.append(reasoning_samples)\n",
    "        individual_predictions_list.append(predictions)\n",
    "        final_predictions.append(final_prediction)\n",
    "        \n",
    "        sleep(1)  \n",
    "    \n",
    "    result_df = pd.DataFrame({\n",
    "        'text_id': text_ids, \n",
    "        'text': text_list, \n",
    "        'all_reasoning_samples': all_model_responses,  \n",
    "        'individual_predictions': individual_predictions_list,\n",
    "        'corrected_model_responses': final_predictions, \n",
    "        'true_label': answers\n",
    "    })\n",
    "    return result_df"
   ]
  },
  {
   "cell_type": "code",
   "execution_count": null,
   "metadata": {},
   "outputs": [],
   "source": [
    "def create_self_consistency_prompt():\n",
    "\n",
    "    categories = get_all_categories()\n",
    "    categories_text = \", \".join(categories)\n",
    "    \n",
    "    prompt_prefix_sc = f\"\"\"\n",
    "Classify the following Combined Arabic and English text into one of these categories:\n",
    "{categories_text}.\n",
    "\n",
    "Analyze the text and decide the most suitable category.\n",
    "\n",
    "Output format: Only write the final category name with no explanation, no extra text, and no punctuation.\n",
    "\"\"\"\n",
    "\n",
    "    \n",
    "    examples_sc = '''\n",
    "Example 1:\n",
    "Input Text: تطوير business strategy فعاله يعتمد علي فهم market trends بشكل شامل\n",
    "Reasoning: This text discusses business strategy development and market trends analysis, which are core business concepts. The keywords \"business strategy\" and \"market trends\" clearly indicate this belongs to business category.\n",
    "Final Answer: business\n",
    "\n",
    "Example 2:\n",
    "Input Text: اذا كنت ترغب في تحسين mental health يجب عليك ممارسه mindfulness بانتظام\n",
    "Reasoning: The text focuses on mental health improvement through mindfulness practice. Keywords like \"mental health\" and \"mindfulness\" are health-related topics about psychological well-being.\n",
    "Final Answer: health\n",
    "\n",
    "Example 3:\n",
    "Input Text: استخدام machine learning في data analysis يحسن دقة التنبؤات\n",
    "Reasoning: This text discusses machine learning and data analysis for improving prediction accuracy. These are technical concepts related to technology and artificial intelligence.\n",
    "Final Answer: tech\n",
    "'''\n",
    "    \n",
    "    prompt_suffix_sc = \"Reasoning: \"\n",
    "    \n",
    "    return prompt_prefix_sc, examples_sc, prompt_suffix_sc\n",
    "\n",
    "prompt_config_sc = {\n",
    "    'max_tokens': 150, \n",
    "    'temperature': 0.7,  \n",
    "    'top_p': 0.9,\n",
    "    'stop': ['\\nInput Text:', 'Example:']  # Stop conditions\n",
    "}"
   ]
  },
  {
   "cell_type": "code",
   "execution_count": null,
   "metadata": {},
   "outputs": [
    {
     "name": "stdout",
     "output_type": "stream",
     "text": [
      "Found categories: ['business', 'education', 'finance', 'health', 'medical', 'shopping', 'social', 'sports', 'tech']\n",
      "Total categories: 9\n",
      "llama-3.3-70b-versatile\n"
     ]
    },
    {
     "name": "stderr",
     "output_type": "stream",
     "text": [
      "11it [00:41,  5.16s/it]"
     ]
    }
   ],
   "source": [
    "\n",
    "prompt_prefix_sc, prompt_examples_sc, prompt_suffix_sc = create_self_consistency_prompt()\n",
    "\n",
    "model = 'llama-3.3-70b-versatile'\n",
    "print(model)\n",
    "\n",
    "eval_df = get_eval_df(50)  \n",
    "\n",
    "results_df = self_consistency_prompting(\n",
    "    eval_df, \n",
    "    prompt_config_sc, \n",
    "    prompt_examples_sc, \n",
    "    prompt_prefix_sc, \n",
    "    prompt_suffix_sc,\n",
    "    pre_processing=your_pre_processing_zs,\n",
    "    post_processing=self_consistency_post_processing,\n",
    "    model=model,\n",
    "    num_samples=3, \n",
    "    debug=False\n",
    ")\n",
    "\n",
    "print(results_df[['text_id', 'text', 'corrected_model_responses', 'true_label']])"
   ]
  },
  {
   "cell_type": "code",
   "execution_count": null,
   "metadata": {},
   "outputs": [],
   "source": [
    "results_df.to_excel('self_analysis.xlsx', index=False)"
   ]
  },
  {
   "cell_type": "code",
   "execution_count": null,
   "metadata": {},
   "outputs": [
    {
     "data": {
      "text/plain": [
       "0.9605847953216374"
      ]
     },
     "execution_count": 89,
     "metadata": {},
     "output_type": "execute_result"
    }
   ],
   "source": [
    "f1_score(results_df['true_label'], results_df['corrected_model_responses'],average='weighted')"
   ]
  },
  {
   "cell_type": "code",
   "execution_count": null,
   "metadata": {},
   "outputs": [
    {
     "name": "stdout",
     "output_type": "stream",
     "text": [
      "              precision    recall  f1-score   support\n",
      "\n",
      "    business       0.80      1.00      0.89         4\n",
      "   education       1.00      1.00      1.00        10\n",
      "     finance       0.89      0.89      0.89         9\n",
      "      health       1.00      1.00      1.00         1\n",
      "     medical       1.00      1.00      1.00         2\n",
      "    shopping       1.00      1.00      1.00         6\n",
      "      social       1.00      1.00      1.00         3\n",
      "      sports       1.00      1.00      1.00         5\n",
      "        tech       1.00      0.90      0.95        10\n",
      "\n",
      "    accuracy                           0.96        50\n",
      "   macro avg       0.97      0.98      0.97        50\n",
      "weighted avg       0.96      0.96      0.96        50\n",
      "\n"
     ]
    }
   ],
   "source": [
    "print(classification_report(results_df['true_label'], results_df['corrected_model_responses']))"
   ]
  },
  {
   "attachments": {},
   "cell_type": "markdown",
   "metadata": {},
   "source": [
    "## Test Set Inference"
   ]
  },
  {
   "cell_type": "code",
   "execution_count": null,
   "metadata": {},
   "outputs": [],
   "source": [
    "test_df = get_test_set()"
   ]
  },
  {
   "cell_type": "code",
   "execution_count": null,
   "metadata": {},
   "outputs": [
    {
     "name": "stderr",
     "output_type": "stream",
     "text": [
      "10it [00:14,  1.50s/it]\n"
     ]
    }
   ],
   "source": [
    "results_df = test_range(test_df, prompt_config_cot, prompt_examples_cot, prompt_prefix_cot, prompt_suffix_cot, pre_processing=your_pre_processing_cot, post_processing=your_post_processing_cot, model=model, debug=False)"
   ]
  },
  {
   "cell_type": "code",
   "execution_count": null,
   "metadata": {},
   "outputs": [],
   "source": [
    "results_df['corrected_model_responses'] = results_df['model_responses'].apply(your_post_processing_cot)"
   ]
  },
  {
   "cell_type": "code",
   "execution_count": null,
   "metadata": {},
   "outputs": [
    {
     "name": "stdout",
     "output_type": "stream",
     "text": [
      "              precision    recall  f1-score   support\n",
      "\n",
      "    business       0.00      0.00      0.00         0\n",
      "   education       1.00      1.00      1.00         1\n",
      "      health       1.00      1.00      1.00         1\n",
      "     medical       1.00      1.00      1.00         1\n",
      "    shopping       1.00      1.00      1.00         1\n",
      "      social       1.00      1.00      1.00         2\n",
      "      sports       1.00      1.00      1.00         1\n",
      "        tech       1.00      0.33      0.50         3\n",
      "\n",
      "    accuracy                           0.80        10\n",
      "   macro avg       0.88      0.79      0.81        10\n",
      "weighted avg       1.00      0.80      0.85        10\n",
      "\n"
     ]
    },
    {
     "name": "stderr",
     "output_type": "stream",
     "text": [
      "c:\\Users\\Mohamed\\AppData\\Local\\Programs\\Python\\Python312\\Lib\\site-packages\\sklearn\\metrics\\_classification.py:1531: UndefinedMetricWarning: Recall is ill-defined and being set to 0.0 in labels with no true samples. Use `zero_division` parameter to control this behavior.\n",
      "  _warn_prf(average, modifier, f\"{metric.capitalize()} is\", len(result))\n",
      "c:\\Users\\Mohamed\\AppData\\Local\\Programs\\Python\\Python312\\Lib\\site-packages\\sklearn\\metrics\\_classification.py:1531: UndefinedMetricWarning: Recall is ill-defined and being set to 0.0 in labels with no true samples. Use `zero_division` parameter to control this behavior.\n",
      "  _warn_prf(average, modifier, f\"{metric.capitalize()} is\", len(result))\n",
      "c:\\Users\\Mohamed\\AppData\\Local\\Programs\\Python\\Python312\\Lib\\site-packages\\sklearn\\metrics\\_classification.py:1531: UndefinedMetricWarning: Recall is ill-defined and being set to 0.0 in labels with no true samples. Use `zero_division` parameter to control this behavior.\n",
      "  _warn_prf(average, modifier, f\"{metric.capitalize()} is\", len(result))\n"
     ]
    }
   ],
   "source": [
    "print(classification_report(results_df['true_label'], results_df['corrected_model_responses']))"
   ]
  },
  {
   "cell_type": "code",
   "execution_count": null,
   "metadata": {},
   "outputs": [],
   "source": [
    "results_df.to_excel('test_results.xlsx', index=False)"
   ]
  },
  {
   "cell_type": "code",
   "execution_count": null,
   "metadata": {},
   "outputs": [
    {
     "name": "stderr",
     "output_type": "stream",
     "text": [
      "8it [00:24,  3.03s/it]\n"
     ]
    },
    {
     "ename": "RateLimitError",
     "evalue": "Error code: 429 - {'error': {'message': 'Rate limit reached for model `llama-3.3-70b-versatile` in organization `org_01k77w45vhfccawyrk59k06nvc` service tier `on_demand` on tokens per day (TPD): Limit 100000, Used 99046, Requested 1041. Please try again in 1m15.168s. Need more tokens? Upgrade to Dev Tier today at https://console.groq.com/settings/billing', 'type': 'tokens', 'code': 'rate_limit_exceeded'}}",
     "output_type": "error",
     "traceback": [
      "\u001b[1;31m---------------------------------------------------------------------------\u001b[0m",
      "\u001b[1;31mRateLimitError\u001b[0m                            Traceback (most recent call last)",
      "Cell \u001b[1;32mIn[69], line 1\u001b[0m\n\u001b[1;32m----> 1\u001b[0m results_df \u001b[38;5;241m=\u001b[39m \u001b[43mtest_range\u001b[49m\u001b[43m(\u001b[49m\u001b[43mtest_df\u001b[49m\u001b[43m,\u001b[49m\u001b[43m \u001b[49m\u001b[43mprompt_config_cot\u001b[49m\u001b[43m,\u001b[49m\u001b[43m \u001b[49m\u001b[43mprompt_examples_cot\u001b[49m\u001b[43m,\u001b[49m\u001b[43m \u001b[49m\u001b[43mprompt_prefix_cot\u001b[49m\u001b[43m,\u001b[49m\u001b[43m \u001b[49m\u001b[43mprompt_suffix_cot\u001b[49m\u001b[43m,\u001b[49m\u001b[43m \u001b[49m\u001b[43mpre_processing\u001b[49m\u001b[38;5;241;43m=\u001b[39;49m\u001b[43myour_pre_processing_cot\u001b[49m\u001b[43m,\u001b[49m\u001b[43m \u001b[49m\u001b[43mpost_processing\u001b[49m\u001b[38;5;241;43m=\u001b[39;49m\u001b[43myour_post_processing_cot\u001b[49m\u001b[43m,\u001b[49m\u001b[43m \u001b[49m\u001b[43mmodel\u001b[49m\u001b[38;5;241;43m=\u001b[39;49m\u001b[43mmodel\u001b[49m\u001b[43m,\u001b[49m\u001b[43m \u001b[49m\u001b[43mdebug\u001b[49m\u001b[38;5;241;43m=\u001b[39;49m\u001b[38;5;28;43;01mFalse\u001b[39;49;00m\u001b[43m)\u001b[49m\n",
      "Cell \u001b[1;32mIn[8], line 18\u001b[0m, in \u001b[0;36mtest_range\u001b[1;34m(df, prompt_configs, prompt_prefix, examples, prompt_suffix, pre_processing, post_processing, model, debug)\u001b[0m\n\u001b[0;32m     16\u001b[0m answer \u001b[38;5;241m=\u001b[39m row[\u001b[38;5;124m'\u001b[39m\u001b[38;5;124mlabel\u001b[39m\u001b[38;5;124m'\u001b[39m]\n\u001b[0;32m     17\u001b[0m answers\u001b[38;5;241m.\u001b[39mappend(answer)\n\u001b[1;32m---> 18\u001b[0m model_response \u001b[38;5;241m=\u001b[39m \u001b[43mcall_groq_api\u001b[49m\u001b[43m(\u001b[49m\u001b[43mprompt\u001b[49m\u001b[43m,\u001b[49m\u001b[43m \u001b[49m\u001b[43mprompt_configs\u001b[49m\u001b[43m,\u001b[49m\u001b[43m \u001b[49m\u001b[43mpre_processing\u001b[49m\u001b[43m,\u001b[49m\u001b[43m \u001b[49m\u001b[38;5;28;43;01mlambda\u001b[39;49;00m\u001b[43m \u001b[49m\u001b[43my\u001b[49m\u001b[43m:\u001b[49m\u001b[43my\u001b[49m\u001b[43m,\u001b[49m\u001b[43m \u001b[49m\u001b[43mmodel\u001b[49m\u001b[38;5;241;43m=\u001b[39;49m\u001b[43mmodel\u001b[49m\u001b[43m,\u001b[49m\u001b[43m \u001b[49m\u001b[43mdebug\u001b[49m\u001b[38;5;241;43m=\u001b[39;49m\u001b[43mdebug\u001b[49m\u001b[43m)\u001b[49m \n\u001b[0;32m     19\u001b[0m corrected_model_response \u001b[38;5;241m=\u001b[39m post_processing(model_response)\n\u001b[0;32m     20\u001b[0m corrected_model_responses\u001b[38;5;241m.\u001b[39mappend(corrected_model_response)\n",
      "Cell \u001b[1;32mIn[47], line 18\u001b[0m, in \u001b[0;36mcall_groq_api\u001b[1;34m(prompt, student_configs, pre_processing, post_processing, model, debug)\u001b[0m\n\u001b[0;32m      7\u001b[0m prompt \u001b[38;5;241m=\u001b[39m pre_processing(prompt)\n\u001b[0;32m      9\u001b[0m groq_params \u001b[38;5;241m=\u001b[39m {\n\u001b[0;32m     10\u001b[0m     \u001b[38;5;124m'\u001b[39m\u001b[38;5;124mmessages\u001b[39m\u001b[38;5;124m'\u001b[39m: [{\u001b[38;5;124m'\u001b[39m\u001b[38;5;124mrole\u001b[39m\u001b[38;5;124m'\u001b[39m: \u001b[38;5;124m'\u001b[39m\u001b[38;5;124muser\u001b[39m\u001b[38;5;124m'\u001b[39m, \u001b[38;5;124m'\u001b[39m\u001b[38;5;124mcontent\u001b[39m\u001b[38;5;124m'\u001b[39m: prompt}],\n\u001b[0;32m     11\u001b[0m     \u001b[38;5;124m'\u001b[39m\u001b[38;5;124mmodel\u001b[39m\u001b[38;5;124m'\u001b[39m: model,\n\u001b[1;32m   (...)\u001b[0m\n\u001b[0;32m     15\u001b[0m     \u001b[38;5;124m'\u001b[39m\u001b[38;5;124mstop\u001b[39m\u001b[38;5;124m'\u001b[39m: student_configs\u001b[38;5;241m.\u001b[39mget(\u001b[38;5;124m'\u001b[39m\u001b[38;5;124mstop\u001b[39m\u001b[38;5;124m'\u001b[39m, \u001b[38;5;28;01mNone\u001b[39;00m),\n\u001b[0;32m     16\u001b[0m }\n\u001b[1;32m---> 18\u001b[0m output \u001b[38;5;241m=\u001b[39m \u001b[43mgroq_client\u001b[49m\u001b[38;5;241;43m.\u001b[39;49m\u001b[43mchat\u001b[49m\u001b[38;5;241;43m.\u001b[39;49m\u001b[43mcompletions\u001b[49m\u001b[38;5;241;43m.\u001b[39;49m\u001b[43mcreate\u001b[49m\u001b[43m(\u001b[49m\u001b[38;5;241;43m*\u001b[39;49m\u001b[38;5;241;43m*\u001b[39;49m\u001b[43mgroq_params\u001b[49m\u001b[43m)\u001b[49m\n\u001b[0;32m     20\u001b[0m dprint(\u001b[38;5;124m'\u001b[39m\u001b[38;5;124m*****prompt*****\u001b[39m\u001b[38;5;124m'\u001b[39m, debug)\n\u001b[0;32m     21\u001b[0m dprint(prompt, debug)\n",
      "File \u001b[1;32mc:\\Users\\Mohamed\\AppData\\Local\\Programs\\Python\\Python312\\Lib\\site-packages\\groq\\resources\\chat\\completions.py:298\u001b[0m, in \u001b[0;36mCompletions.create\u001b[1;34m(self, messages, model, frequency_penalty, function_call, functions, logit_bias, logprobs, max_tokens, n, parallel_tool_calls, presence_penalty, response_format, seed, stop, stream, temperature, tool_choice, tools, top_logprobs, top_p, user, extra_headers, extra_query, extra_body, timeout)\u001b[0m\n\u001b[0;32m    157\u001b[0m \u001b[38;5;28;01mdef\u001b[39;00m \u001b[38;5;21mcreate\u001b[39m(\n\u001b[0;32m    158\u001b[0m     \u001b[38;5;28mself\u001b[39m,\n\u001b[0;32m    159\u001b[0m     \u001b[38;5;241m*\u001b[39m,\n\u001b[1;32m   (...)\u001b[0m\n\u001b[0;32m    186\u001b[0m     timeout: \u001b[38;5;28mfloat\u001b[39m \u001b[38;5;241m|\u001b[39m httpx\u001b[38;5;241m.\u001b[39mTimeout \u001b[38;5;241m|\u001b[39m \u001b[38;5;28;01mNone\u001b[39;00m \u001b[38;5;241m|\u001b[39m NotGiven \u001b[38;5;241m=\u001b[39m NOT_GIVEN,\n\u001b[0;32m    187\u001b[0m ) \u001b[38;5;241m-\u001b[39m\u001b[38;5;241m>\u001b[39m ChatCompletion \u001b[38;5;241m|\u001b[39m Stream[ChatCompletionChunk]:\n\u001b[0;32m    188\u001b[0m \u001b[38;5;250m    \u001b[39m\u001b[38;5;124;03m\"\"\"\u001b[39;00m\n\u001b[0;32m    189\u001b[0m \u001b[38;5;124;03m    Creates a model response for the given chat conversation.\u001b[39;00m\n\u001b[0;32m    190\u001b[0m \n\u001b[1;32m   (...)\u001b[0m\n\u001b[0;32m    296\u001b[0m \u001b[38;5;124;03m      timeout: Override the client-level default timeout for this request, in seconds\u001b[39;00m\n\u001b[0;32m    297\u001b[0m \u001b[38;5;124;03m    \"\"\"\u001b[39;00m\n\u001b[1;32m--> 298\u001b[0m     \u001b[38;5;28;01mreturn\u001b[39;00m \u001b[38;5;28;43mself\u001b[39;49m\u001b[38;5;241;43m.\u001b[39;49m\u001b[43m_post\u001b[49m\u001b[43m(\u001b[49m\n\u001b[0;32m    299\u001b[0m \u001b[43m        \u001b[49m\u001b[38;5;124;43m\"\u001b[39;49m\u001b[38;5;124;43m/openai/v1/chat/completions\u001b[39;49m\u001b[38;5;124;43m\"\u001b[39;49m\u001b[43m,\u001b[49m\n\u001b[0;32m    300\u001b[0m \u001b[43m        \u001b[49m\u001b[43mbody\u001b[49m\u001b[38;5;241;43m=\u001b[39;49m\u001b[43mmaybe_transform\u001b[49m\u001b[43m(\u001b[49m\n\u001b[0;32m    301\u001b[0m \u001b[43m            \u001b[49m\u001b[43m{\u001b[49m\n\u001b[0;32m    302\u001b[0m \u001b[43m                \u001b[49m\u001b[38;5;124;43m\"\u001b[39;49m\u001b[38;5;124;43mmessages\u001b[39;49m\u001b[38;5;124;43m\"\u001b[39;49m\u001b[43m:\u001b[49m\u001b[43m \u001b[49m\u001b[43mmessages\u001b[49m\u001b[43m,\u001b[49m\n\u001b[0;32m    303\u001b[0m \u001b[43m                \u001b[49m\u001b[38;5;124;43m\"\u001b[39;49m\u001b[38;5;124;43mmodel\u001b[39;49m\u001b[38;5;124;43m\"\u001b[39;49m\u001b[43m:\u001b[49m\u001b[43m \u001b[49m\u001b[43mmodel\u001b[49m\u001b[43m,\u001b[49m\n\u001b[0;32m    304\u001b[0m \u001b[43m                \u001b[49m\u001b[38;5;124;43m\"\u001b[39;49m\u001b[38;5;124;43mfrequency_penalty\u001b[39;49m\u001b[38;5;124;43m\"\u001b[39;49m\u001b[43m:\u001b[49m\u001b[43m \u001b[49m\u001b[43mfrequency_penalty\u001b[49m\u001b[43m,\u001b[49m\n\u001b[0;32m    305\u001b[0m \u001b[43m                \u001b[49m\u001b[38;5;124;43m\"\u001b[39;49m\u001b[38;5;124;43mfunction_call\u001b[39;49m\u001b[38;5;124;43m\"\u001b[39;49m\u001b[43m:\u001b[49m\u001b[43m \u001b[49m\u001b[43mfunction_call\u001b[49m\u001b[43m,\u001b[49m\n\u001b[0;32m    306\u001b[0m \u001b[43m                \u001b[49m\u001b[38;5;124;43m\"\u001b[39;49m\u001b[38;5;124;43mfunctions\u001b[39;49m\u001b[38;5;124;43m\"\u001b[39;49m\u001b[43m:\u001b[49m\u001b[43m \u001b[49m\u001b[43mfunctions\u001b[49m\u001b[43m,\u001b[49m\n\u001b[0;32m    307\u001b[0m \u001b[43m                \u001b[49m\u001b[38;5;124;43m\"\u001b[39;49m\u001b[38;5;124;43mlogit_bias\u001b[39;49m\u001b[38;5;124;43m\"\u001b[39;49m\u001b[43m:\u001b[49m\u001b[43m \u001b[49m\u001b[43mlogit_bias\u001b[49m\u001b[43m,\u001b[49m\n\u001b[0;32m    308\u001b[0m \u001b[43m                \u001b[49m\u001b[38;5;124;43m\"\u001b[39;49m\u001b[38;5;124;43mlogprobs\u001b[39;49m\u001b[38;5;124;43m\"\u001b[39;49m\u001b[43m:\u001b[49m\u001b[43m \u001b[49m\u001b[43mlogprobs\u001b[49m\u001b[43m,\u001b[49m\n\u001b[0;32m    309\u001b[0m \u001b[43m                \u001b[49m\u001b[38;5;124;43m\"\u001b[39;49m\u001b[38;5;124;43mmax_tokens\u001b[39;49m\u001b[38;5;124;43m\"\u001b[39;49m\u001b[43m:\u001b[49m\u001b[43m \u001b[49m\u001b[43mmax_tokens\u001b[49m\u001b[43m,\u001b[49m\n\u001b[0;32m    310\u001b[0m \u001b[43m                \u001b[49m\u001b[38;5;124;43m\"\u001b[39;49m\u001b[38;5;124;43mn\u001b[39;49m\u001b[38;5;124;43m\"\u001b[39;49m\u001b[43m:\u001b[49m\u001b[43m \u001b[49m\u001b[43mn\u001b[49m\u001b[43m,\u001b[49m\n\u001b[0;32m    311\u001b[0m \u001b[43m                \u001b[49m\u001b[38;5;124;43m\"\u001b[39;49m\u001b[38;5;124;43mparallel_tool_calls\u001b[39;49m\u001b[38;5;124;43m\"\u001b[39;49m\u001b[43m:\u001b[49m\u001b[43m \u001b[49m\u001b[43mparallel_tool_calls\u001b[49m\u001b[43m,\u001b[49m\n\u001b[0;32m    312\u001b[0m \u001b[43m                \u001b[49m\u001b[38;5;124;43m\"\u001b[39;49m\u001b[38;5;124;43mpresence_penalty\u001b[39;49m\u001b[38;5;124;43m\"\u001b[39;49m\u001b[43m:\u001b[49m\u001b[43m \u001b[49m\u001b[43mpresence_penalty\u001b[49m\u001b[43m,\u001b[49m\n\u001b[0;32m    313\u001b[0m \u001b[43m                \u001b[49m\u001b[38;5;124;43m\"\u001b[39;49m\u001b[38;5;124;43mresponse_format\u001b[39;49m\u001b[38;5;124;43m\"\u001b[39;49m\u001b[43m:\u001b[49m\u001b[43m \u001b[49m\u001b[43mresponse_format\u001b[49m\u001b[43m,\u001b[49m\n\u001b[0;32m    314\u001b[0m \u001b[43m                \u001b[49m\u001b[38;5;124;43m\"\u001b[39;49m\u001b[38;5;124;43mseed\u001b[39;49m\u001b[38;5;124;43m\"\u001b[39;49m\u001b[43m:\u001b[49m\u001b[43m \u001b[49m\u001b[43mseed\u001b[49m\u001b[43m,\u001b[49m\n\u001b[0;32m    315\u001b[0m \u001b[43m                \u001b[49m\u001b[38;5;124;43m\"\u001b[39;49m\u001b[38;5;124;43mstop\u001b[39;49m\u001b[38;5;124;43m\"\u001b[39;49m\u001b[43m:\u001b[49m\u001b[43m \u001b[49m\u001b[43mstop\u001b[49m\u001b[43m,\u001b[49m\n\u001b[0;32m    316\u001b[0m \u001b[43m                \u001b[49m\u001b[38;5;124;43m\"\u001b[39;49m\u001b[38;5;124;43mstream\u001b[39;49m\u001b[38;5;124;43m\"\u001b[39;49m\u001b[43m:\u001b[49m\u001b[43m \u001b[49m\u001b[43mstream\u001b[49m\u001b[43m,\u001b[49m\n\u001b[0;32m    317\u001b[0m \u001b[43m                \u001b[49m\u001b[38;5;124;43m\"\u001b[39;49m\u001b[38;5;124;43mtemperature\u001b[39;49m\u001b[38;5;124;43m\"\u001b[39;49m\u001b[43m:\u001b[49m\u001b[43m \u001b[49m\u001b[43mtemperature\u001b[49m\u001b[43m,\u001b[49m\n\u001b[0;32m    318\u001b[0m \u001b[43m                \u001b[49m\u001b[38;5;124;43m\"\u001b[39;49m\u001b[38;5;124;43mtool_choice\u001b[39;49m\u001b[38;5;124;43m\"\u001b[39;49m\u001b[43m:\u001b[49m\u001b[43m \u001b[49m\u001b[43mtool_choice\u001b[49m\u001b[43m,\u001b[49m\n\u001b[0;32m    319\u001b[0m \u001b[43m                \u001b[49m\u001b[38;5;124;43m\"\u001b[39;49m\u001b[38;5;124;43mtools\u001b[39;49m\u001b[38;5;124;43m\"\u001b[39;49m\u001b[43m:\u001b[49m\u001b[43m \u001b[49m\u001b[43mtools\u001b[49m\u001b[43m,\u001b[49m\n\u001b[0;32m    320\u001b[0m \u001b[43m                \u001b[49m\u001b[38;5;124;43m\"\u001b[39;49m\u001b[38;5;124;43mtop_logprobs\u001b[39;49m\u001b[38;5;124;43m\"\u001b[39;49m\u001b[43m:\u001b[49m\u001b[43m \u001b[49m\u001b[43mtop_logprobs\u001b[49m\u001b[43m,\u001b[49m\n\u001b[0;32m    321\u001b[0m \u001b[43m                \u001b[49m\u001b[38;5;124;43m\"\u001b[39;49m\u001b[38;5;124;43mtop_p\u001b[39;49m\u001b[38;5;124;43m\"\u001b[39;49m\u001b[43m:\u001b[49m\u001b[43m \u001b[49m\u001b[43mtop_p\u001b[49m\u001b[43m,\u001b[49m\n\u001b[0;32m    322\u001b[0m \u001b[43m                \u001b[49m\u001b[38;5;124;43m\"\u001b[39;49m\u001b[38;5;124;43muser\u001b[39;49m\u001b[38;5;124;43m\"\u001b[39;49m\u001b[43m:\u001b[49m\u001b[43m \u001b[49m\u001b[43muser\u001b[49m\u001b[43m,\u001b[49m\n\u001b[0;32m    323\u001b[0m \u001b[43m            \u001b[49m\u001b[43m}\u001b[49m\u001b[43m,\u001b[49m\n\u001b[0;32m    324\u001b[0m \u001b[43m            \u001b[49m\u001b[43mcompletion_create_params\u001b[49m\u001b[38;5;241;43m.\u001b[39;49m\u001b[43mCompletionCreateParams\u001b[49m\u001b[43m,\u001b[49m\n\u001b[0;32m    325\u001b[0m \u001b[43m        \u001b[49m\u001b[43m)\u001b[49m\u001b[43m,\u001b[49m\n\u001b[0;32m    326\u001b[0m \u001b[43m        \u001b[49m\u001b[43moptions\u001b[49m\u001b[38;5;241;43m=\u001b[39;49m\u001b[43mmake_request_options\u001b[49m\u001b[43m(\u001b[49m\n\u001b[0;32m    327\u001b[0m \u001b[43m            \u001b[49m\u001b[43mextra_headers\u001b[49m\u001b[38;5;241;43m=\u001b[39;49m\u001b[43mextra_headers\u001b[49m\u001b[43m,\u001b[49m\u001b[43m \u001b[49m\u001b[43mextra_query\u001b[49m\u001b[38;5;241;43m=\u001b[39;49m\u001b[43mextra_query\u001b[49m\u001b[43m,\u001b[49m\u001b[43m \u001b[49m\u001b[43mextra_body\u001b[49m\u001b[38;5;241;43m=\u001b[39;49m\u001b[43mextra_body\u001b[49m\u001b[43m,\u001b[49m\u001b[43m \u001b[49m\u001b[43mtimeout\u001b[49m\u001b[38;5;241;43m=\u001b[39;49m\u001b[43mtimeout\u001b[49m\n\u001b[0;32m    328\u001b[0m \u001b[43m        \u001b[49m\u001b[43m)\u001b[49m\u001b[43m,\u001b[49m\n\u001b[0;32m    329\u001b[0m \u001b[43m        \u001b[49m\u001b[43mcast_to\u001b[49m\u001b[38;5;241;43m=\u001b[39;49m\u001b[43mChatCompletion\u001b[49m\u001b[43m,\u001b[49m\n\u001b[0;32m    330\u001b[0m \u001b[43m        \u001b[49m\u001b[43mstream\u001b[49m\u001b[38;5;241;43m=\u001b[39;49m\u001b[43mstream\u001b[49m\u001b[43m \u001b[49m\u001b[38;5;129;43;01mor\u001b[39;49;00m\u001b[43m \u001b[49m\u001b[38;5;28;43;01mFalse\u001b[39;49;00m\u001b[43m,\u001b[49m\n\u001b[0;32m    331\u001b[0m \u001b[43m        \u001b[49m\u001b[43mstream_cls\u001b[49m\u001b[38;5;241;43m=\u001b[39;49m\u001b[43mStream\u001b[49m\u001b[43m[\u001b[49m\u001b[43mChatCompletionChunk\u001b[49m\u001b[43m]\u001b[49m\u001b[43m,\u001b[49m\n\u001b[0;32m    332\u001b[0m \u001b[43m    \u001b[49m\u001b[43m)\u001b[49m\n",
      "File \u001b[1;32mc:\\Users\\Mohamed\\AppData\\Local\\Programs\\Python\\Python312\\Lib\\site-packages\\groq\\_base_client.py:1263\u001b[0m, in \u001b[0;36mSyncAPIClient.post\u001b[1;34m(self, path, cast_to, body, options, files, stream, stream_cls)\u001b[0m\n\u001b[0;32m   1249\u001b[0m \u001b[38;5;28;01mdef\u001b[39;00m \u001b[38;5;21mpost\u001b[39m(\n\u001b[0;32m   1250\u001b[0m     \u001b[38;5;28mself\u001b[39m,\n\u001b[0;32m   1251\u001b[0m     path: \u001b[38;5;28mstr\u001b[39m,\n\u001b[1;32m   (...)\u001b[0m\n\u001b[0;32m   1258\u001b[0m     stream_cls: \u001b[38;5;28mtype\u001b[39m[_StreamT] \u001b[38;5;241m|\u001b[39m \u001b[38;5;28;01mNone\u001b[39;00m \u001b[38;5;241m=\u001b[39m \u001b[38;5;28;01mNone\u001b[39;00m,\n\u001b[0;32m   1259\u001b[0m ) \u001b[38;5;241m-\u001b[39m\u001b[38;5;241m>\u001b[39m ResponseT \u001b[38;5;241m|\u001b[39m _StreamT:\n\u001b[0;32m   1260\u001b[0m     opts \u001b[38;5;241m=\u001b[39m FinalRequestOptions\u001b[38;5;241m.\u001b[39mconstruct(\n\u001b[0;32m   1261\u001b[0m         method\u001b[38;5;241m=\u001b[39m\u001b[38;5;124m\"\u001b[39m\u001b[38;5;124mpost\u001b[39m\u001b[38;5;124m\"\u001b[39m, url\u001b[38;5;241m=\u001b[39mpath, json_data\u001b[38;5;241m=\u001b[39mbody, files\u001b[38;5;241m=\u001b[39mto_httpx_files(files), \u001b[38;5;241m*\u001b[39m\u001b[38;5;241m*\u001b[39moptions\n\u001b[0;32m   1262\u001b[0m     )\n\u001b[1;32m-> 1263\u001b[0m     \u001b[38;5;28;01mreturn\u001b[39;00m cast(ResponseT, \u001b[38;5;28;43mself\u001b[39;49m\u001b[38;5;241;43m.\u001b[39;49m\u001b[43mrequest\u001b[49m\u001b[43m(\u001b[49m\u001b[43mcast_to\u001b[49m\u001b[43m,\u001b[49m\u001b[43m \u001b[49m\u001b[43mopts\u001b[49m\u001b[43m,\u001b[49m\u001b[43m \u001b[49m\u001b[43mstream\u001b[49m\u001b[38;5;241;43m=\u001b[39;49m\u001b[43mstream\u001b[49m\u001b[43m,\u001b[49m\u001b[43m \u001b[49m\u001b[43mstream_cls\u001b[49m\u001b[38;5;241;43m=\u001b[39;49m\u001b[43mstream_cls\u001b[49m\u001b[43m)\u001b[49m)\n",
      "File \u001b[1;32mc:\\Users\\Mohamed\\AppData\\Local\\Programs\\Python\\Python312\\Lib\\site-packages\\groq\\_base_client.py:955\u001b[0m, in \u001b[0;36mSyncAPIClient.request\u001b[1;34m(self, cast_to, options, remaining_retries, stream, stream_cls)\u001b[0m\n\u001b[0;32m    952\u001b[0m \u001b[38;5;28;01melse\u001b[39;00m:\n\u001b[0;32m    953\u001b[0m     retries_taken \u001b[38;5;241m=\u001b[39m \u001b[38;5;241m0\u001b[39m\n\u001b[1;32m--> 955\u001b[0m \u001b[38;5;28;01mreturn\u001b[39;00m \u001b[38;5;28;43mself\u001b[39;49m\u001b[38;5;241;43m.\u001b[39;49m\u001b[43m_request\u001b[49m\u001b[43m(\u001b[49m\n\u001b[0;32m    956\u001b[0m \u001b[43m    \u001b[49m\u001b[43mcast_to\u001b[49m\u001b[38;5;241;43m=\u001b[39;49m\u001b[43mcast_to\u001b[49m\u001b[43m,\u001b[49m\n\u001b[0;32m    957\u001b[0m \u001b[43m    \u001b[49m\u001b[43moptions\u001b[49m\u001b[38;5;241;43m=\u001b[39;49m\u001b[43moptions\u001b[49m\u001b[43m,\u001b[49m\n\u001b[0;32m    958\u001b[0m \u001b[43m    \u001b[49m\u001b[43mstream\u001b[49m\u001b[38;5;241;43m=\u001b[39;49m\u001b[43mstream\u001b[49m\u001b[43m,\u001b[49m\n\u001b[0;32m    959\u001b[0m \u001b[43m    \u001b[49m\u001b[43mstream_cls\u001b[49m\u001b[38;5;241;43m=\u001b[39;49m\u001b[43mstream_cls\u001b[49m\u001b[43m,\u001b[49m\n\u001b[0;32m    960\u001b[0m \u001b[43m    \u001b[49m\u001b[43mretries_taken\u001b[49m\u001b[38;5;241;43m=\u001b[39;49m\u001b[43mretries_taken\u001b[49m\u001b[43m,\u001b[49m\n\u001b[0;32m    961\u001b[0m \u001b[43m\u001b[49m\u001b[43m)\u001b[49m\n",
      "File \u001b[1;32mc:\\Users\\Mohamed\\AppData\\Local\\Programs\\Python\\Python312\\Lib\\site-packages\\groq\\_base_client.py:1058\u001b[0m, in \u001b[0;36mSyncAPIClient._request\u001b[1;34m(self, cast_to, options, retries_taken, stream, stream_cls)\u001b[0m\n\u001b[0;32m   1055\u001b[0m         err\u001b[38;5;241m.\u001b[39mresponse\u001b[38;5;241m.\u001b[39mread()\n\u001b[0;32m   1057\u001b[0m     log\u001b[38;5;241m.\u001b[39mdebug(\u001b[38;5;124m\"\u001b[39m\u001b[38;5;124mRe-raising status error\u001b[39m\u001b[38;5;124m\"\u001b[39m)\n\u001b[1;32m-> 1058\u001b[0m     \u001b[38;5;28;01mraise\u001b[39;00m \u001b[38;5;28mself\u001b[39m\u001b[38;5;241m.\u001b[39m_make_status_error_from_response(err\u001b[38;5;241m.\u001b[39mresponse) \u001b[38;5;28;01mfrom\u001b[39;00m \u001b[38;5;28;01mNone\u001b[39;00m\n\u001b[0;32m   1060\u001b[0m \u001b[38;5;28;01mreturn\u001b[39;00m \u001b[38;5;28mself\u001b[39m\u001b[38;5;241m.\u001b[39m_process_response(\n\u001b[0;32m   1061\u001b[0m     cast_to\u001b[38;5;241m=\u001b[39mcast_to,\n\u001b[0;32m   1062\u001b[0m     options\u001b[38;5;241m=\u001b[39moptions,\n\u001b[1;32m   (...)\u001b[0m\n\u001b[0;32m   1066\u001b[0m     retries_taken\u001b[38;5;241m=\u001b[39mretries_taken,\n\u001b[0;32m   1067\u001b[0m )\n",
      "\u001b[1;31mRateLimitError\u001b[0m: Error code: 429 - {'error': {'message': 'Rate limit reached for model `llama-3.3-70b-versatile` in organization `org_01k77w45vhfccawyrk59k06nvc` service tier `on_demand` on tokens per day (TPD): Limit 100000, Used 99046, Requested 1041. Please try again in 1m15.168s. Need more tokens? Upgrade to Dev Tier today at https://console.groq.com/settings/billing', 'type': 'tokens', 'code': 'rate_limit_exceeded'}}"
     ]
    }
   ],
   "source": [
    "results_df = test_range(test_df, prompt_config_cot, prompt_examples_cot, prompt_prefix_cot, prompt_suffix_cot, pre_processing=your_pre_processing_cot, post_processing=your_post_processing_cot, model=model, debug=False)"
   ]
  },
  {
   "cell_type": "code",
   "execution_count": null,
   "metadata": {},
   "outputs": [],
   "source": [
    "results_df['corrected_model_responses'] = results_df['model_responses'].apply(your_post_processing_cot)"
   ]
  },
  {
   "cell_type": "code",
   "execution_count": null,
   "metadata": {},
   "outputs": [],
   "source": [
    "results_df = pd.read_excel('test_results.xlsx')"
   ]
  },
  {
   "cell_type": "code",
   "execution_count": null,
   "metadata": {},
   "outputs": [
    {
     "name": "stdout",
     "output_type": "stream",
     "text": [
      "              precision    recall  f1-score   support\n",
      "\n",
      "   education     1.0000    0.5000    0.6667         2\n",
      "      health     1.0000    1.0000    1.0000         5\n",
      "     medical     1.0000    1.0000    1.0000         1\n",
      "    shopping     1.0000    1.0000    1.0000         2\n",
      "         عند     0.0000    0.0000    0.0000         0\n",
      "\n",
      "    accuracy                         0.9000        10\n",
      "   macro avg     0.8000    0.7000    0.7333        10\n",
      "weighted avg     1.0000    0.9000    0.9333        10\n",
      "\n"
     ]
    },
    {
     "name": "stderr",
     "output_type": "stream",
     "text": [
      "c:\\Users\\Mohamed\\AppData\\Local\\Programs\\Python\\Python312\\Lib\\site-packages\\sklearn\\metrics\\_classification.py:1531: UndefinedMetricWarning: Recall is ill-defined and being set to 0.0 in labels with no true samples. Use `zero_division` parameter to control this behavior.\n",
      "  _warn_prf(average, modifier, f\"{metric.capitalize()} is\", len(result))\n",
      "c:\\Users\\Mohamed\\AppData\\Local\\Programs\\Python\\Python312\\Lib\\site-packages\\sklearn\\metrics\\_classification.py:1531: UndefinedMetricWarning: Recall is ill-defined and being set to 0.0 in labels with no true samples. Use `zero_division` parameter to control this behavior.\n",
      "  _warn_prf(average, modifier, f\"{metric.capitalize()} is\", len(result))\n",
      "c:\\Users\\Mohamed\\AppData\\Local\\Programs\\Python\\Python312\\Lib\\site-packages\\sklearn\\metrics\\_classification.py:1531: UndefinedMetricWarning: Recall is ill-defined and being set to 0.0 in labels with no true samples. Use `zero_division` parameter to control this behavior.\n",
      "  _warn_prf(average, modifier, f\"{metric.capitalize()} is\", len(result))\n"
     ]
    }
   ],
   "source": [
    "print(classification_report(results_df['true_label'], results_df['corrected_model_responses'], digits=4))"
   ]
  },
  {
   "cell_type": "code",
   "execution_count": null,
   "metadata": {},
   "outputs": [],
   "source": [
    "joined_df = results_df.set_index(\"text_id\").join(test_df.set_index('text'), lsuffix='_caller', rsuffix='_other')"
   ]
  },
  {
   "cell_type": "code",
   "execution_count": null,
   "metadata": {},
   "outputs": [],
   "source": [
    "joined_df['codemixed'] = joined_df['text'].apply(is_codemixed)\n",
    "cm = joined_df.loc[joined_df['codemixed'] == 1]\n",
    "mono = joined_df.loc[joined_df['codemixed'] == 0]"
   ]
  },
  {
   "cell_type": "code",
   "execution_count": null,
   "metadata": {},
   "outputs": [
    {
     "ename": "ValueError",
     "evalue": "max() iterable argument is empty",
     "output_type": "error",
     "traceback": [
      "\u001b[1;31m---------------------------------------------------------------------------\u001b[0m",
      "\u001b[1;31mValueError\u001b[0m                                Traceback (most recent call last)",
      "Cell \u001b[1;32mIn[100], line 1\u001b[0m\n\u001b[1;32m----> 1\u001b[0m \u001b[38;5;28mprint\u001b[39m(\u001b[43mclassification_report\u001b[49m\u001b[43m(\u001b[49m\u001b[43mmono\u001b[49m\u001b[43m[\u001b[49m\u001b[38;5;124;43m'\u001b[39;49m\u001b[38;5;124;43mtrue_label\u001b[39;49m\u001b[38;5;124;43m'\u001b[39;49m\u001b[43m]\u001b[49m\u001b[43m,\u001b[49m\u001b[43m \u001b[49m\u001b[43mmono\u001b[49m\u001b[43m[\u001b[49m\u001b[38;5;124;43m'\u001b[39;49m\u001b[38;5;124;43mcorrected_model_responses\u001b[39;49m\u001b[38;5;124;43m'\u001b[39;49m\u001b[43m]\u001b[49m\u001b[43m,\u001b[49m\u001b[43m \u001b[49m\u001b[43mdigits\u001b[49m\u001b[38;5;241;43m=\u001b[39;49m\u001b[38;5;241;43m4\u001b[39;49m\u001b[43m)\u001b[49m)\n",
      "File \u001b[1;32mc:\\Users\\Mohamed\\AppData\\Local\\Programs\\Python\\Python312\\Lib\\site-packages\\sklearn\\utils\\_param_validation.py:213\u001b[0m, in \u001b[0;36mvalidate_params.<locals>.decorator.<locals>.wrapper\u001b[1;34m(*args, **kwargs)\u001b[0m\n\u001b[0;32m    207\u001b[0m \u001b[38;5;28;01mtry\u001b[39;00m:\n\u001b[0;32m    208\u001b[0m     \u001b[38;5;28;01mwith\u001b[39;00m config_context(\n\u001b[0;32m    209\u001b[0m         skip_parameter_validation\u001b[38;5;241m=\u001b[39m(\n\u001b[0;32m    210\u001b[0m             prefer_skip_nested_validation \u001b[38;5;129;01mor\u001b[39;00m global_skip_validation\n\u001b[0;32m    211\u001b[0m         )\n\u001b[0;32m    212\u001b[0m     ):\n\u001b[1;32m--> 213\u001b[0m         \u001b[38;5;28;01mreturn\u001b[39;00m \u001b[43mfunc\u001b[49m\u001b[43m(\u001b[49m\u001b[38;5;241;43m*\u001b[39;49m\u001b[43margs\u001b[49m\u001b[43m,\u001b[49m\u001b[43m \u001b[49m\u001b[38;5;241;43m*\u001b[39;49m\u001b[38;5;241;43m*\u001b[39;49m\u001b[43mkwargs\u001b[49m\u001b[43m)\u001b[49m\n\u001b[0;32m    214\u001b[0m \u001b[38;5;28;01mexcept\u001b[39;00m InvalidParameterError \u001b[38;5;28;01mas\u001b[39;00m e:\n\u001b[0;32m    215\u001b[0m     \u001b[38;5;66;03m# When the function is just a wrapper around an estimator, we allow\u001b[39;00m\n\u001b[0;32m    216\u001b[0m     \u001b[38;5;66;03m# the function to delegate validation to the estimator, but we replace\u001b[39;00m\n\u001b[0;32m    217\u001b[0m     \u001b[38;5;66;03m# the name of the estimator by the name of the function in the error\u001b[39;00m\n\u001b[0;32m    218\u001b[0m     \u001b[38;5;66;03m# message to avoid confusion.\u001b[39;00m\n\u001b[0;32m    219\u001b[0m     msg \u001b[38;5;241m=\u001b[39m re\u001b[38;5;241m.\u001b[39msub(\n\u001b[0;32m    220\u001b[0m         \u001b[38;5;124mr\u001b[39m\u001b[38;5;124m\"\u001b[39m\u001b[38;5;124mparameter of \u001b[39m\u001b[38;5;124m\\\u001b[39m\u001b[38;5;124mw+ must be\u001b[39m\u001b[38;5;124m\"\u001b[39m,\n\u001b[0;32m    221\u001b[0m         \u001b[38;5;124mf\u001b[39m\u001b[38;5;124m\"\u001b[39m\u001b[38;5;124mparameter of \u001b[39m\u001b[38;5;132;01m{\u001b[39;00mfunc\u001b[38;5;241m.\u001b[39m\u001b[38;5;18m__qualname__\u001b[39m\u001b[38;5;132;01m}\u001b[39;00m\u001b[38;5;124m must be\u001b[39m\u001b[38;5;124m\"\u001b[39m,\n\u001b[0;32m    222\u001b[0m         \u001b[38;5;28mstr\u001b[39m(e),\n\u001b[0;32m    223\u001b[0m     )\n",
      "File \u001b[1;32mc:\\Users\\Mohamed\\AppData\\Local\\Programs\\Python\\Python312\\Lib\\site-packages\\sklearn\\metrics\\_classification.py:2679\u001b[0m, in \u001b[0;36mclassification_report\u001b[1;34m(y_true, y_pred, labels, target_names, sample_weight, digits, output_dict, zero_division)\u001b[0m\n\u001b[0;32m   2677\u001b[0m \u001b[38;5;28;01melse\u001b[39;00m:\n\u001b[0;32m   2678\u001b[0m     longest_last_line_heading \u001b[38;5;241m=\u001b[39m \u001b[38;5;124m\"\u001b[39m\u001b[38;5;124mweighted avg\u001b[39m\u001b[38;5;124m\"\u001b[39m\n\u001b[1;32m-> 2679\u001b[0m     name_width \u001b[38;5;241m=\u001b[39m \u001b[38;5;28;43mmax\u001b[39;49m\u001b[43m(\u001b[49m\u001b[38;5;28;43mlen\u001b[39;49m\u001b[43m(\u001b[49m\u001b[43mcn\u001b[49m\u001b[43m)\u001b[49m\u001b[43m \u001b[49m\u001b[38;5;28;43;01mfor\u001b[39;49;00m\u001b[43m \u001b[49m\u001b[43mcn\u001b[49m\u001b[43m \u001b[49m\u001b[38;5;129;43;01min\u001b[39;49;00m\u001b[43m \u001b[49m\u001b[43mtarget_names\u001b[49m\u001b[43m)\u001b[49m\n\u001b[0;32m   2680\u001b[0m     width \u001b[38;5;241m=\u001b[39m \u001b[38;5;28mmax\u001b[39m(name_width, \u001b[38;5;28mlen\u001b[39m(longest_last_line_heading), digits)\n\u001b[0;32m   2681\u001b[0m     head_fmt \u001b[38;5;241m=\u001b[39m \u001b[38;5;124m\"\u001b[39m\u001b[38;5;124m{\u001b[39m\u001b[38;5;124m:>\u001b[39m\u001b[38;5;132;01m{width}\u001b[39;00m\u001b[38;5;124ms} \u001b[39m\u001b[38;5;124m\"\u001b[39m \u001b[38;5;241m+\u001b[39m \u001b[38;5;124m\"\u001b[39m\u001b[38;5;124m \u001b[39m\u001b[38;5;132;01m{:>9}\u001b[39;00m\u001b[38;5;124m\"\u001b[39m \u001b[38;5;241m*\u001b[39m \u001b[38;5;28mlen\u001b[39m(headers)\n",
      "\u001b[1;31mValueError\u001b[0m: max() iterable argument is empty"
     ]
    }
   ],
   "source": [
    "print(classification_report(mono['true_label'], mono['corrected_model_responses'], digits=4))"
   ]
  },
  {
   "cell_type": "code",
   "execution_count": null,
   "metadata": {},
   "outputs": [
    {
     "name": "stdout",
     "output_type": "stream",
     "text": [
      "              precision    recall  f1-score   support\n",
      "\n",
      "   education     1.0000    0.5000    0.6667         2\n",
      "      health     1.0000    1.0000    1.0000         5\n",
      "     medical     1.0000    1.0000    1.0000         1\n",
      "    shopping     1.0000    1.0000    1.0000         2\n",
      "         عند     0.0000    0.0000    0.0000         0\n",
      "\n",
      "    accuracy                         0.9000        10\n",
      "   macro avg     0.8000    0.7000    0.7333        10\n",
      "weighted avg     1.0000    0.9000    0.9333        10\n",
      "\n"
     ]
    },
    {
     "name": "stderr",
     "output_type": "stream",
     "text": [
      "c:\\Users\\Mohamed\\AppData\\Local\\Programs\\Python\\Python312\\Lib\\site-packages\\sklearn\\metrics\\_classification.py:1531: UndefinedMetricWarning: Recall is ill-defined and being set to 0.0 in labels with no true samples. Use `zero_division` parameter to control this behavior.\n",
      "  _warn_prf(average, modifier, f\"{metric.capitalize()} is\", len(result))\n",
      "c:\\Users\\Mohamed\\AppData\\Local\\Programs\\Python\\Python312\\Lib\\site-packages\\sklearn\\metrics\\_classification.py:1531: UndefinedMetricWarning: Recall is ill-defined and being set to 0.0 in labels with no true samples. Use `zero_division` parameter to control this behavior.\n",
      "  _warn_prf(average, modifier, f\"{metric.capitalize()} is\", len(result))\n",
      "c:\\Users\\Mohamed\\AppData\\Local\\Programs\\Python\\Python312\\Lib\\site-packages\\sklearn\\metrics\\_classification.py:1531: UndefinedMetricWarning: Recall is ill-defined and being set to 0.0 in labels with no true samples. Use `zero_division` parameter to control this behavior.\n",
      "  _warn_prf(average, modifier, f\"{metric.capitalize()} is\", len(result))\n"
     ]
    }
   ],
   "source": [
    "print(classification_report(cm['true_label'], cm['corrected_model_responses'], digits=4))"
   ]
  },
  {
   "attachments": {},
   "cell_type": "markdown",
   "metadata": {},
   "source": [
    "## OOD Set Inference"
   ]
  },
  {
   "cell_type": "code",
   "execution_count": null,
   "metadata": {},
   "outputs": [],
   "source": [
    "# There is No Data for This\n",
    "def get_ood_set(topn=10):\n",
    "    ood_df = pd.read_excel('combined.xlsx')\n",
    "    return ood_df.sample(topn)"
   ]
  },
  {
   "cell_type": "code",
   "execution_count": null,
   "metadata": {},
   "outputs": [],
   "source": [
    "ood_df = get_ood_set()"
   ]
  },
  {
   "cell_type": "code",
   "execution_count": null,
   "metadata": {},
   "outputs": [],
   "source": [
    "model = 'llama-3.1-8b-instant'"
   ]
  },
  {
   "cell_type": "code",
   "execution_count": null,
   "metadata": {},
   "outputs": [
    {
     "name": "stderr",
     "output_type": "stream",
     "text": [
      "10it [00:48,  4.88s/it]\n"
     ]
    }
   ],
   "source": [
    "results_df = test_range(ood_df, prompt_config_cot, prompt_examples_cot, prompt_prefix_cot, prompt_suffix_cot, pre_processing=your_pre_processing_cot, post_processing=your_post_processing_cot, model=model, debug=False)"
   ]
  },
  {
   "cell_type": "code",
   "execution_count": null,
   "metadata": {},
   "outputs": [],
   "source": [
    "results_df['corrected_model_responses'] = results_df['model_responses'].apply(your_post_processing_cot)"
   ]
  },
  {
   "cell_type": "code",
   "execution_count": null,
   "metadata": {},
   "outputs": [
    {
     "name": "stdout",
     "output_type": "stream",
     "text": [
      "                precision    recall  f1-score   support\n",
      "\n",
      "Justification:       0.00      0.00      0.00         0\n",
      "     bussiness       0.00      0.00      0.00         1\n",
      "     education       1.00      0.67      0.80         3\n",
      "       finance       1.00      1.00      1.00         1\n",
      "        health       0.00      0.00      0.00         1\n",
      "      shopping       1.00      1.00      1.00         3\n",
      "        social       1.00      1.00      1.00         1\n",
      "           عند       0.00      0.00      0.00         0\n",
      "         عندما       0.00      0.00      0.00         0\n",
      "\n",
      "      accuracy                           0.70        10\n",
      "     macro avg       0.44      0.41      0.42        10\n",
      "  weighted avg       0.80      0.70      0.74        10\n",
      "\n"
     ]
    },
    {
     "name": "stderr",
     "output_type": "stream",
     "text": [
      "c:\\Users\\Mohamed\\AppData\\Local\\Programs\\Python\\Python312\\Lib\\site-packages\\sklearn\\metrics\\_classification.py:1531: UndefinedMetricWarning: Precision is ill-defined and being set to 0.0 in labels with no predicted samples. Use `zero_division` parameter to control this behavior.\n",
      "  _warn_prf(average, modifier, f\"{metric.capitalize()} is\", len(result))\n",
      "c:\\Users\\Mohamed\\AppData\\Local\\Programs\\Python\\Python312\\Lib\\site-packages\\sklearn\\metrics\\_classification.py:1531: UndefinedMetricWarning: Recall is ill-defined and being set to 0.0 in labels with no true samples. Use `zero_division` parameter to control this behavior.\n",
      "  _warn_prf(average, modifier, f\"{metric.capitalize()} is\", len(result))\n",
      "c:\\Users\\Mohamed\\AppData\\Local\\Programs\\Python\\Python312\\Lib\\site-packages\\sklearn\\metrics\\_classification.py:1531: UndefinedMetricWarning: Precision is ill-defined and being set to 0.0 in labels with no predicted samples. Use `zero_division` parameter to control this behavior.\n",
      "  _warn_prf(average, modifier, f\"{metric.capitalize()} is\", len(result))\n",
      "c:\\Users\\Mohamed\\AppData\\Local\\Programs\\Python\\Python312\\Lib\\site-packages\\sklearn\\metrics\\_classification.py:1531: UndefinedMetricWarning: Recall is ill-defined and being set to 0.0 in labels with no true samples. Use `zero_division` parameter to control this behavior.\n",
      "  _warn_prf(average, modifier, f\"{metric.capitalize()} is\", len(result))\n",
      "c:\\Users\\Mohamed\\AppData\\Local\\Programs\\Python\\Python312\\Lib\\site-packages\\sklearn\\metrics\\_classification.py:1531: UndefinedMetricWarning: Precision is ill-defined and being set to 0.0 in labels with no predicted samples. Use `zero_division` parameter to control this behavior.\n",
      "  _warn_prf(average, modifier, f\"{metric.capitalize()} is\", len(result))\n",
      "c:\\Users\\Mohamed\\AppData\\Local\\Programs\\Python\\Python312\\Lib\\site-packages\\sklearn\\metrics\\_classification.py:1531: UndefinedMetricWarning: Recall is ill-defined and being set to 0.0 in labels with no true samples. Use `zero_division` parameter to control this behavior.\n",
      "  _warn_prf(average, modifier, f\"{metric.capitalize()} is\", len(result))\n"
     ]
    }
   ],
   "source": [
    "print(classification_report(results_df['true_label'], results_df['corrected_model_responses']))"
   ]
  },
  {
   "cell_type": "code",
   "execution_count": null,
   "metadata": {},
   "outputs": [
    {
     "name": "stderr",
     "output_type": "stream",
     "text": [
      "10it [01:39,  9.96s/it]\n"
     ]
    }
   ],
   "source": [
    "results_df = test_range(ood_df, prompt_config_cot, prompt_examples_cot, prompt_prefix_cot, prompt_suffix_cot, pre_processing=your_pre_processing_cot, post_processing=your_post_processing_cot, model=model, debug=False)"
   ]
  },
  {
   "cell_type": "code",
   "execution_count": null,
   "metadata": {},
   "outputs": [],
   "source": [
    "results_df['corrected_model_responses'] = results_df['model_responses'].apply(your_post_processing_cot)"
   ]
  },
  {
   "cell_type": "code",
   "execution_count": null,
   "metadata": {},
   "outputs": [],
   "source": [
    "results_df.to_excel('ood_results.xlsx', index=False)"
   ]
  },
  {
   "cell_type": "code",
   "execution_count": null,
   "metadata": {},
   "outputs": [],
   "source": [
    "results_df = pd.read_excel('ood_results.xlsx')"
   ]
  },
  {
   "cell_type": "code",
   "execution_count": null,
   "metadata": {},
   "outputs": [
    {
     "name": "stdout",
     "output_type": "stream",
     "text": [
      "                precision    recall  f1-score   support\n",
      "\n",
      "Justification:     0.0000    0.0000    0.0000         0\n",
      "     bussiness     0.0000    0.0000    0.0000         1\n",
      "     education     1.0000    1.0000    1.0000         3\n",
      "       finance     1.0000    1.0000    1.0000         1\n",
      "        health     0.0000    0.0000    0.0000         1\n",
      "      shopping     1.0000    1.0000    1.0000         3\n",
      "        social     0.0000    0.0000    0.0000         1\n",
      "         عندما     0.0000    0.0000    0.0000         0\n",
      "\n",
      "      accuracy                         0.7000        10\n",
      "     macro avg     0.3750    0.3750    0.3750        10\n",
      "  weighted avg     0.7000    0.7000    0.7000        10\n",
      "\n"
     ]
    },
    {
     "name": "stderr",
     "output_type": "stream",
     "text": [
      "c:\\Users\\Mohamed\\AppData\\Local\\Programs\\Python\\Python312\\Lib\\site-packages\\sklearn\\metrics\\_classification.py:1531: UndefinedMetricWarning: Precision is ill-defined and being set to 0.0 in labels with no predicted samples. Use `zero_division` parameter to control this behavior.\n",
      "  _warn_prf(average, modifier, f\"{metric.capitalize()} is\", len(result))\n",
      "c:\\Users\\Mohamed\\AppData\\Local\\Programs\\Python\\Python312\\Lib\\site-packages\\sklearn\\metrics\\_classification.py:1531: UndefinedMetricWarning: Recall is ill-defined and being set to 0.0 in labels with no true samples. Use `zero_division` parameter to control this behavior.\n",
      "  _warn_prf(average, modifier, f\"{metric.capitalize()} is\", len(result))\n",
      "c:\\Users\\Mohamed\\AppData\\Local\\Programs\\Python\\Python312\\Lib\\site-packages\\sklearn\\metrics\\_classification.py:1531: UndefinedMetricWarning: Precision is ill-defined and being set to 0.0 in labels with no predicted samples. Use `zero_division` parameter to control this behavior.\n",
      "  _warn_prf(average, modifier, f\"{metric.capitalize()} is\", len(result))\n",
      "c:\\Users\\Mohamed\\AppData\\Local\\Programs\\Python\\Python312\\Lib\\site-packages\\sklearn\\metrics\\_classification.py:1531: UndefinedMetricWarning: Recall is ill-defined and being set to 0.0 in labels with no true samples. Use `zero_division` parameter to control this behavior.\n",
      "  _warn_prf(average, modifier, f\"{metric.capitalize()} is\", len(result))\n",
      "c:\\Users\\Mohamed\\AppData\\Local\\Programs\\Python\\Python312\\Lib\\site-packages\\sklearn\\metrics\\_classification.py:1531: UndefinedMetricWarning: Precision is ill-defined and being set to 0.0 in labels with no predicted samples. Use `zero_division` parameter to control this behavior.\n",
      "  _warn_prf(average, modifier, f\"{metric.capitalize()} is\", len(result))\n",
      "c:\\Users\\Mohamed\\AppData\\Local\\Programs\\Python\\Python312\\Lib\\site-packages\\sklearn\\metrics\\_classification.py:1531: UndefinedMetricWarning: Recall is ill-defined and being set to 0.0 in labels with no true samples. Use `zero_division` parameter to control this behavior.\n",
      "  _warn_prf(average, modifier, f\"{metric.capitalize()} is\", len(result))\n"
     ]
    }
   ],
   "source": [
    "print(classification_report(results_df['true_label'], results_df['corrected_model_responses'], digits=4))"
   ]
  },
  {
   "cell_type": "code",
   "execution_count": null,
   "metadata": {},
   "outputs": [],
   "source": [
    "joined_df = results_df.set_index('text_id').join(ood_df.set_index('text'), lsuffix='_caller', rsuffix='_other')"
   ]
  },
  {
   "cell_type": "code",
   "execution_count": null,
   "metadata": {},
   "outputs": [
    {
     "ename": "KeyError",
     "evalue": "'domain'",
     "output_type": "error",
     "traceback": [
      "\u001b[1;31m---------------------------------------------------------------------------\u001b[0m",
      "\u001b[1;31mKeyError\u001b[0m                                  Traceback (most recent call last)",
      "File \u001b[1;32mc:\\Users\\Mohamed\\AppData\\Local\\Programs\\Python\\Python312\\Lib\\site-packages\\pandas\\core\\indexes\\base.py:3805\u001b[0m, in \u001b[0;36mIndex.get_loc\u001b[1;34m(self, key)\u001b[0m\n\u001b[0;32m   3804\u001b[0m \u001b[38;5;28;01mtry\u001b[39;00m:\n\u001b[1;32m-> 3805\u001b[0m     \u001b[38;5;28;01mreturn\u001b[39;00m \u001b[38;5;28;43mself\u001b[39;49m\u001b[38;5;241;43m.\u001b[39;49m\u001b[43m_engine\u001b[49m\u001b[38;5;241;43m.\u001b[39;49m\u001b[43mget_loc\u001b[49m\u001b[43m(\u001b[49m\u001b[43mcasted_key\u001b[49m\u001b[43m)\u001b[49m\n\u001b[0;32m   3806\u001b[0m \u001b[38;5;28;01mexcept\u001b[39;00m \u001b[38;5;167;01mKeyError\u001b[39;00m \u001b[38;5;28;01mas\u001b[39;00m err:\n",
      "File \u001b[1;32mindex.pyx:167\u001b[0m, in \u001b[0;36mpandas._libs.index.IndexEngine.get_loc\u001b[1;34m()\u001b[0m\n",
      "File \u001b[1;32mindex.pyx:196\u001b[0m, in \u001b[0;36mpandas._libs.index.IndexEngine.get_loc\u001b[1;34m()\u001b[0m\n",
      "File \u001b[1;32mpandas\\\\_libs\\\\hashtable_class_helper.pxi:7081\u001b[0m, in \u001b[0;36mpandas._libs.hashtable.PyObjectHashTable.get_item\u001b[1;34m()\u001b[0m\n",
      "File \u001b[1;32mpandas\\\\_libs\\\\hashtable_class_helper.pxi:7089\u001b[0m, in \u001b[0;36mpandas._libs.hashtable.PyObjectHashTable.get_item\u001b[1;34m()\u001b[0m\n",
      "\u001b[1;31mKeyError\u001b[0m: 'domain'",
      "\nThe above exception was the direct cause of the following exception:\n",
      "\u001b[1;31mKeyError\u001b[0m                                  Traceback (most recent call last)",
      "Cell \u001b[1;32mIn[116], line 1\u001b[0m\n\u001b[1;32m----> 1\u001b[0m rgn \u001b[38;5;241m=\u001b[39m joined_df\u001b[38;5;241m.\u001b[39mloc[\u001b[43mjoined_df\u001b[49m\u001b[43m[\u001b[49m\u001b[38;5;124;43m'\u001b[39;49m\u001b[38;5;124;43mdomain\u001b[39;49m\u001b[38;5;124;43m'\u001b[39;49m\u001b[43m]\u001b[49m\u001b[38;5;241m==\u001b[39m\u001b[38;5;124m'\u001b[39m\u001b[38;5;124mreligion\u001b[39m\u001b[38;5;124m'\u001b[39m]\n\u001b[0;32m      2\u001b[0m gen \u001b[38;5;241m=\u001b[39m joined_df\u001b[38;5;241m.\u001b[39mloc[joined_df[\u001b[38;5;124m'\u001b[39m\u001b[38;5;124mdomain\u001b[39m\u001b[38;5;124m'\u001b[39m]\u001b[38;5;241m==\u001b[39m\u001b[38;5;124m'\u001b[39m\u001b[38;5;124mgender\u001b[39m\u001b[38;5;124m'\u001b[39m]\n\u001b[0;32m      3\u001b[0m ori \u001b[38;5;241m=\u001b[39m joined_df\u001b[38;5;241m.\u001b[39mloc[joined_df[\u001b[38;5;124m'\u001b[39m\u001b[38;5;124mdomain\u001b[39m\u001b[38;5;124m'\u001b[39m]\u001b[38;5;241m==\u001b[39m\u001b[38;5;124m'\u001b[39m\u001b[38;5;124morientation\u001b[39m\u001b[38;5;124m'\u001b[39m]\n",
      "File \u001b[1;32mc:\\Users\\Mohamed\\AppData\\Local\\Programs\\Python\\Python312\\Lib\\site-packages\\pandas\\core\\frame.py:4102\u001b[0m, in \u001b[0;36mDataFrame.__getitem__\u001b[1;34m(self, key)\u001b[0m\n\u001b[0;32m   4100\u001b[0m \u001b[38;5;28;01mif\u001b[39;00m \u001b[38;5;28mself\u001b[39m\u001b[38;5;241m.\u001b[39mcolumns\u001b[38;5;241m.\u001b[39mnlevels \u001b[38;5;241m>\u001b[39m \u001b[38;5;241m1\u001b[39m:\n\u001b[0;32m   4101\u001b[0m     \u001b[38;5;28;01mreturn\u001b[39;00m \u001b[38;5;28mself\u001b[39m\u001b[38;5;241m.\u001b[39m_getitem_multilevel(key)\n\u001b[1;32m-> 4102\u001b[0m indexer \u001b[38;5;241m=\u001b[39m \u001b[38;5;28;43mself\u001b[39;49m\u001b[38;5;241;43m.\u001b[39;49m\u001b[43mcolumns\u001b[49m\u001b[38;5;241;43m.\u001b[39;49m\u001b[43mget_loc\u001b[49m\u001b[43m(\u001b[49m\u001b[43mkey\u001b[49m\u001b[43m)\u001b[49m\n\u001b[0;32m   4103\u001b[0m \u001b[38;5;28;01mif\u001b[39;00m is_integer(indexer):\n\u001b[0;32m   4104\u001b[0m     indexer \u001b[38;5;241m=\u001b[39m [indexer]\n",
      "File \u001b[1;32mc:\\Users\\Mohamed\\AppData\\Local\\Programs\\Python\\Python312\\Lib\\site-packages\\pandas\\core\\indexes\\base.py:3812\u001b[0m, in \u001b[0;36mIndex.get_loc\u001b[1;34m(self, key)\u001b[0m\n\u001b[0;32m   3807\u001b[0m     \u001b[38;5;28;01mif\u001b[39;00m \u001b[38;5;28misinstance\u001b[39m(casted_key, \u001b[38;5;28mslice\u001b[39m) \u001b[38;5;129;01mor\u001b[39;00m (\n\u001b[0;32m   3808\u001b[0m         \u001b[38;5;28misinstance\u001b[39m(casted_key, abc\u001b[38;5;241m.\u001b[39mIterable)\n\u001b[0;32m   3809\u001b[0m         \u001b[38;5;129;01mand\u001b[39;00m \u001b[38;5;28many\u001b[39m(\u001b[38;5;28misinstance\u001b[39m(x, \u001b[38;5;28mslice\u001b[39m) \u001b[38;5;28;01mfor\u001b[39;00m x \u001b[38;5;129;01min\u001b[39;00m casted_key)\n\u001b[0;32m   3810\u001b[0m     ):\n\u001b[0;32m   3811\u001b[0m         \u001b[38;5;28;01mraise\u001b[39;00m InvalidIndexError(key)\n\u001b[1;32m-> 3812\u001b[0m     \u001b[38;5;28;01mraise\u001b[39;00m \u001b[38;5;167;01mKeyError\u001b[39;00m(key) \u001b[38;5;28;01mfrom\u001b[39;00m \u001b[38;5;21;01merr\u001b[39;00m\n\u001b[0;32m   3813\u001b[0m \u001b[38;5;28;01mexcept\u001b[39;00m \u001b[38;5;167;01mTypeError\u001b[39;00m:\n\u001b[0;32m   3814\u001b[0m     \u001b[38;5;66;03m# If we have a listlike key, _check_indexing_error will raise\u001b[39;00m\n\u001b[0;32m   3815\u001b[0m     \u001b[38;5;66;03m#  InvalidIndexError. Otherwise we fall through and re-raise\u001b[39;00m\n\u001b[0;32m   3816\u001b[0m     \u001b[38;5;66;03m#  the TypeError.\u001b[39;00m\n\u001b[0;32m   3817\u001b[0m     \u001b[38;5;28mself\u001b[39m\u001b[38;5;241m.\u001b[39m_check_indexing_error(key)\n",
      "\u001b[1;31mKeyError\u001b[0m: 'domain'"
     ]
    }
   ],
   "source": [
    "rgn = joined_df.loc[joined_df['domain']=='religion']\n",
    "gen = joined_df.loc[joined_df['domain']=='gender']\n",
    "ori = joined_df.loc[joined_df['domain']=='orientation']"
   ]
  },
  {
   "cell_type": "code",
   "execution_count": null,
   "metadata": {},
   "outputs": [],
   "source": [
    "print(classification_report(rgn['offense_caller'], rgn['corrected_model_responses'], digits=4))\n",
    "print(classification_report(gen['offense_caller'], gen['corrected_model_responses'], digits=4))\n",
    "print(classification_report(ori['offense_caller'], ori['corrected_model_responses'], digits=4))\n"
   ]
  },
  {
   "attachments": {},
   "cell_type": "markdown",
   "metadata": {},
   "source": [
    "## ZSL OOD"
   ]
  },
  {
   "cell_type": "code",
   "execution_count": null,
   "metadata": {},
   "outputs": [],
   "source": [
    "results_df = test_range(ood_df, prompt_config_zs, prompt_examples_zs, prompt_prefix_zs, prompt_suffix_zs, pre_processing=your_pre_processing_zs, post_processing=your_post_processing_zs, model=model, debug=False)\n"
   ]
  },
  {
   "cell_type": "code",
   "execution_count": null,
   "metadata": {},
   "outputs": [],
   "source": [
    "results_df.to_csv('zsl_ood_results.csv', index=False)"
   ]
  },
  {
   "cell_type": "code",
   "execution_count": null,
   "metadata": {},
   "outputs": [],
   "source": [
    "joined_df = results_df.set_index('text_id').join(ood_df.set_index('id'), lsuffix='_caller', rsuffix='_other')"
   ]
  },
  {
   "cell_type": "code",
   "execution_count": null,
   "metadata": {},
   "outputs": [],
   "source": [
    "rgn = joined_df.loc[joined_df['domain']=='religion']\n",
    "gen = joined_df.loc[joined_df['domain']=='gender']\n",
    "ori = joined_df.loc[joined_df['domain']=='orientation']"
   ]
  },
  {
   "cell_type": "code",
   "execution_count": null,
   "metadata": {},
   "outputs": [],
   "source": [
    "print(classification_report(rgn['offense_caller'], rgn['corrected_model_responses'], digits=4))\n",
    "print(classification_report(gen['offense_caller'], gen['corrected_model_responses'], digits=4))\n",
    "print(classification_report(ori['offense_caller'], ori['corrected_model_responses'], digits=4))\n",
    "print(classification_report(joined_df['offense_caller'], joined_df['corrected_model_responses'], digits=4))"
   ]
  },
  {
   "cell_type": "markdown",
   "metadata": {},
   "source": [
    "## ICL OOD"
   ]
  },
  {
   "cell_type": "code",
   "execution_count": null,
   "metadata": {},
   "outputs": [],
   "source": [
    "results_df = test_range(ood_df, prompt_config_zs, prompt_examples_icl, prompt_prefix_icl, prompt_suffix_icl, pre_processing=your_pre_processing_zs, post_processing=your_post_processing_zs, model=model, debug=False)\n",
    "results_df.to_csv('icl_ood_results_50ex.csv', index=False)"
   ]
  },
  {
   "cell_type": "code",
   "execution_count": null,
   "metadata": {},
   "outputs": [],
   "source": [
    "joined_df = results_df.set_index('text_id').join(ood_df.set_index('id'), lsuffix='_caller', rsuffix='_other')"
   ]
  },
  {
   "cell_type": "code",
   "execution_count": null,
   "metadata": {},
   "outputs": [],
   "source": [
    "rgn = joined_df.loc[joined_df['domain']=='religion']\n",
    "gen = joined_df.loc[joined_df['domain']=='gender']\n",
    "ori = joined_df.loc[joined_df['domain']=='orientation']"
   ]
  },
  {
   "cell_type": "code",
   "execution_count": null,
   "metadata": {},
   "outputs": [],
   "source": [
    "print(classification_report(rgn['offense_caller'], rgn['corrected_model_responses'], digits=4))\n",
    "print(classification_report(gen['offense_caller'], gen['corrected_model_responses'], digits=4))\n",
    "print(classification_report(ori['offense_caller'], ori['corrected_model_responses'], digits=4))\n",
    "print(classification_report(joined_df['offense_caller'], joined_df['corrected_model_responses'], digits=4))"
   ]
  },
  {
   "cell_type": "code",
   "execution_count": null,
   "metadata": {},
   "outputs": [],
   "source": []
  }
 ],
 "metadata": {
  "kernelspec": {
   "display_name": "Python 3",
   "language": "python",
   "name": "python3"
  },
  "language_info": {
   "codemirror_mode": {
    "name": "ipython",
    "version": 3
   },
   "file_extension": ".py",
   "mimetype": "text/x-python",
   "name": "python",
   "nbconvert_exporter": "python",
   "pygments_lexer": "ipython3",
   "version": "3.12.5"
  },
  "orig_nbformat": 4
 },
 "nbformat": 4,
 "nbformat_minor": 2
}
