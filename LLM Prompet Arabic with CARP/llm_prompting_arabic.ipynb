{
 "cells": [
  {
   "cell_type": "code",
   "execution_count": 1,
   "metadata": {},
   "outputs": [],
   "source": [
    "import numpy as np\n",
    "import pandas as pd\n",
    "from tqdm import tqdm\n",
    "from groq import Groq\n",
    "from time import sleep\n",
    "import re\n",
    "from sklearn.metrics import mean_absolute_error\n",
    "import pandas as pd\n",
    "from sklearn.metrics import f1_score\n",
    "from sklearn.metrics import classification_report\n",
    "import random\n",
    "random.seed(42)"
   ]
  },
  {
   "cell_type": "code",
   "execution_count": 36,
   "metadata": {},
   "outputs": [],
   "source": [
    "def dprint(s, debug):\n",
    "    if debug:\n",
    "        print(s)"
   ]
  },
  {
   "cell_type": "code",
   "execution_count": null,
   "metadata": {},
   "outputs": [],
   "source": [
    "\n",
    "YOUR_GROQ_API_KEY = ''  # Get from https://console.groq.com/keys\n",
    "groq_client = Groq(api_key=YOUR_GROQ_API_KEY)\n",
    "\n",
    "def call_groq_api(prompt, student_configs, pre_processing, post_processing, model='llama3-70b-8192', debug=False):\n",
    "    prompt = pre_processing(prompt)\n",
    "    \n",
    "    groq_params = {\n",
    "        'messages': [{'role': 'user', 'content': prompt}],\n",
    "        'model': model,\n",
    "        'max_tokens': student_configs.get('max_tokens', 512),\n",
    "        'temperature': student_configs.get('temperature', 0.7),\n",
    "        'top_p': student_configs.get('top_p', 0.7),\n",
    "        'stop': student_configs.get('stop', None),\n",
    "    }\n",
    "    \n",
    "    output = groq_client.chat.completions.create(**groq_params)\n",
    "    \n",
    "    dprint('*****prompt*****', debug)\n",
    "    dprint(prompt, debug)\n",
    "    dprint('*****result*****', debug)\n",
    "    res = output.choices[0].message.content\n",
    "    dprint(res, debug)\n",
    "    dprint('*****output*****', debug)\n",
    "    labels_only = post_processing(res)\n",
    "    dprint('POST PROCESSED', debug)\n",
    "    dprint(labels_only, debug)\n",
    "    dprint('=========', debug)\n",
    "    return labels_only"
   ]
  },
  {
   "cell_type": "code",
   "execution_count": null,
   "metadata": {},
   "outputs": [],
   "source": [
    "# model_names = [\n",
    "#     'togethercomputer/llama-2-7b', #LLaMa-2-7B\n",
    "#     'togethercomputer/llama-2-13b', #LLaMa-2-13B\n",
    "#     'togethercomputer/llama-2-70b', #LLaMa-2-70B\n",
    "#     'togethercomputer/llama-2-70b-chat', #LLaMa-2-70B-Chat\n",
    "# ]"
   ]
  },
  {
   "cell_type": "code",
   "execution_count": 4,
   "metadata": {},
   "outputs": [],
   "source": [
    "# Most likely current Groq model names:\n",
    "model_names = [\n",
    "    'llama-3.1-8b-instant',     \n",
    "    \"llama-3.3-70b-versatile\",              \n",
    "]\n",
    "\n"
   ]
  },
  {
   "cell_type": "code",
   "execution_count": 78,
   "metadata": {},
   "outputs": [],
   "source": [
    "def get_train_df(topn = 10):\n",
    "    train_df = pd.read_excel('train_split.xlsx')\n",
    "    return train_df[:topn]\n"
   ]
  },
  {
   "cell_type": "code",
   "execution_count": 79,
   "metadata": {},
   "outputs": [],
   "source": [
    "def get_test_set(topn=10):\n",
    "    test_df = pd.read_excel('test_split.xlsx')\n",
    "    return test_df.sample(topn)\n",
    "    "
   ]
  },
  {
   "cell_type": "code",
   "execution_count": 20,
   "metadata": {},
   "outputs": [],
   "source": [
    "def get_eval_df(topn = 5):\n",
    "    eval_df = pd.read_excel('dev_split.xlsx')\n",
    "    return eval_df.sample(topn)\n",
    "    "
   ]
  },
  {
   "cell_type": "code",
   "execution_count": 97,
   "metadata": {},
   "outputs": [],
   "source": [
    "def test_range(df, prompt_configs, prompt_prefix, examples, prompt_suffix,\n",
    "               pre_processing=lambda x:x, post_processing=lambda y:y,\n",
    "               model='llama-3.3-70b-versatile', debug=False):\n",
    "    text_ids = []\n",
    "    answers = []\n",
    "    model_responses = []\n",
    "    corrected_model_responses = []\n",
    "    text_list = []\n",
    "    \n",
    "    for idx, row in tqdm(df.iterrows()):\n",
    "        text_ids.append(idx)  # Use index as ID if no ID column\n",
    "        fixed_prompt = row['text'] + \"\\n\"\n",
    "        text_list.append(row['text'])\n",
    "        fixed_prompt = pre_processing(fixed_prompt)\n",
    "        prompt = prompt_prefix + examples + fixed_prompt + prompt_suffix\n",
    "        answer = row['label']\n",
    "        answers.append(answer)\n",
    "        model_response = call_groq_api(prompt, prompt_configs, pre_processing, lambda y:y, model=model, debug=debug) \n",
    "        corrected_model_response = post_processing(model_response)\n",
    "        corrected_model_responses.append(corrected_model_response)\n",
    "        model_responses.append(model_response)\n",
    "        sleep(1)\n",
    "    \n",
    "    result_df = pd.DataFrame({\n",
    "        'text_id': text_ids, \n",
    "        'text': text_list, \n",
    "        'model_responses': model_responses, \n",
    "        'corrected_model_responses': corrected_model_responses, \n",
    "        'true_label': answers\n",
    "    })\n",
    "    return result_df"
   ]
  },
  {
   "attachments": {},
   "cell_type": "markdown",
   "metadata": {},
   "source": [
    "## Zero Shot Prompt"
   ]
  },
  {
   "cell_type": "code",
   "execution_count": 49,
   "metadata": {},
   "outputs": [
    {
     "name": "stdout",
     "output_type": "stream",
     "text": [
      "Found categories: ['business', 'education', 'finance', 'health', 'medical', 'shopping', 'social', 'sports', 'tech']\n",
      "Total categories: 9\n"
     ]
    }
   ],
   "source": [
    "def get_all_categories():\n",
    "    train_df = pd.read_excel('train_split.xlsx')\n",
    "    \n",
    "    all_categories = sorted(train_df['label'].unique())\n",
    "    print(\"Found categories:\", all_categories)\n",
    "    print(\"Total categories:\", len(all_categories))\n",
    "    \n",
    "    return all_categories\n",
    "\n",
    "categories = get_all_categories()"
   ]
  },
  {
   "cell_type": "code",
   "execution_count": 72,
   "metadata": {},
   "outputs": [
    {
     "name": "stdout",
     "output_type": "stream",
     "text": [
      "Found categories: ['business', 'education', 'finance', 'health', 'medical', 'shopping', 'social', 'sports', 'tech']\n",
      "Total categories: 9\n"
     ]
    }
   ],
   "source": [
    "categories_list = get_all_categories()\n",
    "categories_text = \", \".join(categories_list)\n",
    "\n",
    "prompt_prefix_zs = f'''\n",
    "Classify the following Combiend Arabic and English text into one of these categories: \n",
    "{categories_text}.\n",
    "\n",
    "Your output should only be one of these exact category names:\n",
    "{chr(10).join(categories_list)}\n",
    "'''\n",
    "\n",
    "prompt_examples_zs = \"Input Text: \"\n",
    "prompt_suffix_zs = \"Output: \"\n"
   ]
  },
  {
   "cell_type": "code",
   "execution_count": 57,
   "metadata": {},
   "outputs": [],
   "source": [
    "def your_pre_processing_zs(input_string):\n",
    "    return re.sub(r\"@user\",\"\", input_string).strip()\n",
    "\n",
    "def your_post_processing_zs(output_string):\n",
    "    output_clean = output_string.strip().lower()\n",
    "    \n",
    "    if 'business' in output_clean:\n",
    "        return 'business'\n",
    "    elif 'shopping' in output_clean:\n",
    "        return 'shopping'\n",
    "    elif 'finance' in output_clean:\n",
    "        return 'finance'\n",
    "    elif 'education' in output_clean:\n",
    "        return 'education'\n",
    "    elif 'tech' in output_clean :\n",
    "        return 'tech'\n",
    "    elif 'technology' in output_clean or \"tech\" in output_clean:\n",
    "        return 'tech'\n",
    "    elif 'sports' in output_clean:\n",
    "        return 'sports'\n",
    "    elif 'medical' in output_clean :\n",
    "        return 'medical'\n",
    "    elif  'social' in output_clean:\n",
    "        return 'social'\n",
    "    else:\n",
    "        return output_string.strip()  "
   ]
  },
  {
   "cell_type": "code",
   "execution_count": 73,
   "metadata": {},
   "outputs": [
    {
     "name": "stdout",
     "output_type": "stream",
     "text": [
      "llama-3.3-70b-versatile\n"
     ]
    }
   ],
   "source": [
    "prompt_config_zs = {\n",
    "    'max_tokens': 3,\n",
    "    'temperature': 0.4,\n",
    "    'top_p': 0.7,\n",
    "    'stop': []\n",
    "}\n",
    "\n",
    "model = 'llama-3.3-70b-versatile'\n",
    "print(model)\n",
    "\n",
    "eval_df = get_eval_df(50)"
   ]
  },
  {
   "cell_type": "code",
   "execution_count": 74,
   "metadata": {},
   "outputs": [
    {
     "name": "stderr",
     "output_type": "stream",
     "text": [
      "50it [01:43,  2.07s/it]"
     ]
    },
    {
     "name": "stdout",
     "output_type": "stream",
     "text": [
      "    text_id                                               text  \\\n",
      "0      1139  هل تعتقد ان fintech innovations ستغير الطريقه ...   \n",
      "1      5759  عند اعداد corporate strategy يجب ان ناخذ بعين ...   \n",
      "2       981  اذا كنت تستخدم discount codes يمكنك توفير الكث...   \n",
      "3      6584  عندما تشتري عبر الانترنت يجب ان تبحث عن best d...   \n",
      "4      5372  اذا تم اكتشاف مرض مبكرا يمكن ان يودي ذلك الي b...   \n",
      "5       114  قم بتطوير مهاراتك في trading لتحسين فرص نجاحك ...   \n",
      "6      4692  اذا لم تستثمر الشركات في digital marketing ستف...   \n",
      "7      1848  في عالم medicine اليوم نحن بحاجه الي المزيد من...   \n",
      "8      2280  هل جربت ecommerce platforms الجديده هناك الكثي...   \n",
      "9      3087  لنحقق الاهداف يجب ان نعمل معا كفريق ونعتمد علي...   \n",
      "10     2842  اذا كنت ترغب في تحسين nutrition يجب ان تتناول ...   \n",
      "11     8183  يجب ان نستخدم social media platforms بشكل فعال...   \n",
      "12     8206  عندما تجد exclusive offers في المتاجر يجب ان ت...   \n",
      "13     2855  هل تعتقد ان blockchain technology ستغير طريقه ...   \n",
      "14     8022  اذا استثمرنا في public health سنري تحسينات كبي...   \n",
      "15     5649  اذا كانت البيانات غير محميه بشكل جيد فان مخاطر...   \n",
      "16     4578  لزياده فعاليه marketing efforts يجب ان نستثمر ...   \n",
      "17     4744  اذا تم تحسين curriculum development فان studen...   \n",
      "18     2482  اذا كنت ترغب في trading stocks يجب ان تتعلم كي...   \n",
      "19     1382  من المهم ان ندمج interactive tools في online c...   \n",
      "20     3097  استخدام data analytics في investment decisions...   \n",
      "21     4636  عند لعب soccer التواصل بين اللاعبين يعتبر مفتا...   \n",
      "22     5427  هل تعتقد ان curriculum development يجب ان يتضم...   \n",
      "23     1713  كيف يمكننا تعزيز public health من خلال زياده ا...   \n",
      "24     3595  عندما ندمج big data analytics مع machine learn...   \n",
      "25      425  عندما تتسوق عبر ecommerce تاكد من قراءه custom...   \n",
      "26      582  اذا تم دمج telemedicine في public health فسيكو...   \n",
      "27     4120  ان استخدام data analytics يمكن ان يساعد في تحس...   \n",
      "28     3237  تعتبر big data من ابرز الادوات التي تساعد الشر...   \n",
      "29     6274  استخدام price comparison websites يمكن ان يساع...   \n",
      "30      680  تسعي الجامعات الي تطوير interdisciplinary prog...   \n",
      "31     5146  عندما تتحدث عن investment portfolios من المهم ...   \n",
      "32     2085  في عالم entrepreneurship من الضروري ان نكون مس...   \n",
      "33     7304  عندما تقررين التسوق لشراء clothes لا تنسي مقار...   \n",
      "34     3509  اذا كانت لديك استراتيجيه جيده في cricket يمكنك...   \n",
      "35     6509  هل تعلم ان ممارسه الرياضه بانتظام تقلل من خطر ...   \n",
      "36     3700  تكنولوجيا biotechnology الحديثه تسهم بشكل كبير...   \n",
      "37     3537  هل تعتقد ان team collaboration يمكن ان تزيد من...   \n",
      "38     5512  اذا استثمرنا في customer feedback فان ذلك سيسا...   \n",
      "39     7815  اذا استثمرنا في biotechnology سيكون لدينا فرصه...   \n",
      "40     2439  لتحقيق النجاح في athletics يجب ان يكون لديك de...   \n",
      "41     1152  هل لديك خطط لاستثمار في fintech startups حيث ا...   \n",
      "42     3428  من المهم ان نكون مستعدين لقياده project manage...   \n",
      "43     1964  هل جربت online shopping خلال seasonal sales ان...   \n",
      "44     6019  لتجنب الامراض يجب ان نكون واعين حول اهميه prev...   \n",
      "45     4660  في عالم اليوم cloud computing اصبح ضروريا لتقل...   \n",
      "46     4094  تعتبر financial literacy عنصرا حيويا في تعزيز ...   \n",
      "47     5755  اذا كنت ترغب في تحسين mental health يجب ان تتب...   \n",
      "48     5277  اذا كانت economic policies غير مستقره فان ذلك ...   \n",
      "49     7335  عند استخدام ai tools يجب ان نكون حذرين بشان et...   \n",
      "\n",
      "   model_responses corrected_model_responses true_label  \n",
      "0          finance                   finance    finance  \n",
      "1         business                  business   business  \n",
      "2         shopping                  shopping   shopping  \n",
      "3         shopping                  shopping   shopping  \n",
      "4           health                    health    medical  \n",
      "5          finance                   finance    finance  \n",
      "6         business                  business   business  \n",
      "7          medical                   medical    medical  \n",
      "8         shopping                  shopping   shopping  \n",
      "9           social                    social   business  \n",
      "10          health                    health    medical  \n",
      "11          social                    social     social  \n",
      "12        shopping                  shopping   shopping  \n",
      "13         finance                   finance       tech  \n",
      "14          health                    health    medical  \n",
      "15            tech                      tech       tech  \n",
      "16        business                  business   business  \n",
      "17       education                 education  education  \n",
      "18         finance                   finance    finance  \n",
      "19       education                 education  education  \n",
      "20         finance                   finance    finance  \n",
      "21          sports                    sports     sports  \n",
      "22       education                 education  education  \n",
      "23          health                    health     health  \n",
      "24            tech                      tech       tech  \n",
      "25        shopping                  shopping   shopping  \n",
      "26          health                    health    medical  \n",
      "27        business                  business   business  \n",
      "28        business                  business       tech  \n",
      "29        shopping                  shopping   shopping  \n",
      "30       education                 education  education  \n",
      "31         finance                   finance    finance  \n",
      "32        business                  business   business  \n",
      "33        shopping                  shopping   shopping  \n",
      "34          sports                    sports     sports  \n",
      "35          sports                    sports     health  \n",
      "36         medical                   medical    medical  \n",
      "37        business                  business   business  \n",
      "38        business                  business   business  \n",
      "39         medical                   medical    medical  \n",
      "40          sports                    sports     sports  \n",
      "41         finance                   finance    finance  \n",
      "42        business                  business   business  \n",
      "43        shopping                  shopping   shopping  \n",
      "44          health                    health     health  \n",
      "45            tech                      tech       tech  \n",
      "46         finance                   finance    finance  \n",
      "47          health                    health     health  \n",
      "48         finance                   finance    finance  \n",
      "49            tech                      tech       tech  \n"
     ]
    },
    {
     "name": "stderr",
     "output_type": "stream",
     "text": [
      "\n"
     ]
    }
   ],
   "source": [
    "results_df = test_range(eval_df, prompt_config_zs, prompt_examples_zs, prompt_prefix_zs, prompt_suffix_zs, pre_processing=your_pre_processing_zs, post_processing=your_post_processing_zs, model=model, debug=False)\n",
    "print(results_df)"
   ]
  },
  {
   "cell_type": "code",
   "execution_count": 75,
   "metadata": {},
   "outputs": [
    {
     "data": {
      "text/plain": [
       "42"
      ]
     },
     "execution_count": 75,
     "metadata": {},
     "output_type": "execute_result"
    }
   ],
   "source": [
    "sum(results_df['corrected_model_responses']==results_df['true_label'].values)"
   ]
  },
  {
   "cell_type": "code",
   "execution_count": 76,
   "metadata": {},
   "outputs": [
    {
     "data": {
      "text/plain": [
       "0.8389865036923859"
      ]
     },
     "execution_count": 76,
     "metadata": {},
     "output_type": "execute_result"
    }
   ],
   "source": [
    "f1_score(results_df['true_label'], results_df['corrected_model_responses'],average='weighted')"
   ]
  },
  {
   "cell_type": "code",
   "execution_count": 31,
   "metadata": {},
   "outputs": [
    {
     "name": "stderr",
     "output_type": "stream",
     "text": [
      "10it [00:12,  1.24s/it]\n"
     ]
    }
   ],
   "source": [
    "test_df = get_test_set()\n",
    "results_df = test_range(test_df, prompt_config_zs, prompt_examples_zs, prompt_prefix_zs, prompt_suffix_zs, pre_processing=your_pre_processing_zs, post_processing=your_post_processing_zs, model=model, debug=False)\n",
    "results_df.to_excel('zsl_test_results.xlsx', index=False)"
   ]
  },
  {
   "cell_type": "code",
   "execution_count": 32,
   "metadata": {},
   "outputs": [
    {
     "name": "stdout",
     "output_type": "stream",
     "text": [
      "              precision    recall  f1-score   support\n",
      "\n",
      "   education     1.0000    1.0000    1.0000         1\n",
      "     finance     1.0000    1.0000    1.0000         1\n",
      "      health     0.5000    1.0000    0.6667         1\n",
      "     medical     0.0000    0.0000    0.0000         2\n",
      "    shopping     1.0000    1.0000    1.0000         1\n",
      "      social     0.0000    0.0000    0.0000         0\n",
      "      sports     0.0000    0.0000    0.0000         1\n",
      "        tech     0.7500    1.0000    0.8571         3\n",
      "\n",
      "    accuracy                         0.7000        10\n",
      "   macro avg     0.5312    0.6250    0.5655        10\n",
      "weighted avg     0.5750    0.7000    0.6238        10\n",
      "\n"
     ]
    },
    {
     "name": "stderr",
     "output_type": "stream",
     "text": [
      "c:\\Users\\Mohamed\\AppData\\Local\\Programs\\Python\\Python312\\Lib\\site-packages\\sklearn\\metrics\\_classification.py:1531: UndefinedMetricWarning: Precision is ill-defined and being set to 0.0 in labels with no predicted samples. Use `zero_division` parameter to control this behavior.\n",
      "  _warn_prf(average, modifier, f\"{metric.capitalize()} is\", len(result))\n",
      "c:\\Users\\Mohamed\\AppData\\Local\\Programs\\Python\\Python312\\Lib\\site-packages\\sklearn\\metrics\\_classification.py:1531: UndefinedMetricWarning: Recall is ill-defined and being set to 0.0 in labels with no true samples. Use `zero_division` parameter to control this behavior.\n",
      "  _warn_prf(average, modifier, f\"{metric.capitalize()} is\", len(result))\n",
      "c:\\Users\\Mohamed\\AppData\\Local\\Programs\\Python\\Python312\\Lib\\site-packages\\sklearn\\metrics\\_classification.py:1531: UndefinedMetricWarning: Precision is ill-defined and being set to 0.0 in labels with no predicted samples. Use `zero_division` parameter to control this behavior.\n",
      "  _warn_prf(average, modifier, f\"{metric.capitalize()} is\", len(result))\n",
      "c:\\Users\\Mohamed\\AppData\\Local\\Programs\\Python\\Python312\\Lib\\site-packages\\sklearn\\metrics\\_classification.py:1531: UndefinedMetricWarning: Recall is ill-defined and being set to 0.0 in labels with no true samples. Use `zero_division` parameter to control this behavior.\n",
      "  _warn_prf(average, modifier, f\"{metric.capitalize()} is\", len(result))\n",
      "c:\\Users\\Mohamed\\AppData\\Local\\Programs\\Python\\Python312\\Lib\\site-packages\\sklearn\\metrics\\_classification.py:1531: UndefinedMetricWarning: Precision is ill-defined and being set to 0.0 in labels with no predicted samples. Use `zero_division` parameter to control this behavior.\n",
      "  _warn_prf(average, modifier, f\"{metric.capitalize()} is\", len(result))\n",
      "c:\\Users\\Mohamed\\AppData\\Local\\Programs\\Python\\Python312\\Lib\\site-packages\\sklearn\\metrics\\_classification.py:1531: UndefinedMetricWarning: Recall is ill-defined and being set to 0.0 in labels with no true samples. Use `zero_division` parameter to control this behavior.\n",
      "  _warn_prf(average, modifier, f\"{metric.capitalize()} is\", len(result))\n"
     ]
    }
   ],
   "source": [
    "print(classification_report(results_df['true_label'], results_df['corrected_model_responses'], digits=4))"
   ]
  },
  {
   "cell_type": "code",
   "execution_count": 46,
   "metadata": {},
   "outputs": [],
   "source": [
    "joined_df = results_df.set_index(\"text_id\").join(test_df.set_index('text'), lsuffix='_caller', rsuffix='_other')"
   ]
  },
  {
   "cell_type": "code",
   "execution_count": 48,
   "metadata": {},
   "outputs": [],
   "source": [
    "def is_codemixed(text):\n",
    "    return bool(re.search(r'[A-Za-z]', text)) and bool(re.search(r'[\\u0600-\\u06FF]', text))\n",
    "joined_df['codemixed'] = joined_df['text'].apply(is_codemixed)\n"
   ]
  },
  {
   "cell_type": "code",
   "execution_count": 49,
   "metadata": {},
   "outputs": [],
   "source": [
    "cm = joined_df.loc[joined_df['codemixed'] == 1]"
   ]
  },
  {
   "cell_type": "code",
   "execution_count": 53,
   "metadata": {},
   "outputs": [
    {
     "data": {
      "text/html": [
       "<div>\n",
       "<style scoped>\n",
       "    .dataframe tbody tr th:only-of-type {\n",
       "        vertical-align: middle;\n",
       "    }\n",
       "\n",
       "    .dataframe tbody tr th {\n",
       "        vertical-align: top;\n",
       "    }\n",
       "\n",
       "    .dataframe thead th {\n",
       "        text-align: right;\n",
       "    }\n",
       "</style>\n",
       "<table border=\"1\" class=\"dataframe\">\n",
       "  <thead>\n",
       "    <tr style=\"text-align: right;\">\n",
       "      <th></th>\n",
       "      <th>text</th>\n",
       "      <th>model_responses</th>\n",
       "      <th>corrected_model_responses</th>\n",
       "      <th>true_label</th>\n",
       "      <th>label</th>\n",
       "      <th>codemixed</th>\n",
       "    </tr>\n",
       "    <tr>\n",
       "      <th>text_id</th>\n",
       "      <th></th>\n",
       "      <th></th>\n",
       "      <th></th>\n",
       "      <th></th>\n",
       "      <th></th>\n",
       "      <th></th>\n",
       "    </tr>\n",
       "  </thead>\n",
       "  <tbody>\n",
       "    <tr>\n",
       "      <th>8343</th>\n",
       "      <td>عندما نستخدم fintech يجب ان نكون حذرين من data...</td>\n",
       "      <td>finance</td>\n",
       "      <td>finance</td>\n",
       "      <td>finance</td>\n",
       "      <td>NaN</td>\n",
       "      <td>True</td>\n",
       "    </tr>\n",
       "    <tr>\n",
       "      <th>11960</th>\n",
       "      <td>اذا كنت ترغب في تحسين صحتك يجب ان تتناول balan...</td>\n",
       "      <td>health</td>\n",
       "      <td>health</td>\n",
       "      <td>health</td>\n",
       "      <td>NaN</td>\n",
       "      <td>True</td>\n",
       "    </tr>\n",
       "    <tr>\n",
       "      <th>7816</th>\n",
       "      <td>هل تعتقد ان tennis يحتاج الي المزيد من female ...</td>\n",
       "      <td>social</td>\n",
       "      <td>social</td>\n",
       "      <td>sports</td>\n",
       "      <td>NaN</td>\n",
       "      <td>True</td>\n",
       "    </tr>\n",
       "    <tr>\n",
       "      <th>15573</th>\n",
       "      <td>هل تعتقد ان استخدام virtual reality يمكن ان يس...</td>\n",
       "      <td>health</td>\n",
       "      <td>health</td>\n",
       "      <td>medical</td>\n",
       "      <td>NaN</td>\n",
       "      <td>True</td>\n",
       "    </tr>\n",
       "    <tr>\n",
       "      <th>20563</th>\n",
       "      <td>تطبيقات cloud computing تجعل من السهل تطوير so...</td>\n",
       "      <td>tech</td>\n",
       "      <td>tech</td>\n",
       "      <td>tech</td>\n",
       "      <td>NaN</td>\n",
       "      <td>True</td>\n",
       "    </tr>\n",
       "    <tr>\n",
       "      <th>19752</th>\n",
       "      <td>الذكاء الاصطناعي يمكن ان يساعد في تحسين softwa...</td>\n",
       "      <td>tech</td>\n",
       "      <td>tech</td>\n",
       "      <td>tech</td>\n",
       "      <td>NaN</td>\n",
       "      <td>True</td>\n",
       "    </tr>\n",
       "    <tr>\n",
       "      <th>17119</th>\n",
       "      <td>هل تعتقد ان machine learning يمكن ان يساعد في ...</td>\n",
       "      <td>tech</td>\n",
       "      <td>tech</td>\n",
       "      <td>tech</td>\n",
       "      <td>NaN</td>\n",
       "      <td>True</td>\n",
       "    </tr>\n",
       "    <tr>\n",
       "      <th>16890</th>\n",
       "      <td>اذا اردنا تحسين curriculum development يجب ان ...</td>\n",
       "      <td>education</td>\n",
       "      <td>education</td>\n",
       "      <td>education</td>\n",
       "      <td>NaN</td>\n",
       "      <td>True</td>\n",
       "    </tr>\n",
       "    <tr>\n",
       "      <th>7792</th>\n",
       "      <td>اذا تم استخدام advanced surgical techniques فا...</td>\n",
       "      <td>tech</td>\n",
       "      <td>tech</td>\n",
       "      <td>medical</td>\n",
       "      <td>NaN</td>\n",
       "      <td>True</td>\n",
       "    </tr>\n",
       "    <tr>\n",
       "      <th>8347</th>\n",
       "      <td>عند الذهاب الي retail stores يجب ان تتاكد من ا...</td>\n",
       "      <td>shopping</td>\n",
       "      <td>shopping</td>\n",
       "      <td>shopping</td>\n",
       "      <td>NaN</td>\n",
       "      <td>True</td>\n",
       "    </tr>\n",
       "  </tbody>\n",
       "</table>\n",
       "</div>"
      ],
      "text/plain": [
       "                                                      text model_responses  \\\n",
       "text_id                                                                      \n",
       "8343     عندما نستخدم fintech يجب ان نكون حذرين من data...         finance   \n",
       "11960    اذا كنت ترغب في تحسين صحتك يجب ان تتناول balan...          health   \n",
       "7816     هل تعتقد ان tennis يحتاج الي المزيد من female ...          social   \n",
       "15573    هل تعتقد ان استخدام virtual reality يمكن ان يس...          health   \n",
       "20563    تطبيقات cloud computing تجعل من السهل تطوير so...            tech   \n",
       "19752    الذكاء الاصطناعي يمكن ان يساعد في تحسين softwa...            tech   \n",
       "17119    هل تعتقد ان machine learning يمكن ان يساعد في ...            tech   \n",
       "16890    اذا اردنا تحسين curriculum development يجب ان ...       education   \n",
       "7792     اذا تم استخدام advanced surgical techniques فا...            tech   \n",
       "8347     عند الذهاب الي retail stores يجب ان تتاكد من ا...        shopping   \n",
       "\n",
       "        corrected_model_responses true_label label  codemixed  \n",
       "text_id                                                        \n",
       "8343                      finance    finance   NaN       True  \n",
       "11960                      health     health   NaN       True  \n",
       "7816                       social     sports   NaN       True  \n",
       "15573                      health    medical   NaN       True  \n",
       "20563                        tech       tech   NaN       True  \n",
       "19752                        tech       tech   NaN       True  \n",
       "17119                        tech       tech   NaN       True  \n",
       "16890                   education  education   NaN       True  \n",
       "7792                         tech    medical   NaN       True  \n",
       "8347                     shopping   shopping   NaN       True  "
      ]
     },
     "execution_count": 53,
     "metadata": {},
     "output_type": "execute_result"
    }
   ],
   "source": [
    "cm"
   ]
  },
  {
   "cell_type": "code",
   "execution_count": 54,
   "metadata": {},
   "outputs": [
    {
     "name": "stdout",
     "output_type": "stream",
     "text": [
      "              precision    recall  f1-score   support\n",
      "\n",
      "   education     1.0000    1.0000    1.0000         1\n",
      "     finance     1.0000    1.0000    1.0000         1\n",
      "      health     0.5000    1.0000    0.6667         1\n",
      "     medical     0.0000    0.0000    0.0000         2\n",
      "    shopping     1.0000    1.0000    1.0000         1\n",
      "      social     0.0000    0.0000    0.0000         0\n",
      "      sports     0.0000    0.0000    0.0000         1\n",
      "        tech     0.7500    1.0000    0.8571         3\n",
      "\n",
      "    accuracy                         0.7000        10\n",
      "   macro avg     0.5312    0.6250    0.5655        10\n",
      "weighted avg     0.5750    0.7000    0.6238        10\n",
      "\n"
     ]
    }
   ],
   "source": [
    "print(classification_report(cm['true_label'], cm['corrected_model_responses'], digits=4,zero_division=0))"
   ]
  },
  {
   "cell_type": "code",
   "execution_count": 55,
   "metadata": {},
   "outputs": [],
   "source": [
    "mono = joined_df.loc[joined_df['codemixed'] == 0]\n"
   ]
  },
  {
   "cell_type": "code",
   "execution_count": null,
   "metadata": {},
   "outputs": [
    {
     "ename": "ValueError",
     "evalue": "max() iterable argument is empty",
     "output_type": "error",
     "traceback": [
      "\u001b[1;31m---------------------------------------------------------------------------\u001b[0m",
      "\u001b[1;31mValueError\u001b[0m                                Traceback (most recent call last)",
      "Cell \u001b[1;32mIn[56], line 1\u001b[0m\n\u001b[1;32m----> 1\u001b[0m \u001b[38;5;28mprint\u001b[39m(\u001b[43mclassification_report\u001b[49m\u001b[43m(\u001b[49m\u001b[43mmono\u001b[49m\u001b[43m[\u001b[49m\u001b[38;5;124;43m'\u001b[39;49m\u001b[38;5;124;43mtrue_label\u001b[39;49m\u001b[38;5;124;43m'\u001b[39;49m\u001b[43m]\u001b[49m\u001b[43m,\u001b[49m\u001b[43m \u001b[49m\u001b[43mmono\u001b[49m\u001b[43m[\u001b[49m\u001b[38;5;124;43m'\u001b[39;49m\u001b[38;5;124;43mcorrected_model_responses\u001b[39;49m\u001b[38;5;124;43m'\u001b[39;49m\u001b[43m]\u001b[49m\u001b[43m,\u001b[49m\u001b[43m \u001b[49m\u001b[43mdigits\u001b[49m\u001b[38;5;241;43m=\u001b[39;49m\u001b[38;5;241;43m4\u001b[39;49m\u001b[43m,\u001b[49m\u001b[43mzero_division\u001b[49m\u001b[38;5;241;43m=\u001b[39;49m\u001b[38;5;241;43m0\u001b[39;49m\u001b[43m)\u001b[49m)\n",
      "File \u001b[1;32mc:\\Users\\Mohamed\\AppData\\Local\\Programs\\Python\\Python312\\Lib\\site-packages\\sklearn\\utils\\_param_validation.py:213\u001b[0m, in \u001b[0;36mvalidate_params.<locals>.decorator.<locals>.wrapper\u001b[1;34m(*args, **kwargs)\u001b[0m\n\u001b[0;32m    207\u001b[0m \u001b[38;5;28;01mtry\u001b[39;00m:\n\u001b[0;32m    208\u001b[0m     \u001b[38;5;28;01mwith\u001b[39;00m config_context(\n\u001b[0;32m    209\u001b[0m         skip_parameter_validation\u001b[38;5;241m=\u001b[39m(\n\u001b[0;32m    210\u001b[0m             prefer_skip_nested_validation \u001b[38;5;129;01mor\u001b[39;00m global_skip_validation\n\u001b[0;32m    211\u001b[0m         )\n\u001b[0;32m    212\u001b[0m     ):\n\u001b[1;32m--> 213\u001b[0m         \u001b[38;5;28;01mreturn\u001b[39;00m \u001b[43mfunc\u001b[49m\u001b[43m(\u001b[49m\u001b[38;5;241;43m*\u001b[39;49m\u001b[43margs\u001b[49m\u001b[43m,\u001b[49m\u001b[43m \u001b[49m\u001b[38;5;241;43m*\u001b[39;49m\u001b[38;5;241;43m*\u001b[39;49m\u001b[43mkwargs\u001b[49m\u001b[43m)\u001b[49m\n\u001b[0;32m    214\u001b[0m \u001b[38;5;28;01mexcept\u001b[39;00m InvalidParameterError \u001b[38;5;28;01mas\u001b[39;00m e:\n\u001b[0;32m    215\u001b[0m     \u001b[38;5;66;03m# When the function is just a wrapper around an estimator, we allow\u001b[39;00m\n\u001b[0;32m    216\u001b[0m     \u001b[38;5;66;03m# the function to delegate validation to the estimator, but we replace\u001b[39;00m\n\u001b[0;32m    217\u001b[0m     \u001b[38;5;66;03m# the name of the estimator by the name of the function in the error\u001b[39;00m\n\u001b[0;32m    218\u001b[0m     \u001b[38;5;66;03m# message to avoid confusion.\u001b[39;00m\n\u001b[0;32m    219\u001b[0m     msg \u001b[38;5;241m=\u001b[39m re\u001b[38;5;241m.\u001b[39msub(\n\u001b[0;32m    220\u001b[0m         \u001b[38;5;124mr\u001b[39m\u001b[38;5;124m\"\u001b[39m\u001b[38;5;124mparameter of \u001b[39m\u001b[38;5;124m\\\u001b[39m\u001b[38;5;124mw+ must be\u001b[39m\u001b[38;5;124m\"\u001b[39m,\n\u001b[0;32m    221\u001b[0m         \u001b[38;5;124mf\u001b[39m\u001b[38;5;124m\"\u001b[39m\u001b[38;5;124mparameter of \u001b[39m\u001b[38;5;132;01m{\u001b[39;00mfunc\u001b[38;5;241m.\u001b[39m\u001b[38;5;18m__qualname__\u001b[39m\u001b[38;5;132;01m}\u001b[39;00m\u001b[38;5;124m must be\u001b[39m\u001b[38;5;124m\"\u001b[39m,\n\u001b[0;32m    222\u001b[0m         \u001b[38;5;28mstr\u001b[39m(e),\n\u001b[0;32m    223\u001b[0m     )\n",
      "File \u001b[1;32mc:\\Users\\Mohamed\\AppData\\Local\\Programs\\Python\\Python312\\Lib\\site-packages\\sklearn\\metrics\\_classification.py:2679\u001b[0m, in \u001b[0;36mclassification_report\u001b[1;34m(y_true, y_pred, labels, target_names, sample_weight, digits, output_dict, zero_division)\u001b[0m\n\u001b[0;32m   2677\u001b[0m \u001b[38;5;28;01melse\u001b[39;00m:\n\u001b[0;32m   2678\u001b[0m     longest_last_line_heading \u001b[38;5;241m=\u001b[39m \u001b[38;5;124m\"\u001b[39m\u001b[38;5;124mweighted avg\u001b[39m\u001b[38;5;124m\"\u001b[39m\n\u001b[1;32m-> 2679\u001b[0m     name_width \u001b[38;5;241m=\u001b[39m \u001b[38;5;28;43mmax\u001b[39;49m\u001b[43m(\u001b[49m\u001b[38;5;28;43mlen\u001b[39;49m\u001b[43m(\u001b[49m\u001b[43mcn\u001b[49m\u001b[43m)\u001b[49m\u001b[43m \u001b[49m\u001b[38;5;28;43;01mfor\u001b[39;49;00m\u001b[43m \u001b[49m\u001b[43mcn\u001b[49m\u001b[43m \u001b[49m\u001b[38;5;129;43;01min\u001b[39;49;00m\u001b[43m \u001b[49m\u001b[43mtarget_names\u001b[49m\u001b[43m)\u001b[49m\n\u001b[0;32m   2680\u001b[0m     width \u001b[38;5;241m=\u001b[39m \u001b[38;5;28mmax\u001b[39m(name_width, \u001b[38;5;28mlen\u001b[39m(longest_last_line_heading), digits)\n\u001b[0;32m   2681\u001b[0m     head_fmt \u001b[38;5;241m=\u001b[39m \u001b[38;5;124m\"\u001b[39m\u001b[38;5;124m{\u001b[39m\u001b[38;5;124m:>\u001b[39m\u001b[38;5;132;01m{width}\u001b[39;00m\u001b[38;5;124ms} \u001b[39m\u001b[38;5;124m\"\u001b[39m \u001b[38;5;241m+\u001b[39m \u001b[38;5;124m\"\u001b[39m\u001b[38;5;124m \u001b[39m\u001b[38;5;132;01m{:>9}\u001b[39;00m\u001b[38;5;124m\"\u001b[39m \u001b[38;5;241m*\u001b[39m \u001b[38;5;28mlen\u001b[39m(headers)\n",
      "\u001b[1;31mValueError\u001b[0m: max() iterable argument is empty"
     ]
    }
   ],
   "source": [
    "#Empty \n",
    "#print(classification_report(mono['true_label'], mono['corrected_model_responses'], digits=4,zero_division=0))"
   ]
  },
  {
   "attachments": {},
   "cell_type": "markdown",
   "metadata": {},
   "source": [
    "## Few Shot Prompting (In Context Learning)\n",
    "Useful to fix output format"
   ]
  },
  {
   "cell_type": "code",
   "execution_count": 80,
   "metadata": {},
   "outputs": [],
   "source": [
    "train_df = get_train_df(50)"
   ]
  },
  {
   "cell_type": "code",
   "execution_count": 81,
   "metadata": {},
   "outputs": [],
   "source": [
    "def create_example(row):\n",
    "    line1 = \"Input Text: \" + row['text'] + \"\\n\"\n",
    "    label = row['label']  \n",
    "    line2 = \"Output: \" + label + \"\\n\"\n",
    "    return line1 + line2"
   ]
  },
  {
   "cell_type": "code",
   "execution_count": 82,
   "metadata": {},
   "outputs": [],
   "source": [
    "prompt_examples_icl = \"\"\n",
    "for idx,row in train_df.iterrows():\n",
    "    ex = create_example(row)\n",
    "    prompt_examples_icl += ex"
   ]
  },
  {
   "cell_type": "code",
   "execution_count": 83,
   "metadata": {},
   "outputs": [],
   "source": [
    "prompt_examples_icl = prompt_examples_icl + \"Input Text: \""
   ]
  },
  {
   "cell_type": "code",
   "execution_count": 86,
   "metadata": {},
   "outputs": [
    {
     "name": "stdout",
     "output_type": "stream",
     "text": [
      "Found categories: ['business', 'education', 'finance', 'health', 'medical', 'shopping', 'social', 'sports', 'tech']\n",
      "Total categories: 9\n"
     ]
    }
   ],
   "source": [
    "categories = get_all_categories()\n",
    "categories_text = \", \".join(categories)\n",
    "\n",
    "prompt_prefix_icl = f'''\n",
    "Classify the following Combined Arabic and English text into one of these categories: \n",
    "{categories_text}.\n",
    "\n",
    "Your output should only be one of these exact category names like in the examples below.\n",
    "'''\n",
    "\n",
    "prompt_suffix_icl = \"Output: \"\n"
   ]
  },
  {
   "cell_type": "code",
   "execution_count": 87,
   "metadata": {},
   "outputs": [
    {
     "name": "stderr",
     "output_type": "stream",
     "text": [
      "50it [06:19,  7.59s/it]"
     ]
    },
    {
     "name": "stdout",
     "output_type": "stream",
     "text": [
      "    text_id                                               text  \\\n",
      "0      1139  هل تعتقد ان fintech innovations ستغير الطريقه ...   \n",
      "1      5759  عند اعداد corporate strategy يجب ان ناخذ بعين ...   \n",
      "2       981  اذا كنت تستخدم discount codes يمكنك توفير الكث...   \n",
      "3      6584  عندما تشتري عبر الانترنت يجب ان تبحث عن best d...   \n",
      "4      5372  اذا تم اكتشاف مرض مبكرا يمكن ان يودي ذلك الي b...   \n",
      "5       114  قم بتطوير مهاراتك في trading لتحسين فرص نجاحك ...   \n",
      "6      4692  اذا لم تستثمر الشركات في digital marketing ستف...   \n",
      "7      1848  في عالم medicine اليوم نحن بحاجه الي المزيد من...   \n",
      "8      2280  هل جربت ecommerce platforms الجديده هناك الكثي...   \n",
      "9      3087  لنحقق الاهداف يجب ان نعمل معا كفريق ونعتمد علي...   \n",
      "10     2842  اذا كنت ترغب في تحسين nutrition يجب ان تتناول ...   \n",
      "11     8183  يجب ان نستخدم social media platforms بشكل فعال...   \n",
      "12     8206  عندما تجد exclusive offers في المتاجر يجب ان ت...   \n",
      "13     2855  هل تعتقد ان blockchain technology ستغير طريقه ...   \n",
      "14     8022  اذا استثمرنا في public health سنري تحسينات كبي...   \n",
      "15     5649  اذا كانت البيانات غير محميه بشكل جيد فان مخاطر...   \n",
      "16     4578  لزياده فعاليه marketing efforts يجب ان نستثمر ...   \n",
      "17     4744  اذا تم تحسين curriculum development فان studen...   \n",
      "18     2482  اذا كنت ترغب في trading stocks يجب ان تتعلم كي...   \n",
      "19     1382  من المهم ان ندمج interactive tools في online c...   \n",
      "20     3097  استخدام data analytics في investment decisions...   \n",
      "21     4636  عند لعب soccer التواصل بين اللاعبين يعتبر مفتا...   \n",
      "22     5427  هل تعتقد ان curriculum development يجب ان يتضم...   \n",
      "23     1713  كيف يمكننا تعزيز public health من خلال زياده ا...   \n",
      "24     3595  عندما ندمج big data analytics مع machine learn...   \n",
      "25      425  عندما تتسوق عبر ecommerce تاكد من قراءه custom...   \n",
      "26      582  اذا تم دمج telemedicine في public health فسيكو...   \n",
      "27     4120  ان استخدام data analytics يمكن ان يساعد في تحس...   \n",
      "28     3237  تعتبر big data من ابرز الادوات التي تساعد الشر...   \n",
      "29     6274  استخدام price comparison websites يمكن ان يساع...   \n",
      "30      680  تسعي الجامعات الي تطوير interdisciplinary prog...   \n",
      "31     5146  عندما تتحدث عن investment portfolios من المهم ...   \n",
      "32     2085  في عالم entrepreneurship من الضروري ان نكون مس...   \n",
      "33     7304  عندما تقررين التسوق لشراء clothes لا تنسي مقار...   \n",
      "34     3509  اذا كانت لديك استراتيجيه جيده في cricket يمكنك...   \n",
      "35     6509  هل تعلم ان ممارسه الرياضه بانتظام تقلل من خطر ...   \n",
      "36     3700  تكنولوجيا biotechnology الحديثه تسهم بشكل كبير...   \n",
      "37     3537  هل تعتقد ان team collaboration يمكن ان تزيد من...   \n",
      "38     5512  اذا استثمرنا في customer feedback فان ذلك سيسا...   \n",
      "39     7815  اذا استثمرنا في biotechnology سيكون لدينا فرصه...   \n",
      "40     2439  لتحقيق النجاح في athletics يجب ان يكون لديك de...   \n",
      "41     1152  هل لديك خطط لاستثمار في fintech startups حيث ا...   \n",
      "42     3428  من المهم ان نكون مستعدين لقياده project manage...   \n",
      "43     1964  هل جربت online shopping خلال seasonal sales ان...   \n",
      "44     6019  لتجنب الامراض يجب ان نكون واعين حول اهميه prev...   \n",
      "45     4660  في عالم اليوم cloud computing اصبح ضروريا لتقل...   \n",
      "46     4094  تعتبر financial literacy عنصرا حيويا في تعزيز ...   \n",
      "47     5755  اذا كنت ترغب في تحسين mental health يجب ان تتب...   \n",
      "48     5277  اذا كانت economic policies غير مستقره فان ذلك ...   \n",
      "49     7335  عند استخدام ai tools يجب ان نكون حذرين بشان et...   \n",
      "\n",
      "   model_responses corrected_model_responses true_label  \n",
      "0          finance                   finance    finance  \n",
      "1         business                  business   business  \n",
      "2         shopping                  shopping   shopping  \n",
      "3         shopping                  shopping   shopping  \n",
      "4          medical                   medical    medical  \n",
      "5          finance                   finance    finance  \n",
      "6         business                  business   business  \n",
      "7          medical                   medical    medical  \n",
      "8         shopping                  shopping   shopping  \n",
      "9         business                  business   business  \n",
      "10          health                    health    medical  \n",
      "11          social                    social     social  \n",
      "12        shopping                  shopping   shopping  \n",
      "13         finance                   finance       tech  \n",
      "14          health                    health    medical  \n",
      "15            tech                      tech       tech  \n",
      "16        business                  business   business  \n",
      "17       education                 education  education  \n",
      "18         finance                   finance    finance  \n",
      "19       education                 education  education  \n",
      "20         finance                   finance    finance  \n",
      "21          sports                    sports     sports  \n",
      "22       education                 education  education  \n",
      "23          health                    health     health  \n",
      "24            tech                      tech       tech  \n",
      "25        shopping                  shopping   shopping  \n",
      "26          health                    health    medical  \n",
      "27        business                  business   business  \n",
      "28        business                  business       tech  \n",
      "29        shopping                  shopping   shopping  \n",
      "30       education                 education  education  \n",
      "31         finance                   finance    finance  \n",
      "32        business                  business   business  \n",
      "33        shopping                  shopping   shopping  \n",
      "34          sports                    sports     sports  \n",
      "35          health                    health     health  \n",
      "36         medical                   medical    medical  \n",
      "37        business                  business   business  \n",
      "38        business                  business   business  \n",
      "39         medical                   medical    medical  \n",
      "40          sports                    sports     sports  \n",
      "41         finance                   finance    finance  \n",
      "42        business                  business   business  \n",
      "43        shopping                  shopping   shopping  \n",
      "44          health                    health     health  \n",
      "45            tech                      tech       tech  \n",
      "46         finance                   finance    finance  \n",
      "47          health                    health     health  \n",
      "48         finance                   finance    finance  \n",
      "49            tech                      tech       tech  \n"
     ]
    },
    {
     "name": "stderr",
     "output_type": "stream",
     "text": [
      "\n"
     ]
    }
   ],
   "source": [
    "results_df = test_range(eval_df, prompt_config_zs, prompt_examples_icl, prompt_prefix_icl, prompt_suffix_icl, pre_processing=your_pre_processing_zs, post_processing=your_post_processing_zs, model=model, debug=False)\n",
    "print(results_df)"
   ]
  },
  {
   "cell_type": "code",
   "execution_count": 88,
   "metadata": {},
   "outputs": [
    {
     "data": {
      "text/plain": [
       "0.8971145510835913"
      ]
     },
     "execution_count": 88,
     "metadata": {},
     "output_type": "execute_result"
    }
   ],
   "source": [
    "f1_score(results_df['true_label'], results_df['corrected_model_responses'],average='weighted')"
   ]
  },
  {
   "cell_type": "code",
   "execution_count": 65,
   "metadata": {},
   "outputs": [
    {
     "name": "stderr",
     "output_type": "stream",
     "text": [
      "10it [00:12,  1.27s/it]\n"
     ]
    }
   ],
   "source": [
    "test_df = get_test_set()\n",
    "results_df = test_range(test_df, prompt_config_zs, prompt_examples_icl, prompt_prefix_icl, prompt_suffix_icl, pre_processing=your_pre_processing_zs, post_processing=your_post_processing_zs, model=model, debug=False)\n",
    "results_df.to_excel('icl_test_results_50ex.xlsx', index=False)"
   ]
  },
  {
   "cell_type": "code",
   "execution_count": 66,
   "metadata": {},
   "outputs": [
    {
     "name": "stdout",
     "output_type": "stream",
     "text": [
      "              precision    recall  f1-score   support\n",
      "\n",
      "   education     0.0000    0.0000    0.0000         0\n",
      "      health     0.7500    1.0000    0.8571         3\n",
      "     medical     1.0000    0.5000    0.6667         2\n",
      "    shopping     1.0000    1.0000    1.0000         3\n",
      "      social     0.0000    0.0000    0.0000         1\n",
      "      sports     1.0000    1.0000    1.0000         1\n",
      "\n",
      "    accuracy                         0.8000        10\n",
      "   macro avg     0.6250    0.5833    0.5873        10\n",
      "weighted avg     0.8250    0.8000    0.7905        10\n",
      "\n"
     ]
    },
    {
     "name": "stderr",
     "output_type": "stream",
     "text": [
      "c:\\Users\\Mohamed\\AppData\\Local\\Programs\\Python\\Python312\\Lib\\site-packages\\sklearn\\metrics\\_classification.py:1531: UndefinedMetricWarning: Precision is ill-defined and being set to 0.0 in labels with no predicted samples. Use `zero_division` parameter to control this behavior.\n",
      "  _warn_prf(average, modifier, f\"{metric.capitalize()} is\", len(result))\n",
      "c:\\Users\\Mohamed\\AppData\\Local\\Programs\\Python\\Python312\\Lib\\site-packages\\sklearn\\metrics\\_classification.py:1531: UndefinedMetricWarning: Recall is ill-defined and being set to 0.0 in labels with no true samples. Use `zero_division` parameter to control this behavior.\n",
      "  _warn_prf(average, modifier, f\"{metric.capitalize()} is\", len(result))\n",
      "c:\\Users\\Mohamed\\AppData\\Local\\Programs\\Python\\Python312\\Lib\\site-packages\\sklearn\\metrics\\_classification.py:1531: UndefinedMetricWarning: Precision is ill-defined and being set to 0.0 in labels with no predicted samples. Use `zero_division` parameter to control this behavior.\n",
      "  _warn_prf(average, modifier, f\"{metric.capitalize()} is\", len(result))\n",
      "c:\\Users\\Mohamed\\AppData\\Local\\Programs\\Python\\Python312\\Lib\\site-packages\\sklearn\\metrics\\_classification.py:1531: UndefinedMetricWarning: Recall is ill-defined and being set to 0.0 in labels with no true samples. Use `zero_division` parameter to control this behavior.\n",
      "  _warn_prf(average, modifier, f\"{metric.capitalize()} is\", len(result))\n",
      "c:\\Users\\Mohamed\\AppData\\Local\\Programs\\Python\\Python312\\Lib\\site-packages\\sklearn\\metrics\\_classification.py:1531: UndefinedMetricWarning: Precision is ill-defined and being set to 0.0 in labels with no predicted samples. Use `zero_division` parameter to control this behavior.\n",
      "  _warn_prf(average, modifier, f\"{metric.capitalize()} is\", len(result))\n",
      "c:\\Users\\Mohamed\\AppData\\Local\\Programs\\Python\\Python312\\Lib\\site-packages\\sklearn\\metrics\\_classification.py:1531: UndefinedMetricWarning: Recall is ill-defined and being set to 0.0 in labels with no true samples. Use `zero_division` parameter to control this behavior.\n",
      "  _warn_prf(average, modifier, f\"{metric.capitalize()} is\", len(result))\n"
     ]
    }
   ],
   "source": [
    "print(classification_report(results_df['true_label'], results_df['corrected_model_responses'], digits=4))"
   ]
  },
  {
   "cell_type": "code",
   "execution_count": 68,
   "metadata": {},
   "outputs": [],
   "source": [
    "joined_df = results_df.set_index(\"text_id\").join(test_df.set_index('text'), lsuffix='_caller', rsuffix='_other')"
   ]
  },
  {
   "cell_type": "code",
   "execution_count": 69,
   "metadata": {},
   "outputs": [],
   "source": [
    "joined_df['codemixed'] = joined_df['text'].apply(is_codemixed)\n"
   ]
  },
  {
   "cell_type": "code",
   "execution_count": 70,
   "metadata": {},
   "outputs": [],
   "source": [
    "cm = joined_df.loc[joined_df['codemixed'] == 1]"
   ]
  },
  {
   "cell_type": "code",
   "execution_count": 71,
   "metadata": {},
   "outputs": [
    {
     "name": "stdout",
     "output_type": "stream",
     "text": [
      "              precision    recall  f1-score   support\n",
      "\n",
      "   education     0.0000    0.0000    0.0000         0\n",
      "      health     0.7500    1.0000    0.8571         3\n",
      "     medical     1.0000    0.5000    0.6667         2\n",
      "    shopping     1.0000    1.0000    1.0000         3\n",
      "      social     0.0000    0.0000    0.0000         1\n",
      "      sports     1.0000    1.0000    1.0000         1\n",
      "\n",
      "    accuracy                         0.8000        10\n",
      "   macro avg     0.6250    0.5833    0.5873        10\n",
      "weighted avg     0.8250    0.8000    0.7905        10\n",
      "\n"
     ]
    },
    {
     "name": "stderr",
     "output_type": "stream",
     "text": [
      "c:\\Users\\Mohamed\\AppData\\Local\\Programs\\Python\\Python312\\Lib\\site-packages\\sklearn\\metrics\\_classification.py:1531: UndefinedMetricWarning: Precision is ill-defined and being set to 0.0 in labels with no predicted samples. Use `zero_division` parameter to control this behavior.\n",
      "  _warn_prf(average, modifier, f\"{metric.capitalize()} is\", len(result))\n",
      "c:\\Users\\Mohamed\\AppData\\Local\\Programs\\Python\\Python312\\Lib\\site-packages\\sklearn\\metrics\\_classification.py:1531: UndefinedMetricWarning: Recall is ill-defined and being set to 0.0 in labels with no true samples. Use `zero_division` parameter to control this behavior.\n",
      "  _warn_prf(average, modifier, f\"{metric.capitalize()} is\", len(result))\n",
      "c:\\Users\\Mohamed\\AppData\\Local\\Programs\\Python\\Python312\\Lib\\site-packages\\sklearn\\metrics\\_classification.py:1531: UndefinedMetricWarning: Precision is ill-defined and being set to 0.0 in labels with no predicted samples. Use `zero_division` parameter to control this behavior.\n",
      "  _warn_prf(average, modifier, f\"{metric.capitalize()} is\", len(result))\n",
      "c:\\Users\\Mohamed\\AppData\\Local\\Programs\\Python\\Python312\\Lib\\site-packages\\sklearn\\metrics\\_classification.py:1531: UndefinedMetricWarning: Recall is ill-defined and being set to 0.0 in labels with no true samples. Use `zero_division` parameter to control this behavior.\n",
      "  _warn_prf(average, modifier, f\"{metric.capitalize()} is\", len(result))\n",
      "c:\\Users\\Mohamed\\AppData\\Local\\Programs\\Python\\Python312\\Lib\\site-packages\\sklearn\\metrics\\_classification.py:1531: UndefinedMetricWarning: Precision is ill-defined and being set to 0.0 in labels with no predicted samples. Use `zero_division` parameter to control this behavior.\n",
      "  _warn_prf(average, modifier, f\"{metric.capitalize()} is\", len(result))\n",
      "c:\\Users\\Mohamed\\AppData\\Local\\Programs\\Python\\Python312\\Lib\\site-packages\\sklearn\\metrics\\_classification.py:1531: UndefinedMetricWarning: Recall is ill-defined and being set to 0.0 in labels with no true samples. Use `zero_division` parameter to control this behavior.\n",
      "  _warn_prf(average, modifier, f\"{metric.capitalize()} is\", len(result))\n"
     ]
    }
   ],
   "source": [
    "print(classification_report(cm['true_label'], cm['corrected_model_responses'], digits=4))"
   ]
  },
  {
   "cell_type": "code",
   "execution_count": 72,
   "metadata": {},
   "outputs": [],
   "source": [
    "mono= joined_df.loc[joined_df['codemixed'] == 0]"
   ]
  },
  {
   "cell_type": "code",
   "execution_count": 73,
   "metadata": {},
   "outputs": [
    {
     "ename": "ValueError",
     "evalue": "max() iterable argument is empty",
     "output_type": "error",
     "traceback": [
      "\u001b[1;31m---------------------------------------------------------------------------\u001b[0m",
      "\u001b[1;31mValueError\u001b[0m                                Traceback (most recent call last)",
      "Cell \u001b[1;32mIn[73], line 1\u001b[0m\n\u001b[1;32m----> 1\u001b[0m \u001b[38;5;28mprint\u001b[39m(\u001b[43mclassification_report\u001b[49m\u001b[43m(\u001b[49m\u001b[43mmono\u001b[49m\u001b[43m[\u001b[49m\u001b[38;5;124;43m'\u001b[39;49m\u001b[38;5;124;43mtrue_label\u001b[39;49m\u001b[38;5;124;43m'\u001b[39;49m\u001b[43m]\u001b[49m\u001b[43m,\u001b[49m\u001b[43m \u001b[49m\u001b[43mmono\u001b[49m\u001b[43m[\u001b[49m\u001b[38;5;124;43m'\u001b[39;49m\u001b[38;5;124;43mcorrected_model_responses\u001b[39;49m\u001b[38;5;124;43m'\u001b[39;49m\u001b[43m]\u001b[49m\u001b[43m,\u001b[49m\u001b[43m \u001b[49m\u001b[43mdigits\u001b[49m\u001b[38;5;241;43m=\u001b[39;49m\u001b[38;5;241;43m4\u001b[39;49m\u001b[43m)\u001b[49m)\n",
      "File \u001b[1;32mc:\\Users\\Mohamed\\AppData\\Local\\Programs\\Python\\Python312\\Lib\\site-packages\\sklearn\\utils\\_param_validation.py:213\u001b[0m, in \u001b[0;36mvalidate_params.<locals>.decorator.<locals>.wrapper\u001b[1;34m(*args, **kwargs)\u001b[0m\n\u001b[0;32m    207\u001b[0m \u001b[38;5;28;01mtry\u001b[39;00m:\n\u001b[0;32m    208\u001b[0m     \u001b[38;5;28;01mwith\u001b[39;00m config_context(\n\u001b[0;32m    209\u001b[0m         skip_parameter_validation\u001b[38;5;241m=\u001b[39m(\n\u001b[0;32m    210\u001b[0m             prefer_skip_nested_validation \u001b[38;5;129;01mor\u001b[39;00m global_skip_validation\n\u001b[0;32m    211\u001b[0m         )\n\u001b[0;32m    212\u001b[0m     ):\n\u001b[1;32m--> 213\u001b[0m         \u001b[38;5;28;01mreturn\u001b[39;00m \u001b[43mfunc\u001b[49m\u001b[43m(\u001b[49m\u001b[38;5;241;43m*\u001b[39;49m\u001b[43margs\u001b[49m\u001b[43m,\u001b[49m\u001b[43m \u001b[49m\u001b[38;5;241;43m*\u001b[39;49m\u001b[38;5;241;43m*\u001b[39;49m\u001b[43mkwargs\u001b[49m\u001b[43m)\u001b[49m\n\u001b[0;32m    214\u001b[0m \u001b[38;5;28;01mexcept\u001b[39;00m InvalidParameterError \u001b[38;5;28;01mas\u001b[39;00m e:\n\u001b[0;32m    215\u001b[0m     \u001b[38;5;66;03m# When the function is just a wrapper around an estimator, we allow\u001b[39;00m\n\u001b[0;32m    216\u001b[0m     \u001b[38;5;66;03m# the function to delegate validation to the estimator, but we replace\u001b[39;00m\n\u001b[0;32m    217\u001b[0m     \u001b[38;5;66;03m# the name of the estimator by the name of the function in the error\u001b[39;00m\n\u001b[0;32m    218\u001b[0m     \u001b[38;5;66;03m# message to avoid confusion.\u001b[39;00m\n\u001b[0;32m    219\u001b[0m     msg \u001b[38;5;241m=\u001b[39m re\u001b[38;5;241m.\u001b[39msub(\n\u001b[0;32m    220\u001b[0m         \u001b[38;5;124mr\u001b[39m\u001b[38;5;124m\"\u001b[39m\u001b[38;5;124mparameter of \u001b[39m\u001b[38;5;124m\\\u001b[39m\u001b[38;5;124mw+ must be\u001b[39m\u001b[38;5;124m\"\u001b[39m,\n\u001b[0;32m    221\u001b[0m         \u001b[38;5;124mf\u001b[39m\u001b[38;5;124m\"\u001b[39m\u001b[38;5;124mparameter of \u001b[39m\u001b[38;5;132;01m{\u001b[39;00mfunc\u001b[38;5;241m.\u001b[39m\u001b[38;5;18m__qualname__\u001b[39m\u001b[38;5;132;01m}\u001b[39;00m\u001b[38;5;124m must be\u001b[39m\u001b[38;5;124m\"\u001b[39m,\n\u001b[0;32m    222\u001b[0m         \u001b[38;5;28mstr\u001b[39m(e),\n\u001b[0;32m    223\u001b[0m     )\n",
      "File \u001b[1;32mc:\\Users\\Mohamed\\AppData\\Local\\Programs\\Python\\Python312\\Lib\\site-packages\\sklearn\\metrics\\_classification.py:2679\u001b[0m, in \u001b[0;36mclassification_report\u001b[1;34m(y_true, y_pred, labels, target_names, sample_weight, digits, output_dict, zero_division)\u001b[0m\n\u001b[0;32m   2677\u001b[0m \u001b[38;5;28;01melse\u001b[39;00m:\n\u001b[0;32m   2678\u001b[0m     longest_last_line_heading \u001b[38;5;241m=\u001b[39m \u001b[38;5;124m\"\u001b[39m\u001b[38;5;124mweighted avg\u001b[39m\u001b[38;5;124m\"\u001b[39m\n\u001b[1;32m-> 2679\u001b[0m     name_width \u001b[38;5;241m=\u001b[39m \u001b[38;5;28;43mmax\u001b[39;49m\u001b[43m(\u001b[49m\u001b[38;5;28;43mlen\u001b[39;49m\u001b[43m(\u001b[49m\u001b[43mcn\u001b[49m\u001b[43m)\u001b[49m\u001b[43m \u001b[49m\u001b[38;5;28;43;01mfor\u001b[39;49;00m\u001b[43m \u001b[49m\u001b[43mcn\u001b[49m\u001b[43m \u001b[49m\u001b[38;5;129;43;01min\u001b[39;49;00m\u001b[43m \u001b[49m\u001b[43mtarget_names\u001b[49m\u001b[43m)\u001b[49m\n\u001b[0;32m   2680\u001b[0m     width \u001b[38;5;241m=\u001b[39m \u001b[38;5;28mmax\u001b[39m(name_width, \u001b[38;5;28mlen\u001b[39m(longest_last_line_heading), digits)\n\u001b[0;32m   2681\u001b[0m     head_fmt \u001b[38;5;241m=\u001b[39m \u001b[38;5;124m\"\u001b[39m\u001b[38;5;124m{\u001b[39m\u001b[38;5;124m:>\u001b[39m\u001b[38;5;132;01m{width}\u001b[39;00m\u001b[38;5;124ms} \u001b[39m\u001b[38;5;124m\"\u001b[39m \u001b[38;5;241m+\u001b[39m \u001b[38;5;124m\"\u001b[39m\u001b[38;5;124m \u001b[39m\u001b[38;5;132;01m{:>9}\u001b[39;00m\u001b[38;5;124m\"\u001b[39m \u001b[38;5;241m*\u001b[39m \u001b[38;5;28mlen\u001b[39m(headers)\n",
      "\u001b[1;31mValueError\u001b[0m: max() iterable argument is empty"
     ]
    }
   ],
   "source": [
    "print(classification_report(mono['true_label'], mono['corrected_model_responses'], digits=4))"
   ]
  },
  {
   "attachments": {},
   "cell_type": "markdown",
   "metadata": {},
   "source": [
    "## Chain of Thought Prompting"
   ]
  },
  {
   "cell_type": "code",
   "execution_count": 8,
   "metadata": {},
   "outputs": [],
   "source": [
    "business_texts = [\n",
    "    \"تطوير business strategy فعاله يعتمد علي فهم market trends بشكل شامل ودقيق\",\n",
    "    \"الشركات الناجحة تضع خطط استراتيجية واضحة لتحقيق اهدافها في السوق\"\n",
    "]\n",
    "justification_business = [\n",
    "    \"This text is about business because it discusses company strategies, market analysis, and commercial planning\",\n",
    "    \"This belongs to business category as it focuses on organizational management and market competition\"\n",
    "]\n",
    "\n",
    "education_texts = [\n",
    "    \"في حال تم تطبيق effective curriculum development سيزيد ذلك من مستوي student engagement في الفصول الدراسيه\",\n",
    "    \"استخدام virtual classrooms يعزز فرص collaboration بين الطلاب من مختلف انحاء العالم\"\n",
    "]\n",
    "justification_education = [\n",
    "    \"This text is about education because it mentions curriculum development and student engagement in classrooms\",\n",
    "    \"This belongs to education category as it discusses virtual learning and student collaboration\"\n",
    "]\n",
    "\n",
    "finance_texts = [\n",
    "    \"اذا كنت تريد النجاح في trading عليك ان تتجنب emotional decisions وتركز علي market analysis\",\n",
    "    \"تعتبر fintech من المجالات الرايده حيث تقدم حلولا مبتكره لتحسين banking services\"\n",
    "]\n",
    "justification_finance = [\n",
    "    \"This text is about finance because it covers trading strategies and market analysis\",\n",
    "    \"This belongs to finance category as it discusses fintech innovations and banking services\"\n",
    "]\n",
    "\n",
    "health_texts = [\n",
    "    \"اذا كنت ترغب في تحسين mental health يجب عليك ممارسه mindfulness بانتظام وتناول طعام صحي\",\n",
    "    \"ممارسة الرياضة اليومية تساعد في الحفاظ على صحة القلب والجسم بشكل عام\"\n",
    "]\n",
    "justification_health = [\n",
    "    \"This text is about health because it discusses mental health, mindfulness, and healthy eating\",\n",
    "    \"This belongs to health category as it covers physical exercise and heart health\"\n",
    "]\n",
    "\n",
    "medical_texts = [\n",
    "    \"تعتبر nutrition السليمه اساسا لنجاح اي medical treatment لذا يجب التركيز علي الاطعمه الغنيه بالفيتامينات\",\n",
    "    \"هل يمكن ان توثر pharmaceutical advancements علي نسبه الشفاء من الامراض المزمنه بشكل كبير\"\n",
    "]\n",
    "justification_medical = [\n",
    "    \"This text is about medical because it discusses nutrition in medical treatment and vitamins\",\n",
    "    \"This belongs to medical category as it covers pharmaceutical advancements and chronic disease treatment\"\n",
    "]\n",
    "\n",
    "shopping_texts = [\n",
    "    \"اذا كنت ترغب في شراء consumer electronics فمن الافضل دايما مراجعه customer reviews قبل اتخاذ قرارك\",\n",
    "    \"مقارنة الاسعار بين المتاجر المختلفة تساعد في اتخاذ قرار شراء أفضل\"\n",
    "]\n",
    "justification_shopping = [\n",
    "    \"This text is about shopping because it mentions consumer electronics and customer reviews\",\n",
    "    \"This belongs to shopping category as it discusses price comparison and purchase decisions\"\n",
    "]\n",
    "\n",
    "social_texts = [\n",
    "    \"تفاعل الافراد في المجتمع يساهم في بناء علاقات قوية وتحسين جودة الحياة الاجتماعية\",\n",
    "    \"المبادرات المجتمعية تلعب دوراً هاماً في حل المشكلات الاجتماعية وتعزيز التكافل\"\n",
    "]\n",
    "justification_social = [\n",
    "    \"This text is about social because it discusses community interactions and social relationships\",\n",
    "    \"This belongs to social category as it covers community initiatives and social problem-solving\"\n",
    "]\n",
    "\n",
    "sports_texts = [\n",
    "    \"اللاعبون المميزون في cricket يعرفون كيف يستخدمون strategic planning للفوز بالمباريات المهمه\",\n",
    "    \"التدريب المستمر والالتزام بالبرنامج الرياضي اساسي لتحقيق النتائج في المسابقات\"\n",
    "]\n",
    "justification_sports = [\n",
    "    \"This text is about sports because it mentions cricket players and strategic planning in games\",\n",
    "    \"This belongs to sports category as it discusses continuous training and sports competitions\"\n",
    "]\n",
    "\n",
    "tech_texts = [\n",
    "    \"اذا استثمرت الشركات في cloud computing ستتمكن من تحسين كفاءه عملياتها وتقليل التكاليف\",\n",
    "    \"الذكاء الاصطناعي يساهم في تطوير قطاعات متعددة من الصناعة والخدمات\"\n",
    "]\n",
    "justification_tech = [\n",
    "    \"This text is about tech because it covers cloud computing and operational efficiency\",\n",
    "    \"This belongs to tech category as it discusses artificial intelligence and industry development\"\n",
    "]"
   ]
  },
  {
   "cell_type": "code",
   "execution_count": 9,
   "metadata": {},
   "outputs": [],
   "source": [
    "import random\n",
    "\n",
    "def create_examples(all_texts, all_justifications, all_labels):\n",
    "    examples = []\n",
    "\n",
    "    combined_data = list(zip(all_texts, all_justifications, all_labels))\n",
    "    random.shuffle(combined_data)\n",
    "\n",
    "    for text, justification, label in combined_data:\n",
    "        line1 = \"Input Text: \" + text + \"\\n\"\n",
    "        justification_line = \"Justification: \" + justification + \"\\n\"\n",
    "        line2 = \"Output: \" + label + \"\\n\"\n",
    "        examples.append(line1 + justification_line + line2)\n",
    "\n",
    "    return ''.join(examples)"
   ]
  },
  {
   "cell_type": "code",
   "execution_count": 10,
   "metadata": {},
   "outputs": [],
   "source": [
    "all_topic_texts = (business_texts + education_texts + finance_texts + \n",
    "                   health_texts + medical_texts + shopping_texts + \n",
    "                   social_texts + sports_texts + tech_texts)\n",
    "\n",
    "all_topic_justifications = (justification_business + justification_education + justification_finance +\n",
    "                           justification_health + justification_medical + justification_shopping +\n",
    "                           justification_social + justification_sports + justification_tech)\n",
    "\n",
    "all_topic_labels = (['business'] * len(business_texts) + \n",
    "                   ['education'] * len(education_texts) +\n",
    "                   ['finance'] * len(finance_texts) +\n",
    "                   ['health'] * len(health_texts) +\n",
    "                   ['medical'] * len(medical_texts) +\n",
    "                   ['shopping'] * len(shopping_texts) +\n",
    "                   ['social'] * len(social_texts) +\n",
    "                   ['sports'] * len(sports_texts) +\n",
    "                   ['tech'] * len(tech_texts))"
   ]
  },
  {
   "cell_type": "code",
   "execution_count": 11,
   "metadata": {},
   "outputs": [],
   "source": [
    "prompt_examples_cot = create_examples(all_topic_texts, all_topic_justifications, all_topic_labels) + \"Input Text: \""
   ]
  },
  {
   "cell_type": "code",
   "execution_count": 12,
   "metadata": {},
   "outputs": [
    {
     "name": "stdout",
     "output_type": "stream",
     "text": [
      "Input Text: مقارنة الاسعار بين المتاجر المختلفة تساعد في اتخاذ قرار شراء أفضل\n",
      "Justification: This belongs to shopping category as it discusses price comparison and purchase decisions\n",
      "Output: shopping\n",
      "Input Text: اللاعبون المميزون في cricket يعرفون كيف يستخدمون strategic planning للفوز بالمباريات المهمه\n",
      "Justification: This text is about sports because it mentions cricket players and strategic planning in games\n",
      "Output: sports\n",
      "Input Text: اذا كنت ترغب في شراء consumer electronics فمن الافضل دايما مراجعه customer reviews قبل اتخاذ قرارك\n",
      "Justification: This text is about shopping because it mentions consumer electronics and customer reviews\n",
      "Output: shopping\n",
      "Input Text: تعتبر nutrition السليمه اساسا لنجاح اي medical treatment لذا يجب التركيز علي الاطعمه الغنيه بالفيتامينات\n",
      "Justification: This text is about medical because it discusses nutrition in medical treatment and vitamins\n",
      "Output: medical\n",
      "Input Text: التدريب المستمر والالتزام بالبرنامج الرياضي اساسي لتحقيق النتائج في المسابقات\n",
      "Justification: This belongs to sports category as it discusses continuous training and sports competitions\n",
      "Output: sports\n",
      "Input Text: الشركات الناجحة تضع خطط استراتيجية واضحة لتحقيق اهدافها في السوق\n",
      "Justification: This belongs to business category as it focuses on organizational management and market competition\n",
      "Output: business\n",
      "Input Text: تفاعل الافراد في المجتمع يساهم في بناء علاقات قوية وتحسين جودة الحياة الاجتماعية\n",
      "Justification: This text is about social because it discusses community interactions and social relationships\n",
      "Output: social\n",
      "Input Text: تعتبر fintech من المجالات الرايده حيث تقدم حلولا مبتكره لتحسين banking services\n",
      "Justification: This belongs to finance category as it discusses fintech innovations and banking services\n",
      "Output: finance\n",
      "Input Text: اذا استثمرت الشركات في cloud computing ستتمكن من تحسين كفاءه عملياتها وتقليل التكاليف\n",
      "Justification: This text is about tech because it covers cloud computing and operational efficiency\n",
      "Output: tech\n",
      "Input Text: في حال تم تطبيق effective curriculum development سيزيد ذلك من مستوي student engagement في الفصول الدراسيه\n",
      "Justification: This text is about education because it mentions curriculum development and student engagement in classrooms\n",
      "Output: education\n",
      "Input Text: تطوير business strategy فعاله يعتمد علي فهم market trends بشكل شامل ودقيق\n",
      "Justification: This text is about business because it discusses company strategies, market analysis, and commercial planning\n",
      "Output: business\n",
      "Input Text: اذا كنت تريد النجاح في trading عليك ان تتجنب emotional decisions وتركز علي market analysis\n",
      "Justification: This text is about finance because it covers trading strategies and market analysis\n",
      "Output: finance\n",
      "Input Text: هل يمكن ان توثر pharmaceutical advancements علي نسبه الشفاء من الامراض المزمنه بشكل كبير\n",
      "Justification: This belongs to medical category as it covers pharmaceutical advancements and chronic disease treatment\n",
      "Output: medical\n",
      "Input Text: ممارسة الرياضة اليومية تساعد في الحفاظ على صحة القلب والجسم بشكل عام\n",
      "Justification: This belongs to health category as it covers physical exercise and heart health\n",
      "Output: health\n",
      "Input Text: استخدام virtual classrooms يعزز فرص collaboration بين الطلاب من مختلف انحاء العالم\n",
      "Justification: This belongs to education category as it discusses virtual learning and student collaboration\n",
      "Output: education\n",
      "Input Text: المبادرات المجتمعية تلعب دوراً هاماً في حل المشكلات الاجتماعية وتعزيز التكافل\n",
      "Justification: This belongs to social category as it covers community initiatives and social problem-solving\n",
      "Output: social\n",
      "Input Text: اذا كنت ترغب في تحسين mental health يجب عليك ممارسه mindfulness بانتظام وتناول طعام صحي\n",
      "Justification: This text is about health because it discusses mental health, mindfulness, and healthy eating\n",
      "Output: health\n",
      "Input Text: الذكاء الاصطناعي يساهم في تطوير قطاعات متعددة من الصناعة والخدمات\n",
      "Justification: This belongs to tech category as it discusses artificial intelligence and industry development\n",
      "Output: tech\n",
      "Input Text: \n"
     ]
    }
   ],
   "source": [
    "print(prompt_examples_cot)"
   ]
  },
  {
   "cell_type": "code",
   "execution_count": 13,
   "metadata": {},
   "outputs": [
    {
     "ename": "NameError",
     "evalue": "name 'categories' is not defined",
     "output_type": "error",
     "traceback": [
      "\u001b[1;31m---------------------------------------------------------------------------\u001b[0m",
      "\u001b[1;31mNameError\u001b[0m                                 Traceback (most recent call last)",
      "Cell \u001b[1;32mIn[13], line 3\u001b[0m\n\u001b[0;32m      1\u001b[0m prompt_prefix_cot \u001b[38;5;241m=\u001b[39m \u001b[38;5;124mf\u001b[39m\u001b[38;5;124m'''\u001b[39m\n\u001b[0;32m      2\u001b[0m \u001b[38;5;124mClassify the following Arabic and English text into one of these categories: \u001b[39m\n\u001b[1;32m----> 3\u001b[0m \u001b[38;5;132;01m{\u001b[39;00m\u001b[38;5;124m\"\u001b[39m\u001b[38;5;124m, \u001b[39m\u001b[38;5;124m\"\u001b[39m\u001b[38;5;241m.\u001b[39mjoin(\u001b[43mcategories\u001b[49m)\u001b[38;5;132;01m}\u001b[39;00m\u001b[38;5;124m.\u001b[39m\n\u001b[0;32m      4\u001b[0m \n\u001b[0;32m      5\u001b[0m \u001b[38;5;124mAnalyze the text and provide a justification before giving the final category.\u001b[39m\n\u001b[0;32m      6\u001b[0m \u001b[38;5;124mYour output should include a justification and then the category name like in the examples below.\u001b[39m\n\u001b[0;32m      7\u001b[0m \u001b[38;5;124m'''\u001b[39m\n\u001b[0;32m      9\u001b[0m prompt_suffix_cot \u001b[38;5;241m=\u001b[39m \u001b[38;5;124m\"\u001b[39m\u001b[38;5;124mJustification: \u001b[39m\u001b[38;5;124m\"\u001b[39m\n",
      "\u001b[1;31mNameError\u001b[0m: name 'categories' is not defined"
     ]
    }
   ],
   "source": [
    "prompt_prefix_cot = f'''\n",
    "Classify the following Arabic and English text into one of these categories: \n",
    "{\", \".join(categories)}.\n",
    "\n",
    "Analyze the text and provide a justification before giving the final category.\n",
    "Your output should include a justification and then the category name like in the examples below.\n",
    "'''\n",
    "\n",
    "prompt_suffix_cot = \"Justification: \""
   ]
  },
  {
   "cell_type": "code",
   "execution_count": null,
   "metadata": {},
   "outputs": [],
   "source": [
    "def your_pre_processing_cot(input_string):\n",
    "    return input_string.strip()  \n",
    "\n",
    "def your_post_processing_cot(output_string):\n",
    "    categories = ['business', 'education', 'finance', 'health', 'medical', 'shopping', 'social', 'sports', 'tech']\n",
    "    output_lower = output_string.lower()\n",
    "    \n",
    "    for category in categories:\n",
    "        if category in output_lower:\n",
    "            return category\n",
    "    \n",
    "    return output_string.split()[0] if output_string.strip() else 'unknown'"
   ]
  },
  {
   "cell_type": "code",
   "execution_count": null,
   "metadata": {},
   "outputs": [
    {
     "name": "stdout",
     "output_type": "stream",
     "text": [
      "llama-3.1-8b-instant\n"
     ]
    }
   ],
   "source": [
    "prompt_config_cot = {\n",
    "    'max_tokens': 80,  \n",
    "    'temperature': 0.2, \n",
    "    'top_k': 0,       \n",
    "    'top_p': 0.9,\n",
    "    'repetition_penalty': 1,\n",
    "    'stop': ['\\nCategory:'] \n",
    "}\n",
    "model = 'llama-3.1-8b-instant'\n",
    "print(model)\n",
    "\n",
    "eval_df = get_eval_df(50)"
   ]
  },
  {
   "cell_type": "code",
   "execution_count": null,
   "metadata": {},
   "outputs": [
    {
     "name": "stderr",
     "output_type": "stream",
     "text": [
      "50it [07:54,  9.49s/it]"
     ]
    },
    {
     "name": "stdout",
     "output_type": "stream",
     "text": [
      "    text_id                                               text  \\\n",
      "0      3679  قد يساعدنا تعزيز community development في تحسي...   \n",
      "1      4089  كيف يمكننا استخدام artificial intelligence لتح...   \n",
      "2      8338  اذا كان لديك خطه عمل واضحه يمكنك increase your...   \n",
      "3      1334  هل تعتقد ان cultural trends الحاليه تعكس التغي...   \n",
      "4       444  عندما يتحدث اللاعبون عن motivation يتوجب عليهم...   \n",
      "5      4397  بينما تتطور computer networks يجب ان نكون علي ...   \n",
      "6      3946  اذا كانت لديك معلومات جيده عن market forecasts...   \n",
      "7      5017  كيف يمكن ان توثر blockchain technology علي نظا...   \n",
      "8      5586  هل لديك خطه واضحه لتعزيز employee engagement ف...   \n",
      "9      1429  يجب علي المطورين استخدام software development ...   \n",
      "10     2472  من المهم ان نفهم كيف تعمل artificial intellige...   \n",
      "11     4108  هل تعتقد ان healthcare access يجب ان يكون حقا ...   \n",
      "12     2812  حينما تفكر في retirement planning عليك ان تاخذ...   \n",
      "13     5897  اذا كنت تبحث عن fashion trends فلا تنس زياره ا...   \n",
      "14     7269  اذا استمرت political engagement في الانخفاض فق...   \n",
      "15     1010  اذا كنت ترغب في تحسين صحتك يجب عليك تناول nutr...   \n",
      "16     4740  اذا كنت تستثمر في stocks استخدم technical anal...   \n",
      "17     4002  تعتبر distance learning وسيله فعاله لتقديم الت...   \n",
      "18     6831  اذا كنت تفكر في trading تاكد من انك تعرف كيفيه...   \n",
      "19     4886  استثمر في صحتك من خلال اختيار healthy food opt...   \n",
      "20     4221  تطوير curriculum يجب ان يتضمن feedback from st...   \n",
      "21     4008  اذا استثمرنا في clinical research سنتمكن من اك...   \n",
      "22     1290  لتحقيق نتايج افضل في clinical care يجب ان نستخ...   \n",
      "23     3645  في حاله وجود surgery يجب علي المريض ان يعرف اه...   \n",
      "24      873  تتطلب الابحاث السريريه الجديده التعاون بين sci...   \n",
      "25     6858  اذا كنت تبحث عن discount codes يمكنك العثور عل...   \n",
      "26     3581  اذا كنت تبحث عن grocery shopping باسعار معقوله...   \n",
      "27     3585  في عالم pharmaceuticals نحتاج الي effective co...   \n",
      "28     3548  ما هي الخطوات اللازمه لضمان ان healthcare prof...   \n",
      "29     5542  بينما تتقدم social media platforms يجب ان نتذك...   \n",
      "30     5856  اذا استثمرنا في medical research فاننا سنحقق ت...   \n",
      "31     4454  عندما نطبق evidencebased practices في medicine...   \n",
      "32     6841  لتطوير مستوي اللاعبين في basketball يجب دمج mo...   \n",
      "33     5746  هل تعتقد ان social media platforms ستعمل علي ت...   \n",
      "34     6767  اذا كنت تعاني من القلق يمكن ان تساعدك mindfuln...   \n",
      "35     1942  تعتبر networking events ضروريه لبناء علاقات قو...   \n",
      "36     6879  في athletics يعتبر proper technique عنصرا اساس...   \n",
      "37     7190  من المهم ان نفهم كيف توثر global events علي st...   \n",
      "38     1060  عند التدريب علي soccer تاكد من التركيز علي تحس...   \n",
      "39     5912  يجب علي الجامعات تحديث curriculum بانتظام لضما...   \n",
      "40     6958  عندما تشاهد basketball يجب ان تكون واعيا لتكتي...   \n",
      "41     3723  عند استخدام blockchain يجب ان نتاكد من ان netw...   \n",
      "42     4690  اذا اردنا تحقيق business growth يجب ان نستثمر ...   \n",
      "43     3175  عند تطوير business strategies عليك ان تاخذ في ...   \n",
      "44     7440  عندما نتحدث عن project management يجب ان ناخذ ...   \n",
      "45     2510  هل تعلم ان distance learning يوفر للطلاب فرصا ...   \n",
      "46     7613  عندما يتعلق الامر ب human resources فان talent...   \n",
      "47      512  اذا كنت تحلم بان تصبح بطل basketball عليك ان ت...   \n",
      "48     2097  اذا اشتريت من grocery stores يمكنك استخدام loy...   \n",
      "49     2913  تجربه online courses يمكن ان تكون مفيده ولكن ي...   \n",
      "\n",
      "                                      model_responses  \\\n",
      "0   قد يساعدنا تعزيز community development في تحسي...   \n",
      "1   Justification: This text is about tech because...   \n",
      "2   If you have a clear business plan, you can inc...   \n",
      "3   Justification: This text discusses cultural tr...   \n",
      "4   Justification: This text is about sports becau...   \n",
      "5   Justification: This text is about tech because...   \n",
      "6   Justification: This text is about finance beca...   \n",
      "7   كيف يمكن ان توثر blockchain technology علي نظا...   \n",
      "8   Justification: This text is about business bec...   \n",
      "9   يجب علي المطورين استخدام software development ...   \n",
      "10  Justification: This text is about tech because...   \n",
      "11  Justification: This text is about health becau...   \n",
      "12  حينما تفكر في retirement planning عليك ان تاخذ...   \n",
      "13  اذا كنت تبحث عن fashion trends فلا تنس زياره ا...   \n",
      "14  Justification: This text is about politics and...   \n",
      "15  Justification: This text is about health becau...   \n",
      "16  Justification: This text is about finance beca...   \n",
      "17  Justification: This text discusses distance le...   \n",
      "18  Justification: This text is about finance beca...   \n",
      "19  Justification: This text is about health becau...   \n",
      "20  تطوير curriculum يجب ان يتضمن feedback from st...   \n",
      "21  Justification: This text is about medical beca...   \n",
      "22  Justification: This text is about medical beca...   \n",
      "23  Justification: This text is about medical beca...   \n",
      "24  تتطلب الابحاث السريريه الجديده التعاون بين sci...   \n",
      "25  Justification: This text is about shopping bec...   \n",
      "26  اذا كنت تبحث عن grocery shopping باسعار معقوله...   \n",
      "27  Justification: This text is about medical beca...   \n",
      "28  ما هي الخطوات اللازمه لضمان ان healthcare prof...   \n",
      "29  Justification: This text emphasizes the import...   \n",
      "30  اذا استثمرنا في medical research فاننا سنحقق ت...   \n",
      "31  Justification: This text is about medical beca...   \n",
      "32  Justification: This text is about sports becau...   \n",
      "33  Justification: This text is about social becau...   \n",
      "34  Justification: This text is about health becau...   \n",
      "35  تعتبر networking events ضروريه لبناء علاقات قو...   \n",
      "36  Justification: This text is about sports becau...   \n",
      "37  Justification: This text discusses the impact ...   \n",
      "38  Justification: This text is about sports becau...   \n",
      "39  يجب علي الجامعات تحديث curriculum بانتظام لضما...   \n",
      "40  Justification: This text is about sports becau...   \n",
      "41  عند استخدام blockchain يجب ان نتاكد من ان netw...   \n",
      "42  اذا اردنا تحقيق business growth يجب ان نستثمر ...   \n",
      "43  عند تطوير business strategies عليك ان تاخذ في ...   \n",
      "44  Justification: This text is about project mana...   \n",
      "45  Justification: This text is about education be...   \n",
      "46  When it comes to human resources, talent acqui...   \n",
      "47  Justification: This text is about sports becau...   \n",
      "48  اذا اشتريت من grocery stores يمكنك استخدام loy...   \n",
      "49  تجربه online courses يمكن ان تكون مفيده ولكن ي...   \n",
      "\n",
      "   corrected_model_responses true_label  \n",
      "0                     social     social  \n",
      "1                       tech       tech  \n",
      "2                   business   business  \n",
      "3                     social     social  \n",
      "4                     sports     sports  \n",
      "5                       tech       tech  \n",
      "6                    finance    finance  \n",
      "7                       tech       tech  \n",
      "8                   business   business  \n",
      "9                       tech       tech  \n",
      "10                      tech       tech  \n",
      "11                    health     health  \n",
      "12                   finance    finance  \n",
      "13                  shopping   shopping  \n",
      "14                    social     social  \n",
      "15                    health     health  \n",
      "16                   finance    finance  \n",
      "17                 education  education  \n",
      "18                   finance    finance  \n",
      "19                    health     health  \n",
      "20                 education  education  \n",
      "21                   medical    medical  \n",
      "22                    health     health  \n",
      "23                   medical    medical  \n",
      "24                    health    medical  \n",
      "25                  shopping   shopping  \n",
      "26                  shopping   shopping  \n",
      "27                   medical    medical  \n",
      "28                 education    medical  \n",
      "29                    social     social  \n",
      "30                    health     health  \n",
      "31                   medical    medical  \n",
      "32                    sports     sports  \n",
      "33                    social     social  \n",
      "34                    health     health  \n",
      "35                  business   business  \n",
      "36                    sports     sports  \n",
      "37            Justification:    finance  \n",
      "38                    sports     sports  \n",
      "39                 education  education  \n",
      "40                    sports     sports  \n",
      "41                      tech       tech  \n",
      "42                  business   business  \n",
      "43                  business   business  \n",
      "44                  business   business  \n",
      "45                 education  education  \n",
      "46                  business   business  \n",
      "47                    sports     sports  \n",
      "48                  shopping   shopping  \n",
      "49                 education  education  \n"
     ]
    },
    {
     "name": "stderr",
     "output_type": "stream",
     "text": [
      "\n"
     ]
    }
   ],
   "source": [
    "results_df = test_range(eval_df, prompt_config_cot, prompt_examples_cot, prompt_prefix_cot, prompt_suffix_cot, pre_processing=your_pre_processing_cot, post_processing=your_post_processing_cot, model=model, debug=False)\n",
    "print(results_df)"
   ]
  },
  {
   "cell_type": "code",
   "execution_count": null,
   "metadata": {},
   "outputs": [],
   "source": [
    "results_df.to_excel('error_analysis.xlsx', index=False)"
   ]
  },
  {
   "cell_type": "code",
   "execution_count": null,
   "metadata": {},
   "outputs": [],
   "source": [
    "results_df['corrected_model_responses'] = results_df['model_responses'].apply(your_post_processing_cot)"
   ]
  },
  {
   "cell_type": "code",
   "execution_count": null,
   "metadata": {},
   "outputs": [
    {
     "data": {
      "text/plain": [
       "0.9465672105672105"
      ]
     },
     "execution_count": 161,
     "metadata": {},
     "output_type": "execute_result"
    }
   ],
   "source": [
    "f1_score(results_df['true_label'], results_df['corrected_model_responses'],average='weighted')"
   ]
  },
  {
   "cell_type": "code",
   "execution_count": null,
   "metadata": {},
   "outputs": [
    {
     "name": "stdout",
     "output_type": "stream",
     "text": [
      "                precision    recall  f1-score   support\n",
      "\n",
      "Justification:       0.00      0.00      0.00         0\n",
      "      business       1.00      1.00      1.00         7\n",
      "     education       0.83      1.00      0.91         5\n",
      "       finance       1.00      0.80      0.89         5\n",
      "        health       0.86      1.00      0.92         6\n",
      "       medical       1.00      0.67      0.80         6\n",
      "      shopping       1.00      1.00      1.00         4\n",
      "        social       1.00      1.00      1.00         5\n",
      "        sports       1.00      1.00      1.00         6\n",
      "          tech       1.00      1.00      1.00         6\n",
      "\n",
      "      accuracy                           0.94        50\n",
      "     macro avg       0.87      0.85      0.85        50\n",
      "  weighted avg       0.97      0.94      0.95        50\n",
      "\n"
     ]
    },
    {
     "name": "stderr",
     "output_type": "stream",
     "text": [
      "c:\\Users\\Mohamed\\AppData\\Local\\Programs\\Python\\Python312\\Lib\\site-packages\\sklearn\\metrics\\_classification.py:1531: UndefinedMetricWarning: Recall is ill-defined and being set to 0.0 in labels with no true samples. Use `zero_division` parameter to control this behavior.\n",
      "  _warn_prf(average, modifier, f\"{metric.capitalize()} is\", len(result))\n",
      "c:\\Users\\Mohamed\\AppData\\Local\\Programs\\Python\\Python312\\Lib\\site-packages\\sklearn\\metrics\\_classification.py:1531: UndefinedMetricWarning: Recall is ill-defined and being set to 0.0 in labels with no true samples. Use `zero_division` parameter to control this behavior.\n",
      "  _warn_prf(average, modifier, f\"{metric.capitalize()} is\", len(result))\n",
      "c:\\Users\\Mohamed\\AppData\\Local\\Programs\\Python\\Python312\\Lib\\site-packages\\sklearn\\metrics\\_classification.py:1531: UndefinedMetricWarning: Recall is ill-defined and being set to 0.0 in labels with no true samples. Use `zero_division` parameter to control this behavior.\n",
      "  _warn_prf(average, modifier, f\"{metric.capitalize()} is\", len(result))\n"
     ]
    }
   ],
   "source": [
    "print(classification_report(results_df['true_label'], results_df['corrected_model_responses']))"
   ]
  },
  {
   "cell_type": "markdown",
   "metadata": {},
   "source": [
    "## CARP"
   ]
  },
  {
   "cell_type": "code",
   "execution_count": 89,
   "metadata": {},
   "outputs": [],
   "source": [
    "category_features = {\n",
    "    'business': ['company strategies', 'market analysis', 'commercial planning', 'business growth', 'market trends'],\n",
    "    'education': ['learning', 'teaching', 'curriculum', 'students', 'school', 'education', 'classroom', 'virtual learning'],\n",
    "    'finance': ['money', 'investment', 'trading', 'banking', 'financial', 'markets', 'fintech', 'economic'],\n",
    "    'health': ['fitness', 'wellness', 'mental health', 'exercise', 'healthy lifestyle', 'physical health'],\n",
    "    'medical': ['treatment', 'medicine', 'pharmaceutical', 'medical care', 'doctors', 'nutrition', 'vitamins'],\n",
    "    'shopping': ['purchase', 'buying', 'products', 'reviews', 'price comparison', 'consumer', 'customer'],\n",
    "    'social': ['community', 'relationships', 'social interactions', 'society', 'social life', 'community initiatives'],\n",
    "    'sports': ['athletes', 'games', 'training', 'competitions', 'sports', 'cricket', 'players', 'matches'],\n",
    "    'tech': ['technology', 'software', 'computers', 'AI', 'digital', 'innovation', 'cloud computing', 'artificial intelligence']\n",
    "}"
   ]
  },
  {
   "cell_type": "code",
   "execution_count": 90,
   "metadata": {},
   "outputs": [],
   "source": [
    "def create_carp_examples_format(all_texts, all_justifications, all_labels, category_features):\n",
    "\n",
    "    examples = []\n",
    "    combined_data = list(zip(all_texts, all_justifications, all_labels))\n",
    "    \n",
    "    example_subset = combined_data[:6] \n",
    "    \n",
    "    for text, justification, label in example_subset:\n",
    "        features = category_features.get(label, [])\n",
    "        \n",
    "        carp_justification = f\"{justification} CARP Reasoning: Text contains features like {', '.join(features[:2])} confirming {label} category.\"\n",
    "        \n",
    "        line1 = \"Input Text: \" + text + \"\\n\"\n",
    "        justification_line = \"Justification: \" + carp_justification + \"\\n\"\n",
    "        line2 = \"Output: \" + label + \"\\n\"\n",
    "        examples.append(line1 + justification_line + line2)\n",
    "\n",
    "    return ''.join(examples)\n",
    "\n",
    "prompt_examples_carp = create_carp_examples_format(all_topic_texts, all_topic_justifications, all_topic_labels, category_features)"
   ]
  },
  {
   "cell_type": "code",
   "execution_count": 114,
   "metadata": {},
   "outputs": [],
   "source": [
    "prompt_prefix_carp = f\"\"\"\n",
    "Classify the following Combined Arabic and English text into one of these categories:\n",
    "{\", \".join(category_features.keys())}.\n",
    "\n",
    "Use the CARP method internally (analyze topic, list expected features, verify features, decide), \n",
    "but **do NOT show your reasoning**.\n",
    "\n",
    "Output format: Only write the final category name with no explanation, no extra text, and no punctuation.\n",
    "\"\"\"\n",
    "prompt_suffix_carp = \"Justification: \""
   ]
  },
  {
   "cell_type": "code",
   "execution_count": 92,
   "metadata": {},
   "outputs": [],
   "source": [
    "def your_pre_processing_carp(input_string):\n",
    "    return input_string.strip()\n",
    "\n",
    "def your_post_processing_carp(output_string):\n",
    "\n",
    "    categories = list(category_features.keys())\n",
    "    output_lower = output_string.lower()\n",
    "    \n",
    "    if \"output:\" in output_lower:\n",
    "        output_part = output_lower.split(\"output:\")[1].strip()\n",
    "        for category in categories:\n",
    "            if category in output_part.split()[0]:  \n",
    "                return category\n",
    "    \n",
    "    for category in categories:\n",
    "        if f\" {category} \" in f\" {output_lower} \":\n",
    "            return category\n",
    "    \n",
    "    return output_string.split()[0] if output_string.strip() else 'unknown'"
   ]
  },
  {
   "cell_type": "code",
   "execution_count": 94,
   "metadata": {},
   "outputs": [],
   "source": [
    "prompt_config_carp = {\n",
    "    'max_tokens': 150,  \n",
    "    'temperature': 0.1,  \n",
    "    'top_k': 0,       \n",
    "    'top_p': 0.9,\n",
    "    'repetition_penalty': 1.1, \n",
    "    'stop': ['\\n---', 'Input Text:']\n",
    "}"
   ]
  },
  {
   "cell_type": "code",
   "execution_count": 93,
   "metadata": {},
   "outputs": [],
   "source": [
    "model = 'llama-3.3-70b-versatile'\n",
    "eval_df = get_eval_df(50)\n"
   ]
  },
  {
   "cell_type": "code",
   "execution_count": 115,
   "metadata": {},
   "outputs": [
    {
     "name": "stderr",
     "output_type": "stream",
     "text": [
      "50it [02:21,  2.82s/it]"
     ]
    },
    {
     "name": "stdout",
     "output_type": "stream",
     "text": [
      "    text_id                                               text  \\\n",
      "0      2728  هل تعتقد ان youth culture اليوم تتاثر اكثر بال...   \n",
      "1      7946  اذا حصلت علي exclusive discounts يمكنك شراء ال...   \n",
      "2      1794  عندما يتم تبني educational technology يمكن ان ...   \n",
      "3      4389  تعتبر digital marketing اداه مهمه لجذب العملاء...   \n",
      "4      7503  اذا استثمرت الشركات في big data technologies س...   \n",
      "5      3955  عند اجراء surgery يعتبر استخدام minimally inva...   \n",
      "6      2512  الطب الحديث يعتمد بشكل كبير علي advanced techn...   \n",
      "7       687  في عالم cryptocurrency يجب ان نكون حذرين من ma...   \n",
      "8      5283  لتحسين interpersonal relationships يجب ان نتبن...   \n",
      "9       315  هل تعلم ان tennis يحتاج الي mental toughness ا...   \n",
      "10     3777  لشراء افضل electronics يجب ان تقارن الاسعار عل...   \n",
      "11     5503  اذا كنت ترغب في تحسين clinical outcomes يجب ال...   \n",
      "12     1273  تعتبر data analytics اداه قويه في marketing st...   \n",
      "13      699  عندما نتحدث عن blockchain يجب ان نفكر في كيفيه...   \n",
      "14     7884  يجب علينا تعزيز diversity and inclusion في الع...   \n",
      "15      527  احد التطبيقات المثيره ل artificial intelligenc...   \n",
      "16     5711  تتطلب machine learning بيانات نظيفه وموثوقه لذ...   \n",
      "17       33  اذا كنت تخطط لاستثمار طويل الامد عليك معرفه تا...   \n",
      "18     6360  هل تفكر في المشاركه في clinical research هذه ف...   \n",
      "19      358  عليك ان تتناول balanced meals لتحقيق اقصي استف...   \n",
      "20     2774  اهميه family values تزداد في زمن social inequa...   \n",
      "21     3043  عندما نتحدث عن machine learning يجب ان ندرك اه...   \n",
      "22     5928  تحتاج clinical trials الي rigorous protocols ل...   \n",
      "23     6981  يجب ان نتذكر ان interpersonal relationships تل...   \n",
      "24     2110  هل تعتقد ان consumer electronics اصبحت اكثر تك...   \n",
      "25     5674  اذا كنت ترغب في maximizing returns يجب عليك در...   \n",
      "26      488  كيف يمكن ان توثر market trends علي business de...   \n",
      "27     2028  عندما تلعب basketball يجب ان تكون مستعدا لتحلي...   \n",
      "28     7276  هل تعتقد ان innovation في المنتجات يمكن ان تود...   \n",
      "29     2830  لماذا لا نستخدم data analytics لتحديد افضل الا...   \n",
      "30     1091  اذا استمرينا في تجاهل disease prevention سنواج...   \n",
      "31     4244  في عالم cybersecurity من المهم استخدام machine...   \n",
      "32     5666  هل يمكنك شرح كيف توثر stock market fluctuation...   \n",
      "33     1585  لماذا لا تجرب ممارسه soccer في اوقات فراغك لتح...   \n",
      "34     5108  عندما نتحدث عن political engagement يجب ان نعت...   \n",
      "35     7382  اذا استمر الشباب في تجاهل قضايا social inequal...   \n",
      "36     5938  تعتبر risk management جزءا اساسيا من اي خطه in...   \n",
      "37     1836  تحتاج الشركات الي strategic partnerships لتعزي...   \n",
      "38     3129  ما هي افضل استراتيجيات academic research لتحسي...   \n",
      "39     2752  تسوق الملابس عبر الانترنت يمكن ان يكون ممتعا ل...   \n",
      "40     3195  هل تعتقد ان banking innovations ستوثر علي كيفي...   \n",
      "41     3451  اذا كنت تريد تحسين لياقتك البدنيه يجب ان تتبع ...   \n",
      "42     5375  عندما نتحدث عن youth culture يجب ان نتذكر دور ...   \n",
      "43      140  بعد الفوز في basketball البطوله يجب علي الفريق...   \n",
      "44      394  في عالم software development التعاون بين الفرق...   \n",
      "45      113  عندما نتحدث عن sociocultural trends يجب ان ناخ...   \n",
      "46     3141  لتكون فعالا في management يجب عليك فهم ديناميك...   \n",
      "47     1436  اذا استطعنا تحسين mental health من خلال البرام...   \n",
      "48     4998  اذا كنت تفكر في شراء new gadgets تاكد من مقارن...   \n",
      "49     4261  هل تعتقد ان استخدام health technology يمكن ان ...   \n",
      "\n",
      "   model_responses corrected_model_responses true_label  \n",
      "0           social                    social     social  \n",
      "1         shopping                  shopping   shopping  \n",
      "2        education                 education  education  \n",
      "3         business                  business   business  \n",
      "4         business                  business       tech  \n",
      "5          medical                   medical    medical  \n",
      "6           health                    health    medical  \n",
      "7          finance                   finance    finance  \n",
      "8           social                    social     social  \n",
      "9           sports                    sports     sports  \n",
      "10        shopping                  shopping   shopping  \n",
      "11          health                    health    medical  \n",
      "12        business                  business   business  \n",
      "13         finance                   finance       tech  \n",
      "14        business                  business     social  \n",
      "15            tech                      tech       tech  \n",
      "16        business                  business       tech  \n",
      "17         finance                   finance    finance  \n",
      "18         medical                   medical    medical  \n",
      "19          health                    health     health  \n",
      "20          social                    social     social  \n",
      "21            tech                      tech       tech  \n",
      "22         medical                   medical    medical  \n",
      "23          social                    social     social  \n",
      "24        business                  business   shopping  \n",
      "25         finance                   finance    finance  \n",
      "26        business                  business   business  \n",
      "27          sports                    sports     sports  \n",
      "28        business                  business   business  \n",
      "29          sports                    sports     sports  \n",
      "30          health                    health     health  \n",
      "31            tech                      tech       tech  \n",
      "32         finance                   finance    finance  \n",
      "33          sports                    sports     sports  \n",
      "34          social                    social     social  \n",
      "35          social                    social     social  \n",
      "36         finance                   finance    finance  \n",
      "37        business                  business   business  \n",
      "38       education                 education  education  \n",
      "39        shopping                  shopping   shopping  \n",
      "40         finance                   finance    finance  \n",
      "41          sports                    sports     sports  \n",
      "42          social                    social     social  \n",
      "43          sports                    sports     sports  \n",
      "44            tech                      tech       tech  \n",
      "45          social                    social     social  \n",
      "46        business                  business   business  \n",
      "47          health                    health    medical  \n",
      "48        shopping                  shopping   shopping  \n",
      "49          health                    health     health  \n"
     ]
    },
    {
     "name": "stderr",
     "output_type": "stream",
     "text": [
      "\n"
     ]
    }
   ],
   "source": [
    "results_df = test_range(eval_df, prompt_config_carp, prompt_examples_carp, prompt_prefix_carp, prompt_suffix_carp, pre_processing=your_pre_processing_carp, post_processing=your_post_processing_carp, model=model, debug=False)\n",
    "print(results_df)"
   ]
  },
  {
   "cell_type": "code",
   "execution_count": 112,
   "metadata": {},
   "outputs": [],
   "source": [
    "results_df.to_excel('carp_analysis.xlsx', index=False)"
   ]
  },
  {
   "cell_type": "code",
   "execution_count": 100,
   "metadata": {},
   "outputs": [],
   "source": [
    "results_df['corrected_model_responses'] = results_df['model_responses'].apply(your_post_processing_carp)"
   ]
  },
  {
   "cell_type": "code",
   "execution_count": 116,
   "metadata": {},
   "outputs": [
    {
     "data": {
      "text/plain": [
       "0.8408880661821838"
      ]
     },
     "execution_count": 116,
     "metadata": {},
     "output_type": "execute_result"
    }
   ],
   "source": [
    "f1_score(results_df['true_label'], results_df['corrected_model_responses'],average='weighted')"
   ]
  },
  {
   "cell_type": "code",
   "execution_count": 43,
   "metadata": {},
   "outputs": [
    {
     "name": "stdout",
     "output_type": "stream",
     "text": [
      "              precision    recall  f1-score   support\n",
      "\n",
      "    business       1.00      1.00      1.00         1\n",
      "     finance       1.00      1.00      1.00         1\n",
      "      health       0.00      0.00      0.00         0\n",
      "     medical       0.00      0.00      0.00         1\n",
      "    shopping       1.00      1.00      1.00         1\n",
      "      sports       1.00      1.00      1.00         1\n",
      "\n",
      "    accuracy                           0.80         5\n",
      "   macro avg       0.67      0.67      0.67         5\n",
      "weighted avg       0.80      0.80      0.80         5\n",
      "\n"
     ]
    },
    {
     "name": "stderr",
     "output_type": "stream",
     "text": [
      "c:\\Users\\Mohamed\\AppData\\Local\\Programs\\Python\\Python312\\Lib\\site-packages\\sklearn\\metrics\\_classification.py:1531: UndefinedMetricWarning: Precision is ill-defined and being set to 0.0 in labels with no predicted samples. Use `zero_division` parameter to control this behavior.\n",
      "  _warn_prf(average, modifier, f\"{metric.capitalize()} is\", len(result))\n",
      "c:\\Users\\Mohamed\\AppData\\Local\\Programs\\Python\\Python312\\Lib\\site-packages\\sklearn\\metrics\\_classification.py:1531: UndefinedMetricWarning: Recall is ill-defined and being set to 0.0 in labels with no true samples. Use `zero_division` parameter to control this behavior.\n",
      "  _warn_prf(average, modifier, f\"{metric.capitalize()} is\", len(result))\n",
      "c:\\Users\\Mohamed\\AppData\\Local\\Programs\\Python\\Python312\\Lib\\site-packages\\sklearn\\metrics\\_classification.py:1531: UndefinedMetricWarning: Precision is ill-defined and being set to 0.0 in labels with no predicted samples. Use `zero_division` parameter to control this behavior.\n",
      "  _warn_prf(average, modifier, f\"{metric.capitalize()} is\", len(result))\n",
      "c:\\Users\\Mohamed\\AppData\\Local\\Programs\\Python\\Python312\\Lib\\site-packages\\sklearn\\metrics\\_classification.py:1531: UndefinedMetricWarning: Recall is ill-defined and being set to 0.0 in labels with no true samples. Use `zero_division` parameter to control this behavior.\n",
      "  _warn_prf(average, modifier, f\"{metric.capitalize()} is\", len(result))\n",
      "c:\\Users\\Mohamed\\AppData\\Local\\Programs\\Python\\Python312\\Lib\\site-packages\\sklearn\\metrics\\_classification.py:1531: UndefinedMetricWarning: Precision is ill-defined and being set to 0.0 in labels with no predicted samples. Use `zero_division` parameter to control this behavior.\n",
      "  _warn_prf(average, modifier, f\"{metric.capitalize()} is\", len(result))\n",
      "c:\\Users\\Mohamed\\AppData\\Local\\Programs\\Python\\Python312\\Lib\\site-packages\\sklearn\\metrics\\_classification.py:1531: UndefinedMetricWarning: Recall is ill-defined and being set to 0.0 in labels with no true samples. Use `zero_division` parameter to control this behavior.\n",
      "  _warn_prf(average, modifier, f\"{metric.capitalize()} is\", len(result))\n"
     ]
    }
   ],
   "source": [
    "print(classification_report(results_df['true_label'], results_df['corrected_model_responses']))"
   ]
  },
  {
   "attachments": {},
   "cell_type": "markdown",
   "metadata": {},
   "source": [
    "## Test Set Inference"
   ]
  },
  {
   "cell_type": "code",
   "execution_count": 87,
   "metadata": {},
   "outputs": [],
   "source": [
    "test_df = get_test_set()"
   ]
  },
  {
   "cell_type": "code",
   "execution_count": 88,
   "metadata": {},
   "outputs": [
    {
     "name": "stderr",
     "output_type": "stream",
     "text": [
      "10it [01:16,  7.63s/it]\n"
     ]
    }
   ],
   "source": [
    "results_df = test_range(test_df, prompt_config_cot, prompt_examples_cot, prompt_prefix_cot, prompt_suffix_cot, pre_processing=your_pre_processing_cot, post_processing=your_post_processing_cot, model=model, debug=False)"
   ]
  },
  {
   "cell_type": "code",
   "execution_count": 89,
   "metadata": {},
   "outputs": [],
   "source": [
    "results_df['corrected_model_responses'] = results_df['model_responses'].apply(your_post_processing_cot)"
   ]
  },
  {
   "cell_type": "code",
   "execution_count": 90,
   "metadata": {},
   "outputs": [
    {
     "name": "stdout",
     "output_type": "stream",
     "text": [
      "              precision    recall  f1-score   support\n",
      "\n",
      "   education       1.00      0.50      0.67         2\n",
      "      health       1.00      1.00      1.00         5\n",
      "     medical       1.00      1.00      1.00         1\n",
      "    shopping       1.00      1.00      1.00         2\n",
      "         عند       0.00      0.00      0.00         0\n",
      "\n",
      "    accuracy                           0.90        10\n",
      "   macro avg       0.80      0.70      0.73        10\n",
      "weighted avg       1.00      0.90      0.93        10\n",
      "\n"
     ]
    },
    {
     "name": "stderr",
     "output_type": "stream",
     "text": [
      "c:\\Users\\Mohamed\\AppData\\Local\\Programs\\Python\\Python312\\Lib\\site-packages\\sklearn\\metrics\\_classification.py:1531: UndefinedMetricWarning: Recall is ill-defined and being set to 0.0 in labels with no true samples. Use `zero_division` parameter to control this behavior.\n",
      "  _warn_prf(average, modifier, f\"{metric.capitalize()} is\", len(result))\n",
      "c:\\Users\\Mohamed\\AppData\\Local\\Programs\\Python\\Python312\\Lib\\site-packages\\sklearn\\metrics\\_classification.py:1531: UndefinedMetricWarning: Recall is ill-defined and being set to 0.0 in labels with no true samples. Use `zero_division` parameter to control this behavior.\n",
      "  _warn_prf(average, modifier, f\"{metric.capitalize()} is\", len(result))\n",
      "c:\\Users\\Mohamed\\AppData\\Local\\Programs\\Python\\Python312\\Lib\\site-packages\\sklearn\\metrics\\_classification.py:1531: UndefinedMetricWarning: Recall is ill-defined and being set to 0.0 in labels with no true samples. Use `zero_division` parameter to control this behavior.\n",
      "  _warn_prf(average, modifier, f\"{metric.capitalize()} is\", len(result))\n"
     ]
    }
   ],
   "source": [
    "print(classification_report(results_df['true_label'], results_df['corrected_model_responses']))"
   ]
  },
  {
   "cell_type": "code",
   "execution_count": 92,
   "metadata": {},
   "outputs": [],
   "source": [
    "results_df.to_excel('test_results.xlsx', index=False)"
   ]
  },
  {
   "cell_type": "code",
   "execution_count": 93,
   "metadata": {},
   "outputs": [
    {
     "name": "stderr",
     "output_type": "stream",
     "text": [
      "10it [00:49,  4.91s/it]\n"
     ]
    }
   ],
   "source": [
    "results_df = test_range(test_df, prompt_config_cot, prompt_examples_cot, prompt_prefix_cot, prompt_suffix_cot, pre_processing=your_pre_processing_cot, post_processing=your_post_processing_cot, model=model, debug=False)"
   ]
  },
  {
   "cell_type": "code",
   "execution_count": 94,
   "metadata": {},
   "outputs": [],
   "source": [
    "results_df['corrected_model_responses'] = results_df['model_responses'].apply(your_post_processing_cot)"
   ]
  },
  {
   "cell_type": "code",
   "execution_count": 95,
   "metadata": {},
   "outputs": [],
   "source": [
    "results_df = pd.read_excel('test_results.xlsx')"
   ]
  },
  {
   "cell_type": "code",
   "execution_count": 96,
   "metadata": {},
   "outputs": [
    {
     "name": "stdout",
     "output_type": "stream",
     "text": [
      "              precision    recall  f1-score   support\n",
      "\n",
      "   education     1.0000    0.5000    0.6667         2\n",
      "      health     1.0000    1.0000    1.0000         5\n",
      "     medical     1.0000    1.0000    1.0000         1\n",
      "    shopping     1.0000    1.0000    1.0000         2\n",
      "         عند     0.0000    0.0000    0.0000         0\n",
      "\n",
      "    accuracy                         0.9000        10\n",
      "   macro avg     0.8000    0.7000    0.7333        10\n",
      "weighted avg     1.0000    0.9000    0.9333        10\n",
      "\n"
     ]
    },
    {
     "name": "stderr",
     "output_type": "stream",
     "text": [
      "c:\\Users\\Mohamed\\AppData\\Local\\Programs\\Python\\Python312\\Lib\\site-packages\\sklearn\\metrics\\_classification.py:1531: UndefinedMetricWarning: Recall is ill-defined and being set to 0.0 in labels with no true samples. Use `zero_division` parameter to control this behavior.\n",
      "  _warn_prf(average, modifier, f\"{metric.capitalize()} is\", len(result))\n",
      "c:\\Users\\Mohamed\\AppData\\Local\\Programs\\Python\\Python312\\Lib\\site-packages\\sklearn\\metrics\\_classification.py:1531: UndefinedMetricWarning: Recall is ill-defined and being set to 0.0 in labels with no true samples. Use `zero_division` parameter to control this behavior.\n",
      "  _warn_prf(average, modifier, f\"{metric.capitalize()} is\", len(result))\n",
      "c:\\Users\\Mohamed\\AppData\\Local\\Programs\\Python\\Python312\\Lib\\site-packages\\sklearn\\metrics\\_classification.py:1531: UndefinedMetricWarning: Recall is ill-defined and being set to 0.0 in labels with no true samples. Use `zero_division` parameter to control this behavior.\n",
      "  _warn_prf(average, modifier, f\"{metric.capitalize()} is\", len(result))\n"
     ]
    }
   ],
   "source": [
    "print(classification_report(results_df['true_label'], results_df['corrected_model_responses'], digits=4))"
   ]
  },
  {
   "cell_type": "code",
   "execution_count": 98,
   "metadata": {},
   "outputs": [],
   "source": [
    "joined_df = results_df.set_index(\"text_id\").join(test_df.set_index('text'), lsuffix='_caller', rsuffix='_other')"
   ]
  },
  {
   "cell_type": "code",
   "execution_count": 99,
   "metadata": {},
   "outputs": [],
   "source": [
    "joined_df['codemixed'] = joined_df['text'].apply(is_codemixed)\n",
    "cm = joined_df.loc[joined_df['codemixed'] == 1]\n",
    "mono = joined_df.loc[joined_df['codemixed'] == 0]"
   ]
  },
  {
   "cell_type": "code",
   "execution_count": 100,
   "metadata": {},
   "outputs": [
    {
     "ename": "ValueError",
     "evalue": "max() iterable argument is empty",
     "output_type": "error",
     "traceback": [
      "\u001b[1;31m---------------------------------------------------------------------------\u001b[0m",
      "\u001b[1;31mValueError\u001b[0m                                Traceback (most recent call last)",
      "Cell \u001b[1;32mIn[100], line 1\u001b[0m\n\u001b[1;32m----> 1\u001b[0m \u001b[38;5;28mprint\u001b[39m(\u001b[43mclassification_report\u001b[49m\u001b[43m(\u001b[49m\u001b[43mmono\u001b[49m\u001b[43m[\u001b[49m\u001b[38;5;124;43m'\u001b[39;49m\u001b[38;5;124;43mtrue_label\u001b[39;49m\u001b[38;5;124;43m'\u001b[39;49m\u001b[43m]\u001b[49m\u001b[43m,\u001b[49m\u001b[43m \u001b[49m\u001b[43mmono\u001b[49m\u001b[43m[\u001b[49m\u001b[38;5;124;43m'\u001b[39;49m\u001b[38;5;124;43mcorrected_model_responses\u001b[39;49m\u001b[38;5;124;43m'\u001b[39;49m\u001b[43m]\u001b[49m\u001b[43m,\u001b[49m\u001b[43m \u001b[49m\u001b[43mdigits\u001b[49m\u001b[38;5;241;43m=\u001b[39;49m\u001b[38;5;241;43m4\u001b[39;49m\u001b[43m)\u001b[49m)\n",
      "File \u001b[1;32mc:\\Users\\Mohamed\\AppData\\Local\\Programs\\Python\\Python312\\Lib\\site-packages\\sklearn\\utils\\_param_validation.py:213\u001b[0m, in \u001b[0;36mvalidate_params.<locals>.decorator.<locals>.wrapper\u001b[1;34m(*args, **kwargs)\u001b[0m\n\u001b[0;32m    207\u001b[0m \u001b[38;5;28;01mtry\u001b[39;00m:\n\u001b[0;32m    208\u001b[0m     \u001b[38;5;28;01mwith\u001b[39;00m config_context(\n\u001b[0;32m    209\u001b[0m         skip_parameter_validation\u001b[38;5;241m=\u001b[39m(\n\u001b[0;32m    210\u001b[0m             prefer_skip_nested_validation \u001b[38;5;129;01mor\u001b[39;00m global_skip_validation\n\u001b[0;32m    211\u001b[0m         )\n\u001b[0;32m    212\u001b[0m     ):\n\u001b[1;32m--> 213\u001b[0m         \u001b[38;5;28;01mreturn\u001b[39;00m \u001b[43mfunc\u001b[49m\u001b[43m(\u001b[49m\u001b[38;5;241;43m*\u001b[39;49m\u001b[43margs\u001b[49m\u001b[43m,\u001b[49m\u001b[43m \u001b[49m\u001b[38;5;241;43m*\u001b[39;49m\u001b[38;5;241;43m*\u001b[39;49m\u001b[43mkwargs\u001b[49m\u001b[43m)\u001b[49m\n\u001b[0;32m    214\u001b[0m \u001b[38;5;28;01mexcept\u001b[39;00m InvalidParameterError \u001b[38;5;28;01mas\u001b[39;00m e:\n\u001b[0;32m    215\u001b[0m     \u001b[38;5;66;03m# When the function is just a wrapper around an estimator, we allow\u001b[39;00m\n\u001b[0;32m    216\u001b[0m     \u001b[38;5;66;03m# the function to delegate validation to the estimator, but we replace\u001b[39;00m\n\u001b[0;32m    217\u001b[0m     \u001b[38;5;66;03m# the name of the estimator by the name of the function in the error\u001b[39;00m\n\u001b[0;32m    218\u001b[0m     \u001b[38;5;66;03m# message to avoid confusion.\u001b[39;00m\n\u001b[0;32m    219\u001b[0m     msg \u001b[38;5;241m=\u001b[39m re\u001b[38;5;241m.\u001b[39msub(\n\u001b[0;32m    220\u001b[0m         \u001b[38;5;124mr\u001b[39m\u001b[38;5;124m\"\u001b[39m\u001b[38;5;124mparameter of \u001b[39m\u001b[38;5;124m\\\u001b[39m\u001b[38;5;124mw+ must be\u001b[39m\u001b[38;5;124m\"\u001b[39m,\n\u001b[0;32m    221\u001b[0m         \u001b[38;5;124mf\u001b[39m\u001b[38;5;124m\"\u001b[39m\u001b[38;5;124mparameter of \u001b[39m\u001b[38;5;132;01m{\u001b[39;00mfunc\u001b[38;5;241m.\u001b[39m\u001b[38;5;18m__qualname__\u001b[39m\u001b[38;5;132;01m}\u001b[39;00m\u001b[38;5;124m must be\u001b[39m\u001b[38;5;124m\"\u001b[39m,\n\u001b[0;32m    222\u001b[0m         \u001b[38;5;28mstr\u001b[39m(e),\n\u001b[0;32m    223\u001b[0m     )\n",
      "File \u001b[1;32mc:\\Users\\Mohamed\\AppData\\Local\\Programs\\Python\\Python312\\Lib\\site-packages\\sklearn\\metrics\\_classification.py:2679\u001b[0m, in \u001b[0;36mclassification_report\u001b[1;34m(y_true, y_pred, labels, target_names, sample_weight, digits, output_dict, zero_division)\u001b[0m\n\u001b[0;32m   2677\u001b[0m \u001b[38;5;28;01melse\u001b[39;00m:\n\u001b[0;32m   2678\u001b[0m     longest_last_line_heading \u001b[38;5;241m=\u001b[39m \u001b[38;5;124m\"\u001b[39m\u001b[38;5;124mweighted avg\u001b[39m\u001b[38;5;124m\"\u001b[39m\n\u001b[1;32m-> 2679\u001b[0m     name_width \u001b[38;5;241m=\u001b[39m \u001b[38;5;28;43mmax\u001b[39;49m\u001b[43m(\u001b[49m\u001b[38;5;28;43mlen\u001b[39;49m\u001b[43m(\u001b[49m\u001b[43mcn\u001b[49m\u001b[43m)\u001b[49m\u001b[43m \u001b[49m\u001b[38;5;28;43;01mfor\u001b[39;49;00m\u001b[43m \u001b[49m\u001b[43mcn\u001b[49m\u001b[43m \u001b[49m\u001b[38;5;129;43;01min\u001b[39;49;00m\u001b[43m \u001b[49m\u001b[43mtarget_names\u001b[49m\u001b[43m)\u001b[49m\n\u001b[0;32m   2680\u001b[0m     width \u001b[38;5;241m=\u001b[39m \u001b[38;5;28mmax\u001b[39m(name_width, \u001b[38;5;28mlen\u001b[39m(longest_last_line_heading), digits)\n\u001b[0;32m   2681\u001b[0m     head_fmt \u001b[38;5;241m=\u001b[39m \u001b[38;5;124m\"\u001b[39m\u001b[38;5;124m{\u001b[39m\u001b[38;5;124m:>\u001b[39m\u001b[38;5;132;01m{width}\u001b[39;00m\u001b[38;5;124ms} \u001b[39m\u001b[38;5;124m\"\u001b[39m \u001b[38;5;241m+\u001b[39m \u001b[38;5;124m\"\u001b[39m\u001b[38;5;124m \u001b[39m\u001b[38;5;132;01m{:>9}\u001b[39;00m\u001b[38;5;124m\"\u001b[39m \u001b[38;5;241m*\u001b[39m \u001b[38;5;28mlen\u001b[39m(headers)\n",
      "\u001b[1;31mValueError\u001b[0m: max() iterable argument is empty"
     ]
    }
   ],
   "source": [
    "print(classification_report(mono['true_label'], mono['corrected_model_responses'], digits=4))"
   ]
  },
  {
   "cell_type": "code",
   "execution_count": 101,
   "metadata": {},
   "outputs": [
    {
     "name": "stdout",
     "output_type": "stream",
     "text": [
      "              precision    recall  f1-score   support\n",
      "\n",
      "   education     1.0000    0.5000    0.6667         2\n",
      "      health     1.0000    1.0000    1.0000         5\n",
      "     medical     1.0000    1.0000    1.0000         1\n",
      "    shopping     1.0000    1.0000    1.0000         2\n",
      "         عند     0.0000    0.0000    0.0000         0\n",
      "\n",
      "    accuracy                         0.9000        10\n",
      "   macro avg     0.8000    0.7000    0.7333        10\n",
      "weighted avg     1.0000    0.9000    0.9333        10\n",
      "\n"
     ]
    },
    {
     "name": "stderr",
     "output_type": "stream",
     "text": [
      "c:\\Users\\Mohamed\\AppData\\Local\\Programs\\Python\\Python312\\Lib\\site-packages\\sklearn\\metrics\\_classification.py:1531: UndefinedMetricWarning: Recall is ill-defined and being set to 0.0 in labels with no true samples. Use `zero_division` parameter to control this behavior.\n",
      "  _warn_prf(average, modifier, f\"{metric.capitalize()} is\", len(result))\n",
      "c:\\Users\\Mohamed\\AppData\\Local\\Programs\\Python\\Python312\\Lib\\site-packages\\sklearn\\metrics\\_classification.py:1531: UndefinedMetricWarning: Recall is ill-defined and being set to 0.0 in labels with no true samples. Use `zero_division` parameter to control this behavior.\n",
      "  _warn_prf(average, modifier, f\"{metric.capitalize()} is\", len(result))\n",
      "c:\\Users\\Mohamed\\AppData\\Local\\Programs\\Python\\Python312\\Lib\\site-packages\\sklearn\\metrics\\_classification.py:1531: UndefinedMetricWarning: Recall is ill-defined and being set to 0.0 in labels with no true samples. Use `zero_division` parameter to control this behavior.\n",
      "  _warn_prf(average, modifier, f\"{metric.capitalize()} is\", len(result))\n"
     ]
    }
   ],
   "source": [
    "print(classification_report(cm['true_label'], cm['corrected_model_responses'], digits=4))"
   ]
  },
  {
   "attachments": {},
   "cell_type": "markdown",
   "metadata": {},
   "source": [
    "## OOD Set Inference"
   ]
  },
  {
   "cell_type": "code",
   "execution_count": 103,
   "metadata": {},
   "outputs": [],
   "source": [
    "# There is No Data for This\n",
    "def get_ood_set(topn=10):\n",
    "    ood_df = pd.read_excel('combined.xlsx')\n",
    "    return ood_df.sample(topn)"
   ]
  },
  {
   "cell_type": "code",
   "execution_count": 104,
   "metadata": {},
   "outputs": [],
   "source": [
    "ood_df = get_ood_set()"
   ]
  },
  {
   "cell_type": "code",
   "execution_count": 105,
   "metadata": {},
   "outputs": [],
   "source": [
    "model = 'llama-3.1-8b-instant'"
   ]
  },
  {
   "cell_type": "code",
   "execution_count": 106,
   "metadata": {},
   "outputs": [
    {
     "name": "stderr",
     "output_type": "stream",
     "text": [
      "10it [00:48,  4.88s/it]\n"
     ]
    }
   ],
   "source": [
    "results_df = test_range(ood_df, prompt_config_cot, prompt_examples_cot, prompt_prefix_cot, prompt_suffix_cot, pre_processing=your_pre_processing_cot, post_processing=your_post_processing_cot, model=model, debug=False)"
   ]
  },
  {
   "cell_type": "code",
   "execution_count": 107,
   "metadata": {},
   "outputs": [],
   "source": [
    "results_df['corrected_model_responses'] = results_df['model_responses'].apply(your_post_processing_cot)"
   ]
  },
  {
   "cell_type": "code",
   "execution_count": 108,
   "metadata": {},
   "outputs": [
    {
     "name": "stdout",
     "output_type": "stream",
     "text": [
      "                precision    recall  f1-score   support\n",
      "\n",
      "Justification:       0.00      0.00      0.00         0\n",
      "     bussiness       0.00      0.00      0.00         1\n",
      "     education       1.00      0.67      0.80         3\n",
      "       finance       1.00      1.00      1.00         1\n",
      "        health       0.00      0.00      0.00         1\n",
      "      shopping       1.00      1.00      1.00         3\n",
      "        social       1.00      1.00      1.00         1\n",
      "           عند       0.00      0.00      0.00         0\n",
      "         عندما       0.00      0.00      0.00         0\n",
      "\n",
      "      accuracy                           0.70        10\n",
      "     macro avg       0.44      0.41      0.42        10\n",
      "  weighted avg       0.80      0.70      0.74        10\n",
      "\n"
     ]
    },
    {
     "name": "stderr",
     "output_type": "stream",
     "text": [
      "c:\\Users\\Mohamed\\AppData\\Local\\Programs\\Python\\Python312\\Lib\\site-packages\\sklearn\\metrics\\_classification.py:1531: UndefinedMetricWarning: Precision is ill-defined and being set to 0.0 in labels with no predicted samples. Use `zero_division` parameter to control this behavior.\n",
      "  _warn_prf(average, modifier, f\"{metric.capitalize()} is\", len(result))\n",
      "c:\\Users\\Mohamed\\AppData\\Local\\Programs\\Python\\Python312\\Lib\\site-packages\\sklearn\\metrics\\_classification.py:1531: UndefinedMetricWarning: Recall is ill-defined and being set to 0.0 in labels with no true samples. Use `zero_division` parameter to control this behavior.\n",
      "  _warn_prf(average, modifier, f\"{metric.capitalize()} is\", len(result))\n",
      "c:\\Users\\Mohamed\\AppData\\Local\\Programs\\Python\\Python312\\Lib\\site-packages\\sklearn\\metrics\\_classification.py:1531: UndefinedMetricWarning: Precision is ill-defined and being set to 0.0 in labels with no predicted samples. Use `zero_division` parameter to control this behavior.\n",
      "  _warn_prf(average, modifier, f\"{metric.capitalize()} is\", len(result))\n",
      "c:\\Users\\Mohamed\\AppData\\Local\\Programs\\Python\\Python312\\Lib\\site-packages\\sklearn\\metrics\\_classification.py:1531: UndefinedMetricWarning: Recall is ill-defined and being set to 0.0 in labels with no true samples. Use `zero_division` parameter to control this behavior.\n",
      "  _warn_prf(average, modifier, f\"{metric.capitalize()} is\", len(result))\n",
      "c:\\Users\\Mohamed\\AppData\\Local\\Programs\\Python\\Python312\\Lib\\site-packages\\sklearn\\metrics\\_classification.py:1531: UndefinedMetricWarning: Precision is ill-defined and being set to 0.0 in labels with no predicted samples. Use `zero_division` parameter to control this behavior.\n",
      "  _warn_prf(average, modifier, f\"{metric.capitalize()} is\", len(result))\n",
      "c:\\Users\\Mohamed\\AppData\\Local\\Programs\\Python\\Python312\\Lib\\site-packages\\sklearn\\metrics\\_classification.py:1531: UndefinedMetricWarning: Recall is ill-defined and being set to 0.0 in labels with no true samples. Use `zero_division` parameter to control this behavior.\n",
      "  _warn_prf(average, modifier, f\"{metric.capitalize()} is\", len(result))\n"
     ]
    }
   ],
   "source": [
    "print(classification_report(results_df['true_label'], results_df['corrected_model_responses']))"
   ]
  },
  {
   "cell_type": "code",
   "execution_count": 109,
   "metadata": {},
   "outputs": [
    {
     "name": "stderr",
     "output_type": "stream",
     "text": [
      "10it [01:39,  9.96s/it]\n"
     ]
    }
   ],
   "source": [
    "results_df = test_range(ood_df, prompt_config_cot, prompt_examples_cot, prompt_prefix_cot, prompt_suffix_cot, pre_processing=your_pre_processing_cot, post_processing=your_post_processing_cot, model=model, debug=False)"
   ]
  },
  {
   "cell_type": "code",
   "execution_count": 110,
   "metadata": {},
   "outputs": [],
   "source": [
    "results_df['corrected_model_responses'] = results_df['model_responses'].apply(your_post_processing_cot)"
   ]
  },
  {
   "cell_type": "code",
   "execution_count": 111,
   "metadata": {},
   "outputs": [],
   "source": [
    "results_df.to_excel('ood_results.xlsx', index=False)"
   ]
  },
  {
   "cell_type": "code",
   "execution_count": 113,
   "metadata": {},
   "outputs": [],
   "source": [
    "results_df = pd.read_excel('ood_results.xlsx')"
   ]
  },
  {
   "cell_type": "code",
   "execution_count": 114,
   "metadata": {},
   "outputs": [
    {
     "name": "stdout",
     "output_type": "stream",
     "text": [
      "                precision    recall  f1-score   support\n",
      "\n",
      "Justification:     0.0000    0.0000    0.0000         0\n",
      "     bussiness     0.0000    0.0000    0.0000         1\n",
      "     education     1.0000    1.0000    1.0000         3\n",
      "       finance     1.0000    1.0000    1.0000         1\n",
      "        health     0.0000    0.0000    0.0000         1\n",
      "      shopping     1.0000    1.0000    1.0000         3\n",
      "        social     0.0000    0.0000    0.0000         1\n",
      "         عندما     0.0000    0.0000    0.0000         0\n",
      "\n",
      "      accuracy                         0.7000        10\n",
      "     macro avg     0.3750    0.3750    0.3750        10\n",
      "  weighted avg     0.7000    0.7000    0.7000        10\n",
      "\n"
     ]
    },
    {
     "name": "stderr",
     "output_type": "stream",
     "text": [
      "c:\\Users\\Mohamed\\AppData\\Local\\Programs\\Python\\Python312\\Lib\\site-packages\\sklearn\\metrics\\_classification.py:1531: UndefinedMetricWarning: Precision is ill-defined and being set to 0.0 in labels with no predicted samples. Use `zero_division` parameter to control this behavior.\n",
      "  _warn_prf(average, modifier, f\"{metric.capitalize()} is\", len(result))\n",
      "c:\\Users\\Mohamed\\AppData\\Local\\Programs\\Python\\Python312\\Lib\\site-packages\\sklearn\\metrics\\_classification.py:1531: UndefinedMetricWarning: Recall is ill-defined and being set to 0.0 in labels with no true samples. Use `zero_division` parameter to control this behavior.\n",
      "  _warn_prf(average, modifier, f\"{metric.capitalize()} is\", len(result))\n",
      "c:\\Users\\Mohamed\\AppData\\Local\\Programs\\Python\\Python312\\Lib\\site-packages\\sklearn\\metrics\\_classification.py:1531: UndefinedMetricWarning: Precision is ill-defined and being set to 0.0 in labels with no predicted samples. Use `zero_division` parameter to control this behavior.\n",
      "  _warn_prf(average, modifier, f\"{metric.capitalize()} is\", len(result))\n",
      "c:\\Users\\Mohamed\\AppData\\Local\\Programs\\Python\\Python312\\Lib\\site-packages\\sklearn\\metrics\\_classification.py:1531: UndefinedMetricWarning: Recall is ill-defined and being set to 0.0 in labels with no true samples. Use `zero_division` parameter to control this behavior.\n",
      "  _warn_prf(average, modifier, f\"{metric.capitalize()} is\", len(result))\n",
      "c:\\Users\\Mohamed\\AppData\\Local\\Programs\\Python\\Python312\\Lib\\site-packages\\sklearn\\metrics\\_classification.py:1531: UndefinedMetricWarning: Precision is ill-defined and being set to 0.0 in labels with no predicted samples. Use `zero_division` parameter to control this behavior.\n",
      "  _warn_prf(average, modifier, f\"{metric.capitalize()} is\", len(result))\n",
      "c:\\Users\\Mohamed\\AppData\\Local\\Programs\\Python\\Python312\\Lib\\site-packages\\sklearn\\metrics\\_classification.py:1531: UndefinedMetricWarning: Recall is ill-defined and being set to 0.0 in labels with no true samples. Use `zero_division` parameter to control this behavior.\n",
      "  _warn_prf(average, modifier, f\"{metric.capitalize()} is\", len(result))\n"
     ]
    }
   ],
   "source": [
    "print(classification_report(results_df['true_label'], results_df['corrected_model_responses'], digits=4))"
   ]
  },
  {
   "cell_type": "code",
   "execution_count": 115,
   "metadata": {},
   "outputs": [],
   "source": [
    "joined_df = results_df.set_index('text_id').join(ood_df.set_index('text'), lsuffix='_caller', rsuffix='_other')"
   ]
  },
  {
   "cell_type": "code",
   "execution_count": 116,
   "metadata": {},
   "outputs": [
    {
     "ename": "KeyError",
     "evalue": "'domain'",
     "output_type": "error",
     "traceback": [
      "\u001b[1;31m---------------------------------------------------------------------------\u001b[0m",
      "\u001b[1;31mKeyError\u001b[0m                                  Traceback (most recent call last)",
      "File \u001b[1;32mc:\\Users\\Mohamed\\AppData\\Local\\Programs\\Python\\Python312\\Lib\\site-packages\\pandas\\core\\indexes\\base.py:3805\u001b[0m, in \u001b[0;36mIndex.get_loc\u001b[1;34m(self, key)\u001b[0m\n\u001b[0;32m   3804\u001b[0m \u001b[38;5;28;01mtry\u001b[39;00m:\n\u001b[1;32m-> 3805\u001b[0m     \u001b[38;5;28;01mreturn\u001b[39;00m \u001b[38;5;28;43mself\u001b[39;49m\u001b[38;5;241;43m.\u001b[39;49m\u001b[43m_engine\u001b[49m\u001b[38;5;241;43m.\u001b[39;49m\u001b[43mget_loc\u001b[49m\u001b[43m(\u001b[49m\u001b[43mcasted_key\u001b[49m\u001b[43m)\u001b[49m\n\u001b[0;32m   3806\u001b[0m \u001b[38;5;28;01mexcept\u001b[39;00m \u001b[38;5;167;01mKeyError\u001b[39;00m \u001b[38;5;28;01mas\u001b[39;00m err:\n",
      "File \u001b[1;32mindex.pyx:167\u001b[0m, in \u001b[0;36mpandas._libs.index.IndexEngine.get_loc\u001b[1;34m()\u001b[0m\n",
      "File \u001b[1;32mindex.pyx:196\u001b[0m, in \u001b[0;36mpandas._libs.index.IndexEngine.get_loc\u001b[1;34m()\u001b[0m\n",
      "File \u001b[1;32mpandas\\\\_libs\\\\hashtable_class_helper.pxi:7081\u001b[0m, in \u001b[0;36mpandas._libs.hashtable.PyObjectHashTable.get_item\u001b[1;34m()\u001b[0m\n",
      "File \u001b[1;32mpandas\\\\_libs\\\\hashtable_class_helper.pxi:7089\u001b[0m, in \u001b[0;36mpandas._libs.hashtable.PyObjectHashTable.get_item\u001b[1;34m()\u001b[0m\n",
      "\u001b[1;31mKeyError\u001b[0m: 'domain'",
      "\nThe above exception was the direct cause of the following exception:\n",
      "\u001b[1;31mKeyError\u001b[0m                                  Traceback (most recent call last)",
      "Cell \u001b[1;32mIn[116], line 1\u001b[0m\n\u001b[1;32m----> 1\u001b[0m rgn \u001b[38;5;241m=\u001b[39m joined_df\u001b[38;5;241m.\u001b[39mloc[\u001b[43mjoined_df\u001b[49m\u001b[43m[\u001b[49m\u001b[38;5;124;43m'\u001b[39;49m\u001b[38;5;124;43mdomain\u001b[39;49m\u001b[38;5;124;43m'\u001b[39;49m\u001b[43m]\u001b[49m\u001b[38;5;241m==\u001b[39m\u001b[38;5;124m'\u001b[39m\u001b[38;5;124mreligion\u001b[39m\u001b[38;5;124m'\u001b[39m]\n\u001b[0;32m      2\u001b[0m gen \u001b[38;5;241m=\u001b[39m joined_df\u001b[38;5;241m.\u001b[39mloc[joined_df[\u001b[38;5;124m'\u001b[39m\u001b[38;5;124mdomain\u001b[39m\u001b[38;5;124m'\u001b[39m]\u001b[38;5;241m==\u001b[39m\u001b[38;5;124m'\u001b[39m\u001b[38;5;124mgender\u001b[39m\u001b[38;5;124m'\u001b[39m]\n\u001b[0;32m      3\u001b[0m ori \u001b[38;5;241m=\u001b[39m joined_df\u001b[38;5;241m.\u001b[39mloc[joined_df[\u001b[38;5;124m'\u001b[39m\u001b[38;5;124mdomain\u001b[39m\u001b[38;5;124m'\u001b[39m]\u001b[38;5;241m==\u001b[39m\u001b[38;5;124m'\u001b[39m\u001b[38;5;124morientation\u001b[39m\u001b[38;5;124m'\u001b[39m]\n",
      "File \u001b[1;32mc:\\Users\\Mohamed\\AppData\\Local\\Programs\\Python\\Python312\\Lib\\site-packages\\pandas\\core\\frame.py:4102\u001b[0m, in \u001b[0;36mDataFrame.__getitem__\u001b[1;34m(self, key)\u001b[0m\n\u001b[0;32m   4100\u001b[0m \u001b[38;5;28;01mif\u001b[39;00m \u001b[38;5;28mself\u001b[39m\u001b[38;5;241m.\u001b[39mcolumns\u001b[38;5;241m.\u001b[39mnlevels \u001b[38;5;241m>\u001b[39m \u001b[38;5;241m1\u001b[39m:\n\u001b[0;32m   4101\u001b[0m     \u001b[38;5;28;01mreturn\u001b[39;00m \u001b[38;5;28mself\u001b[39m\u001b[38;5;241m.\u001b[39m_getitem_multilevel(key)\n\u001b[1;32m-> 4102\u001b[0m indexer \u001b[38;5;241m=\u001b[39m \u001b[38;5;28;43mself\u001b[39;49m\u001b[38;5;241;43m.\u001b[39;49m\u001b[43mcolumns\u001b[49m\u001b[38;5;241;43m.\u001b[39;49m\u001b[43mget_loc\u001b[49m\u001b[43m(\u001b[49m\u001b[43mkey\u001b[49m\u001b[43m)\u001b[49m\n\u001b[0;32m   4103\u001b[0m \u001b[38;5;28;01mif\u001b[39;00m is_integer(indexer):\n\u001b[0;32m   4104\u001b[0m     indexer \u001b[38;5;241m=\u001b[39m [indexer]\n",
      "File \u001b[1;32mc:\\Users\\Mohamed\\AppData\\Local\\Programs\\Python\\Python312\\Lib\\site-packages\\pandas\\core\\indexes\\base.py:3812\u001b[0m, in \u001b[0;36mIndex.get_loc\u001b[1;34m(self, key)\u001b[0m\n\u001b[0;32m   3807\u001b[0m     \u001b[38;5;28;01mif\u001b[39;00m \u001b[38;5;28misinstance\u001b[39m(casted_key, \u001b[38;5;28mslice\u001b[39m) \u001b[38;5;129;01mor\u001b[39;00m (\n\u001b[0;32m   3808\u001b[0m         \u001b[38;5;28misinstance\u001b[39m(casted_key, abc\u001b[38;5;241m.\u001b[39mIterable)\n\u001b[0;32m   3809\u001b[0m         \u001b[38;5;129;01mand\u001b[39;00m \u001b[38;5;28many\u001b[39m(\u001b[38;5;28misinstance\u001b[39m(x, \u001b[38;5;28mslice\u001b[39m) \u001b[38;5;28;01mfor\u001b[39;00m x \u001b[38;5;129;01min\u001b[39;00m casted_key)\n\u001b[0;32m   3810\u001b[0m     ):\n\u001b[0;32m   3811\u001b[0m         \u001b[38;5;28;01mraise\u001b[39;00m InvalidIndexError(key)\n\u001b[1;32m-> 3812\u001b[0m     \u001b[38;5;28;01mraise\u001b[39;00m \u001b[38;5;167;01mKeyError\u001b[39;00m(key) \u001b[38;5;28;01mfrom\u001b[39;00m \u001b[38;5;21;01merr\u001b[39;00m\n\u001b[0;32m   3813\u001b[0m \u001b[38;5;28;01mexcept\u001b[39;00m \u001b[38;5;167;01mTypeError\u001b[39;00m:\n\u001b[0;32m   3814\u001b[0m     \u001b[38;5;66;03m# If we have a listlike key, _check_indexing_error will raise\u001b[39;00m\n\u001b[0;32m   3815\u001b[0m     \u001b[38;5;66;03m#  InvalidIndexError. Otherwise we fall through and re-raise\u001b[39;00m\n\u001b[0;32m   3816\u001b[0m     \u001b[38;5;66;03m#  the TypeError.\u001b[39;00m\n\u001b[0;32m   3817\u001b[0m     \u001b[38;5;28mself\u001b[39m\u001b[38;5;241m.\u001b[39m_check_indexing_error(key)\n",
      "\u001b[1;31mKeyError\u001b[0m: 'domain'"
     ]
    }
   ],
   "source": [
    "rgn = joined_df.loc[joined_df['domain']=='religion']\n",
    "gen = joined_df.loc[joined_df['domain']=='gender']\n",
    "ori = joined_df.loc[joined_df['domain']=='orientation']"
   ]
  },
  {
   "cell_type": "code",
   "execution_count": null,
   "metadata": {},
   "outputs": [],
   "source": [
    "print(classification_report(rgn['offense_caller'], rgn['corrected_model_responses'], digits=4))\n",
    "print(classification_report(gen['offense_caller'], gen['corrected_model_responses'], digits=4))\n",
    "print(classification_report(ori['offense_caller'], ori['corrected_model_responses'], digits=4))\n"
   ]
  },
  {
   "attachments": {},
   "cell_type": "markdown",
   "metadata": {},
   "source": [
    "## ZSL OOD"
   ]
  },
  {
   "cell_type": "code",
   "execution_count": null,
   "metadata": {},
   "outputs": [],
   "source": [
    "results_df = test_range(ood_df, prompt_config_zs, prompt_examples_zs, prompt_prefix_zs, prompt_suffix_zs, pre_processing=your_pre_processing_zs, post_processing=your_post_processing_zs, model=model, debug=False)\n"
   ]
  },
  {
   "cell_type": "code",
   "execution_count": null,
   "metadata": {},
   "outputs": [],
   "source": [
    "results_df.to_csv('zsl_ood_results.csv', index=False)"
   ]
  },
  {
   "cell_type": "code",
   "execution_count": null,
   "metadata": {},
   "outputs": [],
   "source": [
    "joined_df = results_df.set_index('text_id').join(ood_df.set_index('id'), lsuffix='_caller', rsuffix='_other')"
   ]
  },
  {
   "cell_type": "code",
   "execution_count": null,
   "metadata": {},
   "outputs": [],
   "source": [
    "rgn = joined_df.loc[joined_df['domain']=='religion']\n",
    "gen = joined_df.loc[joined_df['domain']=='gender']\n",
    "ori = joined_df.loc[joined_df['domain']=='orientation']"
   ]
  },
  {
   "cell_type": "code",
   "execution_count": null,
   "metadata": {},
   "outputs": [],
   "source": [
    "print(classification_report(rgn['offense_caller'], rgn['corrected_model_responses'], digits=4))\n",
    "print(classification_report(gen['offense_caller'], gen['corrected_model_responses'], digits=4))\n",
    "print(classification_report(ori['offense_caller'], ori['corrected_model_responses'], digits=4))\n",
    "print(classification_report(joined_df['offense_caller'], joined_df['corrected_model_responses'], digits=4))"
   ]
  },
  {
   "cell_type": "markdown",
   "metadata": {},
   "source": [
    "## ICL OOD"
   ]
  },
  {
   "cell_type": "code",
   "execution_count": null,
   "metadata": {},
   "outputs": [],
   "source": [
    "results_df = test_range(ood_df, prompt_config_zs, prompt_examples_icl, prompt_prefix_icl, prompt_suffix_icl, pre_processing=your_pre_processing_zs, post_processing=your_post_processing_zs, model=model, debug=False)\n",
    "results_df.to_csv('icl_ood_results_50ex.csv', index=False)"
   ]
  },
  {
   "cell_type": "code",
   "execution_count": null,
   "metadata": {},
   "outputs": [],
   "source": [
    "joined_df = results_df.set_index('text_id').join(ood_df.set_index('id'), lsuffix='_caller', rsuffix='_other')"
   ]
  },
  {
   "cell_type": "code",
   "execution_count": null,
   "metadata": {},
   "outputs": [],
   "source": [
    "rgn = joined_df.loc[joined_df['domain']=='religion']\n",
    "gen = joined_df.loc[joined_df['domain']=='gender']\n",
    "ori = joined_df.loc[joined_df['domain']=='orientation']"
   ]
  },
  {
   "cell_type": "code",
   "execution_count": null,
   "metadata": {},
   "outputs": [],
   "source": [
    "print(classification_report(rgn['offense_caller'], rgn['corrected_model_responses'], digits=4))\n",
    "print(classification_report(gen['offense_caller'], gen['corrected_model_responses'], digits=4))\n",
    "print(classification_report(ori['offense_caller'], ori['corrected_model_responses'], digits=4))\n",
    "print(classification_report(joined_df['offense_caller'], joined_df['corrected_model_responses'], digits=4))"
   ]
  },
  {
   "cell_type": "code",
   "execution_count": null,
   "metadata": {},
   "outputs": [],
   "source": []
  }
 ],
 "metadata": {
  "kernelspec": {
   "display_name": "Python 3",
   "language": "python",
   "name": "python3"
  },
  "language_info": {
   "codemirror_mode": {
    "name": "ipython",
    "version": 3
   },
   "file_extension": ".py",
   "mimetype": "text/x-python",
   "name": "python",
   "nbconvert_exporter": "python",
   "pygments_lexer": "ipython3",
   "version": "3.12.5"
  },
  "orig_nbformat": 4
 },
 "nbformat": 4,
 "nbformat_minor": 2
}
