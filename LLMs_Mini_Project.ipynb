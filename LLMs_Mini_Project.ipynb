{
  "nbformat": 4,
  "nbformat_minor": 0,
  "metadata": {
    "colab": {
      "provenance": []
    },
    "kernelspec": {
      "name": "python3",
      "display_name": "Python 3"
    },
    "language_info": {
      "name": "python"
    }
  },
  "cells": [
    {
      "cell_type": "code",
      "source": [
        "import base64\n",
        "from cryptography.fernet import Fernet\n",
        "from cryptography.hazmat.primitives import hashes\n",
        "from cryptography.hazmat.primitives.kdf.pbkdf2 import PBKDF2HMAC\n",
        "from cryptography.hazmat.backends import default_backend\n",
        "# The Message is :\n",
        "# gAAAAABo5rfnav-UL02oGprSe7eaIKsTe_jDeEfUiXvd0evdHiO72oqUqE9boGfXvUgipqXNmrsPMCQmUkNIiiANC0Zauo48UlyyePiEVGAXb0elmsUgpCHY0g3_VkBI6vr3dZCgz-J6LqxPKsRN0n7-6PrHJUPD4N6E4xpOjJJBePV5-eT-wsYyvp4oavJ177Lhp7D156gaXIbyF2_hS_FICDV-GSHbeu5QqS_LPKiD8Epg9FD652lsCL5DW2fD5tejltsRFqQF-5yBlr_HDFV70tB19-hegR1t6nC5DJlNEHSb_faf6la2zyUCVjEcXxqzUkDa9HHiGqAxVrvvrnsn5pGr5tG6IJeE0ZzPP6vPPcl53aanSgrouKDotiGRC40IDlcEOfegQnKMPYmhzTTz-TK9nyMaRX4CW02KAsqsJnzSCGTWB1W_CgJA8E_ETs1Bn-Ye_UBtRIQH2LhzCQ2YTx9XujxWO9xd9U0X6BpACW9jlQ9B38JwRYMnOBjXJCgBTY7QHU5-93hJ14HEQuOVibrdZFPBhlgZ2Ataxq333tVWn25n3TJPvxcBL3zLVSTxLVSUvWxVFDj7oOcVw94VYxphcmvW3KYe5metQQ0BCJRZyasMaq0tyVqKdR8Sg7S2rDmO3eYKSRuZ4kcL7jDvg6mYAO7-rmOIw9P-_yKY2Zussiq5ZtyzM-J7X8QwAxRYeqo20UkBaeITurDsjPzUZy01aleq1rEgPFmDUfZUYX5WE78CMp-QQhgg690Qib5eEnB4hh8oadYnBloC7ZzP-wejMgna1PKHzJ8pTRzIZufHkz2fWOIKcFloBv8vFF_5XkpAaVtoQ0gqbOmD7mciPyq6SeuzZHNBqrLPORkp-yTmUUzozjgjdo_X-mTolXszA0a_JJ9M-OBA6M2T5r1_pdcju4U_d875mSuSW9s2LQ7h-CaQDIzm2DA7IF8vUQV9TORjO1TIyXE5NgQf58Ws8cQUIEaLg8s0beByVcme-NFkvKqjaGk1wKsqz_tHUzB0Xbt0aVlvcsPqHl8F4-29MozskkSm4nIiPSyLL6ngy_OP3lHSWvPicZI1n5AxKXDThIPQEnLva_GlBYz_3J_0HXz57c6PsuVWVON4ZMVrqmyPUx3_d_W1igiBG92DKS6CORafaz9AXBItaf3NuXb6MGCo4PkkjjlUIgBoiyzz1vIp2JsQovoHEfCFoYlmsEvrt5F5of3VGox-y9UZ3i1GiTNKc2WvpLv0HQALDx4TGwraUI7B4PxhLUWPvlR_KToleok-VUyF\n",
        "# The Key is The Title in the title in  Innovations pdf you have send with Github and data\n",
        "password = input(\"Enter your phrase key: \").encode()\n",
        "salt = b'static_salt_123'\n",
        "kdf = PBKDF2HMAC(\n",
        "    algorithm=hashes.SHA256(),\n",
        "    length=32,\n",
        "    salt=salt,\n",
        "    iterations=390000,\n",
        "    backend=default_backend()\n",
        ")\n",
        "key = base64.urlsafe_b64encode(kdf.derive(password))\n",
        "cipher = Fernet(key)\n",
        "\n",
        "\n",
        "mode = input(\"Encrypt (E) or Decrypt (D)? \").strip().upper()\n",
        "\n",
        "if mode == 'E':\n",
        "    msg = input(\"Enter message to encrypt: \").encode()\n",
        "    encrypted = cipher.encrypt(msg)\n",
        "    print(\"\\n Encrypted:\\n\", encrypted.decode())\n",
        "elif mode == 'D':\n",
        "    msg = input(\"Enter encrypted text: \").encode()\n",
        "    try:\n",
        "        decrypted = cipher.decrypt(msg).decode()\n",
        "        print(\"\\n Decrypted:\\n\", decrypted)\n",
        "    except Exception:\n",
        "        print(\" Wrong phrase or corrupted message.\")\n"
      ],
      "metadata": {
        "id": "8REE1qpKLP8Z"
      },
      "execution_count": null,
      "outputs": []
    }
  ]
}